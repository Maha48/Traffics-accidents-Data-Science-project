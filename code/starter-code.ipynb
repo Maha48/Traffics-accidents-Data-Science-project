{
 "cells": [
  {
   "cell_type": "markdown",
   "metadata": {},
   "source": [
    "# Project 1: Driving Licenses, Traffic Accidents and Casualties Analysis"
   ]
  },
  {
   "cell_type": "markdown",
   "metadata": {},
   "source": [
    "## Problem Statment\n",
    "\n",
    "Craft your problem statement here using the prompt from the README and other sources you find during your investigation."
   ]
  },
  {
   "cell_type": "markdown",
   "metadata": {},
   "source": [
    "<p> In this data for driving licenses and traffic accidents in Saudi Arabia, we use them to measure the rate of increase in accidents in 2018 and compare it with previous years to note whether Saudi women driving affected the accident rate, as allowing women to drive is a major change in data in Saudi Arabia.</p>"
   ]
  },
  {
   "cell_type": "markdown",
   "metadata": {},
   "source": [
    "## Executive Summary\n",
    "Write an executive summary that summarizes the problem and your key findings."
   ]
  },
  {
   "cell_type": "markdown",
   "metadata": {},
   "source": [
    "Women driving in Saudi Arabia has greatly reduced accidents, which proves the ability of women and their commitment to traffic and safety regulations"
   ]
  },
  {
   "cell_type": "markdown",
   "metadata": {},
   "source": [
    "### Contents:\n",
    "- [Datasets Description](#Datasets-Description)\n",
    "- [Data Import & Cleaning](#Data-Import-and-Cleaning)\n",
    "- [Exploratory Data Analysis](#Exploratory-Data-Analysis)\n",
    "- [Data Visualization](#Visualize-the-data)\n",
    "- [Descriptive and Inferential Statistics](#Descriptive-and-Inferential-Statistics)\n",
    "- [Outside Research](#Outside-Research)\n",
    "- [Conclusions and Recommendations](#Conclusions-and-Recommendations)"
   ]
  },
  {
   "cell_type": "markdown",
   "metadata": {},
   "source": [
    "**If you combine your problem statement, executive summary, data dictionary, and conclusions/recommendations, you have an amazing README.md file that quickly aligns your audience to the contents of your project.** Don't forget to cite your data sources!"
   ]
  },
  {
   "cell_type": "markdown",
   "metadata": {},
   "source": [
    "*All libraries used should be added here, including any Jupyter magic commands*"
   ]
  },
  {
   "cell_type": "code",
   "execution_count": 1,
   "metadata": {},
   "outputs": [],
   "source": [
    "import pandas as pd\n",
    "import numpy as np\n",
    "import seaborn as sns\n",
    "import matplotlib.pyplot as plt\n",
    "from scipy import stats\n",
    "\n",
    "%matplotlib inline"
   ]
  },
  {
   "cell_type": "markdown",
   "metadata": {},
   "source": [
    "## Datasets Description\n",
    "\n",
    "[Driving Licenses](https://datasource.kapsarc.org/explore/dataset/saudi-arabia-driving-licenses-issued-in-the-kingdom-2004-2008/information/?disjunctive.administritive_area&sort=time_period&location=5,24.37495,45.08024&basemap=jawg.streets)\n",
    "This dataset contains Saudi Arabia Driving Licenses Issued By Administrative Area for 1993 - 2016. Data from General Authority for Statistics . Follow datasource.kapsarc.org for timely data to advance energy economics research.\n",
    "\n",
    "[Traffic Accidents and Casualties](https://datasource.kapsarc.org/explore/dataset/saudi-arabia-traffic-accidents-and-casualties-injured-dead-2008/export/?disjunctive.region&disjunctive.indicator&sort=time_period)\n",
    "This dataset contains Saudi Arabia Traffic Accidents and Casualties by Region for 2016. Data from General Authority for Statistics. Follow datasource.kapsarc.org for timely data to advance energy economics research.\n"
   ]
  },
  {
   "cell_type": "markdown",
   "metadata": {},
   "source": [
    "## Data Import and Cleaning"
   ]
  },
  {
   "cell_type": "markdown",
   "metadata": {},
   "source": [
    "#### 1. Read In Driving Licenses & Traffic Accidents Data\n",
    "Read in the `saudi-arabia-traffic-accidents-2008.csv` and `saudi-arabia-driving-licenses-2004-2008.csv` files and assign them to appropriately named pandas dataframes."
   ]
  },
  {
   "cell_type": "code",
   "execution_count": 2,
   "metadata": {},
   "outputs": [],
   "source": [
    "traffic_accidents = pd.read_csv(\"../data/saudi-arabia-traffic-accidents-2008.csv\",sep=\";\",index_col=[0])"
   ]
  },
  {
   "cell_type": "code",
   "execution_count": 3,
   "metadata": {},
   "outputs": [],
   "source": [
    "driving_licenses = pd.read_csv(\"../data/saudi-arabia-driving-licenses-2004-2008.csv\",sep=\";\")"
   ]
  },
  {
   "cell_type": "markdown",
   "metadata": {},
   "source": [
    "#### 2. Display data\n",
    "\n",
    "Print the first 10 rows of each dataframe to your jupyter notebook"
   ]
  },
  {
   "cell_type": "code",
   "execution_count": 4,
   "metadata": {
    "scrolled": true
   },
   "outputs": [
    {
     "data": {
      "text/html": [
       "<div>\n",
       "<style scoped>\n",
       "    .dataframe tbody tr th:only-of-type {\n",
       "        vertical-align: middle;\n",
       "    }\n",
       "\n",
       "    .dataframe tbody tr th {\n",
       "        vertical-align: top;\n",
       "    }\n",
       "\n",
       "    .dataframe thead th {\n",
       "        text-align: right;\n",
       "    }\n",
       "</style>\n",
       "<table border=\"1\" class=\"dataframe\">\n",
       "  <thead>\n",
       "    <tr style=\"text-align: right;\">\n",
       "      <th></th>\n",
       "      <th>Unnamed: 0.1</th>\n",
       "      <th>Year</th>\n",
       "      <th>Region</th>\n",
       "      <th>Indicator</th>\n",
       "      <th>Value</th>\n",
       "      <th>geo_point_2d</th>\n",
       "    </tr>\n",
       "  </thead>\n",
       "  <tbody>\n",
       "    <tr>\n",
       "      <th>0</th>\n",
       "      <td>0</td>\n",
       "      <td>(2016)</td>\n",
       "      <td>Makkah</td>\n",
       "      <td>No. of Casualties - Injured</td>\n",
       "      <td>12383n</td>\n",
       "      <td>21.628962766, 41.2636898334</td>\n",
       "    </tr>\n",
       "    <tr>\n",
       "      <th>1</th>\n",
       "      <td>1</td>\n",
       "      <td>(2016)</td>\n",
       "      <td>Eastern Region</td>\n",
       "      <td>No. of Casualties - Dead</td>\n",
       "      <td>1113n</td>\n",
       "      <td>23.2883307307, 50.1478302439</td>\n",
       "    </tr>\n",
       "    <tr>\n",
       "      <th>2</th>\n",
       "      <td>2</td>\n",
       "      <td>(2016)</td>\n",
       "      <td>Tabouk</td>\n",
       "      <td>No. of Casualties - Dead</td>\n",
       "      <td>434n</td>\n",
       "      <td>27.90165499, 37.2598581394</td>\n",
       "    </tr>\n",
       "    <tr>\n",
       "      <th>3</th>\n",
       "      <td>3</td>\n",
       "      <td>(2016)</td>\n",
       "      <td>Hail</td>\n",
       "      <td>No. of Casualties - Dead</td>\n",
       "      <td>299n</td>\n",
       "      <td>27.400845724, 41.4406960508</td>\n",
       "    </tr>\n",
       "    <tr>\n",
       "      <th>4</th>\n",
       "      <td>4</td>\n",
       "      <td>(2016)</td>\n",
       "      <td>Hail</td>\n",
       "      <td>No. of Accidents</td>\n",
       "      <td>10199n</td>\n",
       "      <td>27.400845724, 41.4406960508</td>\n",
       "    </tr>\n",
       "    <tr>\n",
       "      <th>5</th>\n",
       "      <td>5</td>\n",
       "      <td>(2016)</td>\n",
       "      <td>Northern Boarder</td>\n",
       "      <td>No. of Casualties - Dead</td>\n",
       "      <td>193n</td>\n",
       "      <td>30.197074783, 41.8171186952</td>\n",
       "    </tr>\n",
       "    <tr>\n",
       "      <th>6</th>\n",
       "      <td>6</td>\n",
       "      <td>(2017)</td>\n",
       "      <td>Jazan</td>\n",
       "      <td>No. of Accidents</td>\n",
       "      <td>22161n</td>\n",
       "      <td>17.2072313962, 42.6525807422</td>\n",
       "    </tr>\n",
       "    <tr>\n",
       "      <th>7</th>\n",
       "      <td>7</td>\n",
       "      <td>(2017)</td>\n",
       "      <td>Al-Jouf</td>\n",
       "      <td>No. of Accidents</td>\n",
       "      <td>10469n</td>\n",
       "      <td>29.9677445762, 39.5570371172</td>\n",
       "    </tr>\n",
       "    <tr>\n",
       "      <th>8</th>\n",
       "      <td>8</td>\n",
       "      <td>(2017)</td>\n",
       "      <td>Total</td>\n",
       "      <td>No. of Casualties - Dead</td>\n",
       "      <td>7489n</td>\n",
       "      <td>NaN</td>\n",
       "    </tr>\n",
       "    <tr>\n",
       "      <th>9</th>\n",
       "      <td>9</td>\n",
       "      <td>(2016)</td>\n",
       "      <td>Northern Boarder</td>\n",
       "      <td>No. of Casualties - Injured</td>\n",
       "      <td>631n</td>\n",
       "      <td>30.197074783, 41.8171186952</td>\n",
       "    </tr>\n",
       "  </tbody>\n",
       "</table>\n",
       "</div>"
      ],
      "text/plain": [
       "   Unnamed: 0.1    Year            Region                    Indicator  \\\n",
       "0             0  (2016)            Makkah  No. of Casualties - Injured   \n",
       "1             1  (2016)    Eastern Region     No. of Casualties - Dead   \n",
       "2             2  (2016)            Tabouk     No. of Casualties - Dead   \n",
       "3             3  (2016)              Hail     No. of Casualties - Dead   \n",
       "4             4  (2016)              Hail             No. of Accidents   \n",
       "5             5  (2016)  Northern Boarder     No. of Casualties - Dead   \n",
       "6             6  (2017)             Jazan             No. of Accidents   \n",
       "7             7  (2017)           Al-Jouf             No. of Accidents   \n",
       "8             8  (2017)             Total     No. of Casualties - Dead   \n",
       "9             9  (2016)  Northern Boarder  No. of Casualties - Injured   \n",
       "\n",
       "    Value                  geo_point_2d  \n",
       "0  12383n   21.628962766, 41.2636898334  \n",
       "1   1113n  23.2883307307, 50.1478302439  \n",
       "2    434n    27.90165499, 37.2598581394  \n",
       "3    299n   27.400845724, 41.4406960508  \n",
       "4  10199n   27.400845724, 41.4406960508  \n",
       "5    193n   30.197074783, 41.8171186952  \n",
       "6  22161n  17.2072313962, 42.6525807422  \n",
       "7  10469n  29.9677445762, 39.5570371172  \n",
       "8   7489n                           NaN  \n",
       "9    631n   30.197074783, 41.8171186952  "
      ]
     },
     "execution_count": 4,
     "metadata": {},
     "output_type": "execute_result"
    }
   ],
   "source": [
    "traffic_accidents.head(10)"
   ]
  },
  {
   "cell_type": "code",
   "execution_count": 5,
   "metadata": {},
   "outputs": [
    {
     "data": {
      "text/html": [
       "<div>\n",
       "<style scoped>\n",
       "    .dataframe tbody tr th:only-of-type {\n",
       "        vertical-align: middle;\n",
       "    }\n",
       "\n",
       "    .dataframe tbody tr th {\n",
       "        vertical-align: top;\n",
       "    }\n",
       "\n",
       "    .dataframe thead th {\n",
       "        text-align: right;\n",
       "    }\n",
       "</style>\n",
       "<table border=\"1\" class=\"dataframe\">\n",
       "  <thead>\n",
       "    <tr style=\"text-align: right;\">\n",
       "      <th></th>\n",
       "      <th>Unnamed: 0</th>\n",
       "      <th>Year</th>\n",
       "      <th>Administritive Area</th>\n",
       "      <th>Driving Liceses</th>\n",
       "      <th>geo_point_2d</th>\n",
       "    </tr>\n",
       "  </thead>\n",
       "  <tbody>\n",
       "    <tr>\n",
       "      <th>0</th>\n",
       "      <td>0</td>\n",
       "      <td>(2012)</td>\n",
       "      <td>Makkah</td>\n",
       "      <td>143954n</td>\n",
       "      <td>21.628962766, 41.2636898334</td>\n",
       "    </tr>\n",
       "    <tr>\n",
       "      <th>1</th>\n",
       "      <td>1</td>\n",
       "      <td>(1994)</td>\n",
       "      <td>Makkah</td>\n",
       "      <td>75349n</td>\n",
       "      <td>21.628962766, 41.2636898334</td>\n",
       "    </tr>\n",
       "    <tr>\n",
       "      <th>2</th>\n",
       "      <td>2</td>\n",
       "      <td>(1998)</td>\n",
       "      <td>Makkah</td>\n",
       "      <td>86082n</td>\n",
       "      <td>21.628962766, 41.2636898334</td>\n",
       "    </tr>\n",
       "    <tr>\n",
       "      <th>3</th>\n",
       "      <td>3</td>\n",
       "      <td>(2004)</td>\n",
       "      <td>Makkah</td>\n",
       "      <td>86636n</td>\n",
       "      <td>21.628962766, 41.2636898334</td>\n",
       "    </tr>\n",
       "    <tr>\n",
       "      <th>4</th>\n",
       "      <td>4</td>\n",
       "      <td>(2005)</td>\n",
       "      <td>Makkah</td>\n",
       "      <td>65099n</td>\n",
       "      <td>21.628962766, 41.2636898334</td>\n",
       "    </tr>\n",
       "    <tr>\n",
       "      <th>5</th>\n",
       "      <td>5</td>\n",
       "      <td>(2008)</td>\n",
       "      <td>Makkah</td>\n",
       "      <td>77013n</td>\n",
       "      <td>21.628962766, 41.2636898334</td>\n",
       "    </tr>\n",
       "    <tr>\n",
       "      <th>6</th>\n",
       "      <td>6</td>\n",
       "      <td>(2014)</td>\n",
       "      <td>Madinah</td>\n",
       "      <td>31447n</td>\n",
       "      <td>24.927534539, 39.4918237173</td>\n",
       "    </tr>\n",
       "    <tr>\n",
       "      <th>7</th>\n",
       "      <td>7</td>\n",
       "      <td>(2013)</td>\n",
       "      <td>Madinah</td>\n",
       "      <td>28513n</td>\n",
       "      <td>24.927534539, 39.4918237173</td>\n",
       "    </tr>\n",
       "    <tr>\n",
       "      <th>8</th>\n",
       "      <td>8</td>\n",
       "      <td>(2012)</td>\n",
       "      <td>Madinah</td>\n",
       "      <td>14459n</td>\n",
       "      <td>24.927534539, 39.4918237173</td>\n",
       "    </tr>\n",
       "    <tr>\n",
       "      <th>9</th>\n",
       "      <td>9</td>\n",
       "      <td>(1994)</td>\n",
       "      <td>Madinah</td>\n",
       "      <td>3767n</td>\n",
       "      <td>24.927534539, 39.4918237173</td>\n",
       "    </tr>\n",
       "  </tbody>\n",
       "</table>\n",
       "</div>"
      ],
      "text/plain": [
       "   Unnamed: 0    Year Administritive Area Driving Liceses  \\\n",
       "0           0  (2012)              Makkah         143954n   \n",
       "1           1  (1994)              Makkah          75349n   \n",
       "2           2  (1998)              Makkah          86082n   \n",
       "3           3  (2004)              Makkah          86636n   \n",
       "4           4  (2005)              Makkah          65099n   \n",
       "5           5  (2008)              Makkah          77013n   \n",
       "6           6  (2014)             Madinah          31447n   \n",
       "7           7  (2013)             Madinah          28513n   \n",
       "8           8  (2012)             Madinah          14459n   \n",
       "9           9  (1994)             Madinah           3767n   \n",
       "\n",
       "                  geo_point_2d  \n",
       "0  21.628962766, 41.2636898334  \n",
       "1  21.628962766, 41.2636898334  \n",
       "2  21.628962766, 41.2636898334  \n",
       "3  21.628962766, 41.2636898334  \n",
       "4  21.628962766, 41.2636898334  \n",
       "5  21.628962766, 41.2636898334  \n",
       "6  24.927534539, 39.4918237173  \n",
       "7  24.927534539, 39.4918237173  \n",
       "8  24.927534539, 39.4918237173  \n",
       "9  24.927534539, 39.4918237173  "
      ]
     },
     "execution_count": 5,
     "metadata": {},
     "output_type": "execute_result"
    }
   ],
   "source": [
    "driving_licenses.head(10)"
   ]
  },
  {
   "cell_type": "markdown",
   "metadata": {},
   "source": [
    "#### 3. Briefly describe the data\n",
    "\n",
    "Take your time looking through the data and briefly describe the data in the markdown cell below. Note things about what the columns might mean, and the general information that is conveyed in the dataframe."
   ]
  },
  {
   "cell_type": "markdown",
   "metadata": {},
   "source": [
    "\n",
    "<h6> traffic_accidents Dataset contains the following columns: \n",
    "    </h6>\n",
    "    \n",
    "<p> Unnamed: 0.1:Extra index .<br>\n",
    "Year   : The year of calculating these cases <br>\n",
    "Region : The region in which these cases were counted<br>\n",
    "Indicator: Indicator of  Injured, Dead and Accidents<br>\n",
    "Value : Value for each indicator<br>\n",
    "geo_point_2d: The geo point for each region<br>\n",
    "\n",
    "<h6> driving_licenses Dataset contains the following columns:</h6>\n",
    "<p> Year : The year the licenses were issued<br>\n",
    "Administritive Area : The license issuance area<br>\n",
    "Driving Liceses\t: Number of licenses issued<br>\n",
    "geo_point_2d: The geo point for each Area</p>\n",
    "\n",
    "<br>\n",
    "From my observation of the traffic accident data that they contain the main regions in the Kingdom of Saudi Arabia describing the types of accidents in each region in the years between 2016-2017.\n",
    "As for the driving licenses data, it shows the number of licenses issued in the main regions of Saudi Arabia every year between 1993-2017\n",
    "\n"
   ]
  },
  {
   "cell_type": "markdown",
   "metadata": {},
   "source": [
    "#### 4a. How complete is the data?\n",
    "\n",
    "Investigate missing values etc."
   ]
  },
  {
   "cell_type": "code",
   "execution_count": 6,
   "metadata": {},
   "outputs": [
    {
     "data": {
      "text/plain": [
       "Unnamed: 0              0\n",
       "Year                    0\n",
       "Administritive Area     0\n",
       "Driving Liceses         0\n",
       "geo_point_2d           25\n",
       "dtype: int64"
      ]
     },
     "execution_count": 6,
     "metadata": {},
     "output_type": "execute_result"
    }
   ],
   "source": [
    "driving_licenses.isna().sum()"
   ]
  },
  {
   "cell_type": "markdown",
   "metadata": {},
   "source": [
    "there is 25 missing value at geo_point_2d column"
   ]
  },
  {
   "cell_type": "code",
   "execution_count": 7,
   "metadata": {
    "scrolled": true
   },
   "outputs": [
    {
     "data": {
      "text/plain": [
       "Unnamed: 0.1    0\n",
       "Year            0\n",
       "Region          0\n",
       "Indicator       0\n",
       "Value           0\n",
       "geo_point_2d    6\n",
       "dtype: int64"
      ]
     },
     "execution_count": 7,
     "metadata": {},
     "output_type": "execute_result"
    }
   ],
   "source": [
    "traffic_accidents.isna().sum()"
   ]
  },
  {
   "cell_type": "markdown",
   "metadata": {},
   "source": [
    "there is 6 missing value at geo_point_2d column"
   ]
  },
  {
   "cell_type": "markdown",
   "metadata": {},
   "source": [
    "#### 4b. Are there any obvious issues with the observations?\n",
    "\n",
    "**What is the minimum *possible* value for each dataset? What is the maximum *possible* value?**"
   ]
  },
  {
   "cell_type": "markdown",
   "metadata": {},
   "source": [
    "<p>There are problems with formatting the data. Column names are unclear, the Years column contains parentheses, and the Values column contains text</p>"
   ]
  },
  {
   "cell_type": "code",
   "execution_count": 8,
   "metadata": {
    "scrolled": true
   },
   "outputs": [
    {
     "name": "stdout",
     "output_type": "stream",
     "text": [
      "minimum possible value for traffic_accidents dataset\n",
      " Unnamed: 0.1                   0\n",
      "Year                      (2016)\n",
      "Region                  Al-Baaha\n",
      "Indicator       No. of Accidents\n",
      "Value                      1007n\n",
      "dtype: object \n",
      " and maximum possible value is\n",
      "Unnamed: 0.1                             83\n",
      "Year                                 (2017)\n",
      "Region                                Total\n",
      "Indicator       No. of Casualties - Injured\n",
      "Value                                99925n\n",
      "dtype: object\n"
     ]
    }
   ],
   "source": [
    "print(f\"minimum possible value for traffic_accidents dataset\\n {traffic_accidents.min()} \\n and maximum possible value is\\n{traffic_accidents.max()}\")"
   ]
  },
  {
   "cell_type": "code",
   "execution_count": 9,
   "metadata": {},
   "outputs": [
    {
     "name": "stdout",
     "output_type": "stream",
     "text": [
      "minimum possible value for driving_licenses dataset\n",
      " Unnamed: 0                   0\n",
      "Year                    (1993)\n",
      "Administritive Area    Al-Baha\n",
      "Driving Liceses        100291n\n",
      "dtype: object \n",
      " and maximum possible value is\n",
      "Unnamed: 0                349\n",
      "Year                   (2017)\n",
      "Administritive Area     Total\n",
      "Driving Liceses         9983n\n",
      "dtype: object\n"
     ]
    }
   ],
   "source": [
    "print(f\"minimum possible value for driving_licenses dataset\\n {driving_licenses.min()} \\n and maximum possible value is\\n{driving_licenses.max()}\")"
   ]
  },
  {
   "cell_type": "markdown",
   "metadata": {},
   "source": [
    "#### 5. What are your data types? \n",
    "Display the data types of each feature. "
   ]
  },
  {
   "cell_type": "code",
   "execution_count": 10,
   "metadata": {},
   "outputs": [
    {
     "data": {
      "text/plain": [
       "Unnamed: 0.1     int64\n",
       "Year            object\n",
       "Region          object\n",
       "Indicator       object\n",
       "Value           object\n",
       "geo_point_2d    object\n",
       "dtype: object"
      ]
     },
     "execution_count": 10,
     "metadata": {},
     "output_type": "execute_result"
    }
   ],
   "source": [
    "traffic_accidents.dtypes"
   ]
  },
  {
   "cell_type": "code",
   "execution_count": 11,
   "metadata": {},
   "outputs": [
    {
     "data": {
      "text/plain": [
       "Unnamed: 0              int64\n",
       "Year                   object\n",
       "Administritive Area    object\n",
       "Driving Liceses        object\n",
       "geo_point_2d           object\n",
       "dtype: object"
      ]
     },
     "execution_count": 11,
     "metadata": {},
     "output_type": "execute_result"
    }
   ],
   "source": [
    "driving_licenses.dtypes"
   ]
  },
  {
   "cell_type": "markdown",
   "metadata": {},
   "source": [
    "What did you learn?\n",
    "- Do any of them seem odd?  \n",
    "- Which ones are not as they should be?  "
   ]
  },
  {
   "cell_type": "markdown",
   "metadata": {},
   "source": [
    "<h6> For traffic_accidents dataset:</h6>\n",
    "<p>year and Value columns type is obeject but it should be int \n",
    "geo_point_2d column type is obeject but it shold be float</p>\n",
    "\n",
    "<h6> For driving_licenses dataset:</h6>\n",
    "<p>\n",
    "year and Driving Liceses columns type is obeject but it should be int\n",
    "geo_point_2d column type is obeject but it should be float</p>"
   ]
  },
  {
   "cell_type": "markdown",
   "metadata": {},
   "source": [
    "#### 6. Fix incorrect data types\n",
    "Based on what you discovered above, use appropriate methods to re-type incorrectly typed data.\n",
    "- Define a function that will allow you to convert numerical columns to an appropriate numeric type. Use `map` or `apply` to change these columns in each dataframe."
   ]
  },
  {
   "cell_type": "code",
   "execution_count": 12,
   "metadata": {},
   "outputs": [],
   "source": [
    "#Define a function to convert numerical columns to int\n",
    "def to_int(dataset,col):\n",
    "    dataset[col]=dataset[col].apply(lambda col:col.replace(\"(\",\"\").replace(\")\",\"\").replace(\"n\",\"\") ).astype(int)\n",
    "    return dataset"
   ]
  },
  {
   "cell_type": "code",
   "execution_count": 13,
   "metadata": {
    "scrolled": true
   },
   "outputs": [
    {
     "data": {
      "text/html": [
       "<div>\n",
       "<style scoped>\n",
       "    .dataframe tbody tr th:only-of-type {\n",
       "        vertical-align: middle;\n",
       "    }\n",
       "\n",
       "    .dataframe tbody tr th {\n",
       "        vertical-align: top;\n",
       "    }\n",
       "\n",
       "    .dataframe thead th {\n",
       "        text-align: right;\n",
       "    }\n",
       "</style>\n",
       "<table border=\"1\" class=\"dataframe\">\n",
       "  <thead>\n",
       "    <tr style=\"text-align: right;\">\n",
       "      <th></th>\n",
       "      <th>Unnamed: 0.1</th>\n",
       "      <th>Year</th>\n",
       "      <th>Region</th>\n",
       "      <th>Indicator</th>\n",
       "      <th>Value</th>\n",
       "      <th>geo_point_2d</th>\n",
       "    </tr>\n",
       "  </thead>\n",
       "  <tbody>\n",
       "    <tr>\n",
       "      <th>0</th>\n",
       "      <td>0</td>\n",
       "      <td>2016</td>\n",
       "      <td>Makkah</td>\n",
       "      <td>No. of Casualties - Injured</td>\n",
       "      <td>12383n</td>\n",
       "      <td>21.628962766, 41.2636898334</td>\n",
       "    </tr>\n",
       "    <tr>\n",
       "      <th>1</th>\n",
       "      <td>1</td>\n",
       "      <td>2016</td>\n",
       "      <td>Eastern Region</td>\n",
       "      <td>No. of Casualties - Dead</td>\n",
       "      <td>1113n</td>\n",
       "      <td>23.2883307307, 50.1478302439</td>\n",
       "    </tr>\n",
       "    <tr>\n",
       "      <th>2</th>\n",
       "      <td>2</td>\n",
       "      <td>2016</td>\n",
       "      <td>Tabouk</td>\n",
       "      <td>No. of Casualties - Dead</td>\n",
       "      <td>434n</td>\n",
       "      <td>27.90165499, 37.2598581394</td>\n",
       "    </tr>\n",
       "    <tr>\n",
       "      <th>3</th>\n",
       "      <td>3</td>\n",
       "      <td>2016</td>\n",
       "      <td>Hail</td>\n",
       "      <td>No. of Casualties - Dead</td>\n",
       "      <td>299n</td>\n",
       "      <td>27.400845724, 41.4406960508</td>\n",
       "    </tr>\n",
       "    <tr>\n",
       "      <th>4</th>\n",
       "      <td>4</td>\n",
       "      <td>2016</td>\n",
       "      <td>Hail</td>\n",
       "      <td>No. of Accidents</td>\n",
       "      <td>10199n</td>\n",
       "      <td>27.400845724, 41.4406960508</td>\n",
       "    </tr>\n",
       "    <tr>\n",
       "      <th>...</th>\n",
       "      <td>...</td>\n",
       "      <td>...</td>\n",
       "      <td>...</td>\n",
       "      <td>...</td>\n",
       "      <td>...</td>\n",
       "      <td>...</td>\n",
       "    </tr>\n",
       "    <tr>\n",
       "      <th>79</th>\n",
       "      <td>79</td>\n",
       "      <td>2017</td>\n",
       "      <td>Asir</td>\n",
       "      <td>No. of Casualties - Injured</td>\n",
       "      <td>2368n</td>\n",
       "      <td>19.1387847401, 42.941470036</td>\n",
       "    </tr>\n",
       "    <tr>\n",
       "      <th>80</th>\n",
       "      <td>80</td>\n",
       "      <td>2017</td>\n",
       "      <td>Hail</td>\n",
       "      <td>No. of Casualties - Injured</td>\n",
       "      <td>773n</td>\n",
       "      <td>27.400845724, 41.4406960508</td>\n",
       "    </tr>\n",
       "    <tr>\n",
       "      <th>81</th>\n",
       "      <td>81</td>\n",
       "      <td>2017</td>\n",
       "      <td>Al-Baaha</td>\n",
       "      <td>No. of Casualties - Dead</td>\n",
       "      <td>134n</td>\n",
       "      <td>20.1484058503, 41.4665484892</td>\n",
       "    </tr>\n",
       "    <tr>\n",
       "      <th>82</th>\n",
       "      <td>82</td>\n",
       "      <td>2017</td>\n",
       "      <td>Al-Baaha</td>\n",
       "      <td>No. of Accidents</td>\n",
       "      <td>1414n</td>\n",
       "      <td>20.1484058503, 41.4665484892</td>\n",
       "    </tr>\n",
       "    <tr>\n",
       "      <th>83</th>\n",
       "      <td>83</td>\n",
       "      <td>2017</td>\n",
       "      <td>Al-Baaha</td>\n",
       "      <td>No. of Casualties - Injured</td>\n",
       "      <td>1007n</td>\n",
       "      <td>20.1484058503, 41.4665484892</td>\n",
       "    </tr>\n",
       "  </tbody>\n",
       "</table>\n",
       "<p>84 rows × 6 columns</p>\n",
       "</div>"
      ],
      "text/plain": [
       "    Unnamed: 0.1  Year          Region                    Indicator   Value  \\\n",
       "0              0  2016          Makkah  No. of Casualties - Injured  12383n   \n",
       "1              1  2016  Eastern Region     No. of Casualties - Dead   1113n   \n",
       "2              2  2016          Tabouk     No. of Casualties - Dead    434n   \n",
       "3              3  2016            Hail     No. of Casualties - Dead    299n   \n",
       "4              4  2016            Hail             No. of Accidents  10199n   \n",
       "..           ...   ...             ...                          ...     ...   \n",
       "79            79  2017            Asir  No. of Casualties - Injured   2368n   \n",
       "80            80  2017            Hail  No. of Casualties - Injured    773n   \n",
       "81            81  2017        Al-Baaha     No. of Casualties - Dead    134n   \n",
       "82            82  2017        Al-Baaha             No. of Accidents   1414n   \n",
       "83            83  2017        Al-Baaha  No. of Casualties - Injured   1007n   \n",
       "\n",
       "                    geo_point_2d  \n",
       "0    21.628962766, 41.2636898334  \n",
       "1   23.2883307307, 50.1478302439  \n",
       "2     27.90165499, 37.2598581394  \n",
       "3    27.400845724, 41.4406960508  \n",
       "4    27.400845724, 41.4406960508  \n",
       "..                           ...  \n",
       "79   19.1387847401, 42.941470036  \n",
       "80   27.400845724, 41.4406960508  \n",
       "81  20.1484058503, 41.4665484892  \n",
       "82  20.1484058503, 41.4665484892  \n",
       "83  20.1484058503, 41.4665484892  \n",
       "\n",
       "[84 rows x 6 columns]"
      ]
     },
     "execution_count": 13,
     "metadata": {},
     "output_type": "execute_result"
    }
   ],
   "source": [
    "to_int(traffic_accidents,'Year')"
   ]
  },
  {
   "cell_type": "code",
   "execution_count": 14,
   "metadata": {},
   "outputs": [
    {
     "data": {
      "text/plain": [
       "Unnamed: 0.1     int64\n",
       "Year             int64\n",
       "Region          object\n",
       "Indicator       object\n",
       "Value           object\n",
       "geo_point_2d    object\n",
       "dtype: object"
      ]
     },
     "execution_count": 14,
     "metadata": {},
     "output_type": "execute_result"
    }
   ],
   "source": [
    "traffic_accidents.dtypes"
   ]
  },
  {
   "cell_type": "code",
   "execution_count": 15,
   "metadata": {},
   "outputs": [
    {
     "data": {
      "text/html": [
       "<div>\n",
       "<style scoped>\n",
       "    .dataframe tbody tr th:only-of-type {\n",
       "        vertical-align: middle;\n",
       "    }\n",
       "\n",
       "    .dataframe tbody tr th {\n",
       "        vertical-align: top;\n",
       "    }\n",
       "\n",
       "    .dataframe thead th {\n",
       "        text-align: right;\n",
       "    }\n",
       "</style>\n",
       "<table border=\"1\" class=\"dataframe\">\n",
       "  <thead>\n",
       "    <tr style=\"text-align: right;\">\n",
       "      <th></th>\n",
       "      <th>Unnamed: 0.1</th>\n",
       "      <th>Year</th>\n",
       "      <th>Region</th>\n",
       "      <th>Indicator</th>\n",
       "      <th>Value</th>\n",
       "      <th>geo_point_2d</th>\n",
       "    </tr>\n",
       "  </thead>\n",
       "  <tbody>\n",
       "    <tr>\n",
       "      <th>0</th>\n",
       "      <td>0</td>\n",
       "      <td>2016</td>\n",
       "      <td>Makkah</td>\n",
       "      <td>No. of Casualties - Injured</td>\n",
       "      <td>12383</td>\n",
       "      <td>21.628962766, 41.2636898334</td>\n",
       "    </tr>\n",
       "    <tr>\n",
       "      <th>1</th>\n",
       "      <td>1</td>\n",
       "      <td>2016</td>\n",
       "      <td>Eastern Region</td>\n",
       "      <td>No. of Casualties - Dead</td>\n",
       "      <td>1113</td>\n",
       "      <td>23.2883307307, 50.1478302439</td>\n",
       "    </tr>\n",
       "    <tr>\n",
       "      <th>2</th>\n",
       "      <td>2</td>\n",
       "      <td>2016</td>\n",
       "      <td>Tabouk</td>\n",
       "      <td>No. of Casualties - Dead</td>\n",
       "      <td>434</td>\n",
       "      <td>27.90165499, 37.2598581394</td>\n",
       "    </tr>\n",
       "    <tr>\n",
       "      <th>3</th>\n",
       "      <td>3</td>\n",
       "      <td>2016</td>\n",
       "      <td>Hail</td>\n",
       "      <td>No. of Casualties - Dead</td>\n",
       "      <td>299</td>\n",
       "      <td>27.400845724, 41.4406960508</td>\n",
       "    </tr>\n",
       "    <tr>\n",
       "      <th>4</th>\n",
       "      <td>4</td>\n",
       "      <td>2016</td>\n",
       "      <td>Hail</td>\n",
       "      <td>No. of Accidents</td>\n",
       "      <td>10199</td>\n",
       "      <td>27.400845724, 41.4406960508</td>\n",
       "    </tr>\n",
       "    <tr>\n",
       "      <th>...</th>\n",
       "      <td>...</td>\n",
       "      <td>...</td>\n",
       "      <td>...</td>\n",
       "      <td>...</td>\n",
       "      <td>...</td>\n",
       "      <td>...</td>\n",
       "    </tr>\n",
       "    <tr>\n",
       "      <th>79</th>\n",
       "      <td>79</td>\n",
       "      <td>2017</td>\n",
       "      <td>Asir</td>\n",
       "      <td>No. of Casualties - Injured</td>\n",
       "      <td>2368</td>\n",
       "      <td>19.1387847401, 42.941470036</td>\n",
       "    </tr>\n",
       "    <tr>\n",
       "      <th>80</th>\n",
       "      <td>80</td>\n",
       "      <td>2017</td>\n",
       "      <td>Hail</td>\n",
       "      <td>No. of Casualties - Injured</td>\n",
       "      <td>773</td>\n",
       "      <td>27.400845724, 41.4406960508</td>\n",
       "    </tr>\n",
       "    <tr>\n",
       "      <th>81</th>\n",
       "      <td>81</td>\n",
       "      <td>2017</td>\n",
       "      <td>Al-Baaha</td>\n",
       "      <td>No. of Casualties - Dead</td>\n",
       "      <td>134</td>\n",
       "      <td>20.1484058503, 41.4665484892</td>\n",
       "    </tr>\n",
       "    <tr>\n",
       "      <th>82</th>\n",
       "      <td>82</td>\n",
       "      <td>2017</td>\n",
       "      <td>Al-Baaha</td>\n",
       "      <td>No. of Accidents</td>\n",
       "      <td>1414</td>\n",
       "      <td>20.1484058503, 41.4665484892</td>\n",
       "    </tr>\n",
       "    <tr>\n",
       "      <th>83</th>\n",
       "      <td>83</td>\n",
       "      <td>2017</td>\n",
       "      <td>Al-Baaha</td>\n",
       "      <td>No. of Casualties - Injured</td>\n",
       "      <td>1007</td>\n",
       "      <td>20.1484058503, 41.4665484892</td>\n",
       "    </tr>\n",
       "  </tbody>\n",
       "</table>\n",
       "<p>84 rows × 6 columns</p>\n",
       "</div>"
      ],
      "text/plain": [
       "    Unnamed: 0.1  Year          Region                    Indicator  Value  \\\n",
       "0              0  2016          Makkah  No. of Casualties - Injured  12383   \n",
       "1              1  2016  Eastern Region     No. of Casualties - Dead   1113   \n",
       "2              2  2016          Tabouk     No. of Casualties - Dead    434   \n",
       "3              3  2016            Hail     No. of Casualties - Dead    299   \n",
       "4              4  2016            Hail             No. of Accidents  10199   \n",
       "..           ...   ...             ...                          ...    ...   \n",
       "79            79  2017            Asir  No. of Casualties - Injured   2368   \n",
       "80            80  2017            Hail  No. of Casualties - Injured    773   \n",
       "81            81  2017        Al-Baaha     No. of Casualties - Dead    134   \n",
       "82            82  2017        Al-Baaha             No. of Accidents   1414   \n",
       "83            83  2017        Al-Baaha  No. of Casualties - Injured   1007   \n",
       "\n",
       "                    geo_point_2d  \n",
       "0    21.628962766, 41.2636898334  \n",
       "1   23.2883307307, 50.1478302439  \n",
       "2     27.90165499, 37.2598581394  \n",
       "3    27.400845724, 41.4406960508  \n",
       "4    27.400845724, 41.4406960508  \n",
       "..                           ...  \n",
       "79   19.1387847401, 42.941470036  \n",
       "80   27.400845724, 41.4406960508  \n",
       "81  20.1484058503, 41.4665484892  \n",
       "82  20.1484058503, 41.4665484892  \n",
       "83  20.1484058503, 41.4665484892  \n",
       "\n",
       "[84 rows x 6 columns]"
      ]
     },
     "execution_count": 15,
     "metadata": {},
     "output_type": "execute_result"
    }
   ],
   "source": [
    "to_int(traffic_accidents,'Value')"
   ]
  },
  {
   "cell_type": "code",
   "execution_count": 16,
   "metadata": {},
   "outputs": [
    {
     "data": {
      "text/plain": [
       "Unnamed: 0.1     int64\n",
       "Year             int64\n",
       "Region          object\n",
       "Indicator       object\n",
       "Value            int64\n",
       "geo_point_2d    object\n",
       "dtype: object"
      ]
     },
     "execution_count": 16,
     "metadata": {},
     "output_type": "execute_result"
    }
   ],
   "source": [
    "traffic_accidents.dtypes"
   ]
  },
  {
   "cell_type": "code",
   "execution_count": 17,
   "metadata": {},
   "outputs": [
    {
     "data": {
      "text/html": [
       "<div>\n",
       "<style scoped>\n",
       "    .dataframe tbody tr th:only-of-type {\n",
       "        vertical-align: middle;\n",
       "    }\n",
       "\n",
       "    .dataframe tbody tr th {\n",
       "        vertical-align: top;\n",
       "    }\n",
       "\n",
       "    .dataframe thead th {\n",
       "        text-align: right;\n",
       "    }\n",
       "</style>\n",
       "<table border=\"1\" class=\"dataframe\">\n",
       "  <thead>\n",
       "    <tr style=\"text-align: right;\">\n",
       "      <th></th>\n",
       "      <th>Unnamed: 0</th>\n",
       "      <th>Year</th>\n",
       "      <th>Administritive Area</th>\n",
       "      <th>Driving Liceses</th>\n",
       "      <th>geo_point_2d</th>\n",
       "    </tr>\n",
       "  </thead>\n",
       "  <tbody>\n",
       "    <tr>\n",
       "      <th>0</th>\n",
       "      <td>0</td>\n",
       "      <td>2012</td>\n",
       "      <td>Makkah</td>\n",
       "      <td>143954n</td>\n",
       "      <td>21.628962766, 41.2636898334</td>\n",
       "    </tr>\n",
       "    <tr>\n",
       "      <th>1</th>\n",
       "      <td>1</td>\n",
       "      <td>1994</td>\n",
       "      <td>Makkah</td>\n",
       "      <td>75349n</td>\n",
       "      <td>21.628962766, 41.2636898334</td>\n",
       "    </tr>\n",
       "    <tr>\n",
       "      <th>2</th>\n",
       "      <td>2</td>\n",
       "      <td>1998</td>\n",
       "      <td>Makkah</td>\n",
       "      <td>86082n</td>\n",
       "      <td>21.628962766, 41.2636898334</td>\n",
       "    </tr>\n",
       "    <tr>\n",
       "      <th>3</th>\n",
       "      <td>3</td>\n",
       "      <td>2004</td>\n",
       "      <td>Makkah</td>\n",
       "      <td>86636n</td>\n",
       "      <td>21.628962766, 41.2636898334</td>\n",
       "    </tr>\n",
       "    <tr>\n",
       "      <th>4</th>\n",
       "      <td>4</td>\n",
       "      <td>2005</td>\n",
       "      <td>Makkah</td>\n",
       "      <td>65099n</td>\n",
       "      <td>21.628962766, 41.2636898334</td>\n",
       "    </tr>\n",
       "    <tr>\n",
       "      <th>...</th>\n",
       "      <td>...</td>\n",
       "      <td>...</td>\n",
       "      <td>...</td>\n",
       "      <td>...</td>\n",
       "      <td>...</td>\n",
       "    </tr>\n",
       "    <tr>\n",
       "      <th>345</th>\n",
       "      <td>345</td>\n",
       "      <td>2000</td>\n",
       "      <td>Tabouk</td>\n",
       "      <td>8473n</td>\n",
       "      <td>27.90165499, 37.2598581394</td>\n",
       "    </tr>\n",
       "    <tr>\n",
       "      <th>346</th>\n",
       "      <td>346</td>\n",
       "      <td>2006</td>\n",
       "      <td>Tabouk</td>\n",
       "      <td>8259n</td>\n",
       "      <td>27.90165499, 37.2598581394</td>\n",
       "    </tr>\n",
       "    <tr>\n",
       "      <th>347</th>\n",
       "      <td>347</td>\n",
       "      <td>2013</td>\n",
       "      <td>Hail</td>\n",
       "      <td>9731n</td>\n",
       "      <td>27.400845724, 41.4406960508</td>\n",
       "    </tr>\n",
       "    <tr>\n",
       "      <th>348</th>\n",
       "      <td>348</td>\n",
       "      <td>1997</td>\n",
       "      <td>Hail</td>\n",
       "      <td>6606n</td>\n",
       "      <td>27.400845724, 41.4406960508</td>\n",
       "    </tr>\n",
       "    <tr>\n",
       "      <th>349</th>\n",
       "      <td>349</td>\n",
       "      <td>1999</td>\n",
       "      <td>Hail</td>\n",
       "      <td>3139n</td>\n",
       "      <td>27.400845724, 41.4406960508</td>\n",
       "    </tr>\n",
       "  </tbody>\n",
       "</table>\n",
       "<p>350 rows × 5 columns</p>\n",
       "</div>"
      ],
      "text/plain": [
       "     Unnamed: 0  Year Administritive Area Driving Liceses  \\\n",
       "0             0  2012              Makkah         143954n   \n",
       "1             1  1994              Makkah          75349n   \n",
       "2             2  1998              Makkah          86082n   \n",
       "3             3  2004              Makkah          86636n   \n",
       "4             4  2005              Makkah          65099n   \n",
       "..          ...   ...                 ...             ...   \n",
       "345         345  2000              Tabouk           8473n   \n",
       "346         346  2006              Tabouk           8259n   \n",
       "347         347  2013                Hail           9731n   \n",
       "348         348  1997                Hail           6606n   \n",
       "349         349  1999                Hail           3139n   \n",
       "\n",
       "                    geo_point_2d  \n",
       "0    21.628962766, 41.2636898334  \n",
       "1    21.628962766, 41.2636898334  \n",
       "2    21.628962766, 41.2636898334  \n",
       "3    21.628962766, 41.2636898334  \n",
       "4    21.628962766, 41.2636898334  \n",
       "..                           ...  \n",
       "345   27.90165499, 37.2598581394  \n",
       "346   27.90165499, 37.2598581394  \n",
       "347  27.400845724, 41.4406960508  \n",
       "348  27.400845724, 41.4406960508  \n",
       "349  27.400845724, 41.4406960508  \n",
       "\n",
       "[350 rows x 5 columns]"
      ]
     },
     "execution_count": 17,
     "metadata": {},
     "output_type": "execute_result"
    }
   ],
   "source": [
    "to_int(driving_licenses,\"Year\")"
   ]
  },
  {
   "cell_type": "code",
   "execution_count": 18,
   "metadata": {},
   "outputs": [
    {
     "data": {
      "text/html": [
       "<div>\n",
       "<style scoped>\n",
       "    .dataframe tbody tr th:only-of-type {\n",
       "        vertical-align: middle;\n",
       "    }\n",
       "\n",
       "    .dataframe tbody tr th {\n",
       "        vertical-align: top;\n",
       "    }\n",
       "\n",
       "    .dataframe thead th {\n",
       "        text-align: right;\n",
       "    }\n",
       "</style>\n",
       "<table border=\"1\" class=\"dataframe\">\n",
       "  <thead>\n",
       "    <tr style=\"text-align: right;\">\n",
       "      <th></th>\n",
       "      <th>Unnamed: 0</th>\n",
       "      <th>Year</th>\n",
       "      <th>Administritive Area</th>\n",
       "      <th>Driving Liceses</th>\n",
       "      <th>geo_point_2d</th>\n",
       "    </tr>\n",
       "  </thead>\n",
       "  <tbody>\n",
       "    <tr>\n",
       "      <th>0</th>\n",
       "      <td>0</td>\n",
       "      <td>2012</td>\n",
       "      <td>Makkah</td>\n",
       "      <td>143954</td>\n",
       "      <td>21.628962766, 41.2636898334</td>\n",
       "    </tr>\n",
       "    <tr>\n",
       "      <th>1</th>\n",
       "      <td>1</td>\n",
       "      <td>1994</td>\n",
       "      <td>Makkah</td>\n",
       "      <td>75349</td>\n",
       "      <td>21.628962766, 41.2636898334</td>\n",
       "    </tr>\n",
       "    <tr>\n",
       "      <th>2</th>\n",
       "      <td>2</td>\n",
       "      <td>1998</td>\n",
       "      <td>Makkah</td>\n",
       "      <td>86082</td>\n",
       "      <td>21.628962766, 41.2636898334</td>\n",
       "    </tr>\n",
       "    <tr>\n",
       "      <th>3</th>\n",
       "      <td>3</td>\n",
       "      <td>2004</td>\n",
       "      <td>Makkah</td>\n",
       "      <td>86636</td>\n",
       "      <td>21.628962766, 41.2636898334</td>\n",
       "    </tr>\n",
       "    <tr>\n",
       "      <th>4</th>\n",
       "      <td>4</td>\n",
       "      <td>2005</td>\n",
       "      <td>Makkah</td>\n",
       "      <td>65099</td>\n",
       "      <td>21.628962766, 41.2636898334</td>\n",
       "    </tr>\n",
       "    <tr>\n",
       "      <th>...</th>\n",
       "      <td>...</td>\n",
       "      <td>...</td>\n",
       "      <td>...</td>\n",
       "      <td>...</td>\n",
       "      <td>...</td>\n",
       "    </tr>\n",
       "    <tr>\n",
       "      <th>345</th>\n",
       "      <td>345</td>\n",
       "      <td>2000</td>\n",
       "      <td>Tabouk</td>\n",
       "      <td>8473</td>\n",
       "      <td>27.90165499, 37.2598581394</td>\n",
       "    </tr>\n",
       "    <tr>\n",
       "      <th>346</th>\n",
       "      <td>346</td>\n",
       "      <td>2006</td>\n",
       "      <td>Tabouk</td>\n",
       "      <td>8259</td>\n",
       "      <td>27.90165499, 37.2598581394</td>\n",
       "    </tr>\n",
       "    <tr>\n",
       "      <th>347</th>\n",
       "      <td>347</td>\n",
       "      <td>2013</td>\n",
       "      <td>Hail</td>\n",
       "      <td>9731</td>\n",
       "      <td>27.400845724, 41.4406960508</td>\n",
       "    </tr>\n",
       "    <tr>\n",
       "      <th>348</th>\n",
       "      <td>348</td>\n",
       "      <td>1997</td>\n",
       "      <td>Hail</td>\n",
       "      <td>6606</td>\n",
       "      <td>27.400845724, 41.4406960508</td>\n",
       "    </tr>\n",
       "    <tr>\n",
       "      <th>349</th>\n",
       "      <td>349</td>\n",
       "      <td>1999</td>\n",
       "      <td>Hail</td>\n",
       "      <td>3139</td>\n",
       "      <td>27.400845724, 41.4406960508</td>\n",
       "    </tr>\n",
       "  </tbody>\n",
       "</table>\n",
       "<p>350 rows × 5 columns</p>\n",
       "</div>"
      ],
      "text/plain": [
       "     Unnamed: 0  Year Administritive Area  Driving Liceses  \\\n",
       "0             0  2012              Makkah           143954   \n",
       "1             1  1994              Makkah            75349   \n",
       "2             2  1998              Makkah            86082   \n",
       "3             3  2004              Makkah            86636   \n",
       "4             4  2005              Makkah            65099   \n",
       "..          ...   ...                 ...              ...   \n",
       "345         345  2000              Tabouk             8473   \n",
       "346         346  2006              Tabouk             8259   \n",
       "347         347  2013                Hail             9731   \n",
       "348         348  1997                Hail             6606   \n",
       "349         349  1999                Hail             3139   \n",
       "\n",
       "                    geo_point_2d  \n",
       "0    21.628962766, 41.2636898334  \n",
       "1    21.628962766, 41.2636898334  \n",
       "2    21.628962766, 41.2636898334  \n",
       "3    21.628962766, 41.2636898334  \n",
       "4    21.628962766, 41.2636898334  \n",
       "..                           ...  \n",
       "345   27.90165499, 37.2598581394  \n",
       "346   27.90165499, 37.2598581394  \n",
       "347  27.400845724, 41.4406960508  \n",
       "348  27.400845724, 41.4406960508  \n",
       "349  27.400845724, 41.4406960508  \n",
       "\n",
       "[350 rows x 5 columns]"
      ]
     },
     "execution_count": 18,
     "metadata": {},
     "output_type": "execute_result"
    }
   ],
   "source": [
    "to_int(driving_licenses,\"Driving Liceses\")"
   ]
  },
  {
   "cell_type": "code",
   "execution_count": 19,
   "metadata": {
    "scrolled": false
   },
   "outputs": [
    {
     "data": {
      "text/plain": [
       "Unnamed: 0              int64\n",
       "Year                    int64\n",
       "Administritive Area    object\n",
       "Driving Liceses         int64\n",
       "geo_point_2d           object\n",
       "dtype: object"
      ]
     },
     "execution_count": 19,
     "metadata": {},
     "output_type": "execute_result"
    }
   ],
   "source": [
    "driving_licenses.dtypes"
   ]
  },
  {
   "cell_type": "markdown",
   "metadata": {},
   "source": [
    "Dropping Unnecessary columns"
   ]
  },
  {
   "cell_type": "code",
   "execution_count": 20,
   "metadata": {},
   "outputs": [],
   "source": [
    "driving_licenses_clean=driving_licenses.drop(columns=['Unnamed: 0'], axis=1)"
   ]
  },
  {
   "cell_type": "code",
   "execution_count": 21,
   "metadata": {},
   "outputs": [],
   "source": [
    "traffic_accidents_clean=traffic_accidents.drop(columns=['Unnamed: 0.1'], axis=1)"
   ]
  },
  {
   "cell_type": "markdown",
   "metadata": {},
   "source": [
    "- Make new columns `x` and `y` using `geo_point_2d`"
   ]
  },
  {
   "cell_type": "code",
   "execution_count": 22,
   "metadata": {
    "scrolled": true
   },
   "outputs": [
    {
     "data": {
      "text/plain": [
       "Year                    int64\n",
       "Administritive Area    object\n",
       "Driving Liceses         int64\n",
       "geo_point_2d           object\n",
       "dtype: object"
      ]
     },
     "execution_count": 22,
     "metadata": {},
     "output_type": "execute_result"
    }
   ],
   "source": [
    "driving_licenses_clean.dtypes"
   ]
  },
  {
   "cell_type": "markdown",
   "metadata": {},
   "source": [
    "- Fix any individual values preventing other columns from being the appropriate type."
   ]
  },
  {
   "cell_type": "code",
   "execution_count": 23,
   "metadata": {},
   "outputs": [],
   "source": [
    "driving_licenses_clean['x'] = driving_licenses_clean['geo_point_2d'].str.split(',',1).str[0].astype(float)"
   ]
  },
  {
   "cell_type": "code",
   "execution_count": 24,
   "metadata": {},
   "outputs": [],
   "source": [
    "driving_licenses_clean['y'] = driving_licenses_clean['geo_point_2d'].str.split(',',1).str[1].astype(float)"
   ]
  },
  {
   "cell_type": "code",
   "execution_count": 25,
   "metadata": {},
   "outputs": [
    {
     "data": {
      "text/html": [
       "<div>\n",
       "<style scoped>\n",
       "    .dataframe tbody tr th:only-of-type {\n",
       "        vertical-align: middle;\n",
       "    }\n",
       "\n",
       "    .dataframe tbody tr th {\n",
       "        vertical-align: top;\n",
       "    }\n",
       "\n",
       "    .dataframe thead th {\n",
       "        text-align: right;\n",
       "    }\n",
       "</style>\n",
       "<table border=\"1\" class=\"dataframe\">\n",
       "  <thead>\n",
       "    <tr style=\"text-align: right;\">\n",
       "      <th></th>\n",
       "      <th>Year</th>\n",
       "      <th>Administritive Area</th>\n",
       "      <th>Driving Liceses</th>\n",
       "      <th>geo_point_2d</th>\n",
       "      <th>x</th>\n",
       "      <th>y</th>\n",
       "    </tr>\n",
       "  </thead>\n",
       "  <tbody>\n",
       "    <tr>\n",
       "      <th>0</th>\n",
       "      <td>2012</td>\n",
       "      <td>Makkah</td>\n",
       "      <td>143954</td>\n",
       "      <td>21.628962766, 41.2636898334</td>\n",
       "      <td>21.628963</td>\n",
       "      <td>41.26369</td>\n",
       "    </tr>\n",
       "    <tr>\n",
       "      <th>1</th>\n",
       "      <td>1994</td>\n",
       "      <td>Makkah</td>\n",
       "      <td>75349</td>\n",
       "      <td>21.628962766, 41.2636898334</td>\n",
       "      <td>21.628963</td>\n",
       "      <td>41.26369</td>\n",
       "    </tr>\n",
       "  </tbody>\n",
       "</table>\n",
       "</div>"
      ],
      "text/plain": [
       "   Year Administritive Area  Driving Liceses                 geo_point_2d  \\\n",
       "0  2012              Makkah           143954  21.628962766, 41.2636898334   \n",
       "1  1994              Makkah            75349  21.628962766, 41.2636898334   \n",
       "\n",
       "           x         y  \n",
       "0  21.628963  41.26369  \n",
       "1  21.628963  41.26369  "
      ]
     },
     "execution_count": 25,
     "metadata": {},
     "output_type": "execute_result"
    }
   ],
   "source": [
    "driving_licenses_clean.head(2)"
   ]
  },
  {
   "cell_type": "code",
   "execution_count": 26,
   "metadata": {},
   "outputs": [
    {
     "data": {
      "text/plain": [
       "Year                     int64\n",
       "Administritive Area     object\n",
       "Driving Liceses          int64\n",
       "geo_point_2d            object\n",
       "x                      float64\n",
       "y                      float64\n",
       "dtype: object"
      ]
     },
     "execution_count": 26,
     "metadata": {},
     "output_type": "execute_result"
    }
   ],
   "source": [
    "driving_licenses_clean.dtypes"
   ]
  },
  {
   "cell_type": "code",
   "execution_count": 27,
   "metadata": {
    "scrolled": true
   },
   "outputs": [
    {
     "data": {
      "text/plain": [
       "Year             int64\n",
       "Region          object\n",
       "Indicator       object\n",
       "Value            int64\n",
       "geo_point_2d    object\n",
       "dtype: object"
      ]
     },
     "execution_count": 27,
     "metadata": {},
     "output_type": "execute_result"
    }
   ],
   "source": [
    "traffic_accidents_clean.dtypes"
   ]
  },
  {
   "cell_type": "markdown",
   "metadata": {},
   "source": [
    "- Fix any individual values preventing other columns from being the appropriate type."
   ]
  },
  {
   "cell_type": "code",
   "execution_count": 28,
   "metadata": {},
   "outputs": [],
   "source": [
    "traffic_accidents_clean['x'] = traffic_accidents_clean['geo_point_2d'].str.split(',',1).str[0].astype(float)"
   ]
  },
  {
   "cell_type": "code",
   "execution_count": 29,
   "metadata": {},
   "outputs": [],
   "source": [
    "traffic_accidents_clean['y'] = traffic_accidents_clean['geo_point_2d'].str.split(',',1).str[1].astype(float)"
   ]
  },
  {
   "cell_type": "code",
   "execution_count": 30,
   "metadata": {
    "scrolled": true
   },
   "outputs": [
    {
     "data": {
      "text/plain": [
       "Year              int64\n",
       "Region           object\n",
       "Indicator        object\n",
       "Value             int64\n",
       "geo_point_2d     object\n",
       "x               float64\n",
       "y               float64\n",
       "dtype: object"
      ]
     },
     "execution_count": 30,
     "metadata": {},
     "output_type": "execute_result"
    }
   ],
   "source": [
    "traffic_accidents_clean.dtypes"
   ]
  },
  {
   "cell_type": "code",
   "execution_count": 31,
   "metadata": {
    "scrolled": true
   },
   "outputs": [],
   "source": [
    "driving_licenses_clean=driving_licenses_clean.drop(columns=['geo_point_2d'], axis=1)"
   ]
  },
  {
   "cell_type": "code",
   "execution_count": 32,
   "metadata": {},
   "outputs": [],
   "source": [
    "traffic_accidents_clean=traffic_accidents_clean.drop(columns=['geo_point_2d'], axis=1)"
   ]
  },
  {
   "cell_type": "markdown",
   "metadata": {},
   "source": [
    "- Finish your data modifications by making sure the columns are now typed appropriately."
   ]
  },
  {
   "cell_type": "code",
   "execution_count": 33,
   "metadata": {},
   "outputs": [
    {
     "data": {
      "text/html": [
       "<div>\n",
       "<style scoped>\n",
       "    .dataframe tbody tr th:only-of-type {\n",
       "        vertical-align: middle;\n",
       "    }\n",
       "\n",
       "    .dataframe tbody tr th {\n",
       "        vertical-align: top;\n",
       "    }\n",
       "\n",
       "    .dataframe thead th {\n",
       "        text-align: right;\n",
       "    }\n",
       "</style>\n",
       "<table border=\"1\" class=\"dataframe\">\n",
       "  <thead>\n",
       "    <tr style=\"text-align: right;\">\n",
       "      <th></th>\n",
       "      <th>Year</th>\n",
       "      <th>Region</th>\n",
       "      <th>Indicator</th>\n",
       "      <th>Value</th>\n",
       "      <th>x</th>\n",
       "      <th>y</th>\n",
       "    </tr>\n",
       "  </thead>\n",
       "  <tbody>\n",
       "    <tr>\n",
       "      <th>0</th>\n",
       "      <td>2016</td>\n",
       "      <td>Makkah</td>\n",
       "      <td>No. of Casualties - Injured</td>\n",
       "      <td>12383</td>\n",
       "      <td>21.628963</td>\n",
       "      <td>41.26369</td>\n",
       "    </tr>\n",
       "    <tr>\n",
       "      <th>1</th>\n",
       "      <td>2016</td>\n",
       "      <td>Eastern Region</td>\n",
       "      <td>No. of Casualties - Dead</td>\n",
       "      <td>1113</td>\n",
       "      <td>23.288331</td>\n",
       "      <td>50.14783</td>\n",
       "    </tr>\n",
       "  </tbody>\n",
       "</table>\n",
       "</div>"
      ],
      "text/plain": [
       "   Year          Region                    Indicator  Value          x  \\\n",
       "0  2016          Makkah  No. of Casualties - Injured  12383  21.628963   \n",
       "1  2016  Eastern Region     No. of Casualties - Dead   1113  23.288331   \n",
       "\n",
       "          y  \n",
       "0  41.26369  \n",
       "1  50.14783  "
      ]
     },
     "execution_count": 33,
     "metadata": {},
     "output_type": "execute_result"
    }
   ],
   "source": [
    "traffic_accidents_clean.head(2)"
   ]
  },
  {
   "cell_type": "code",
   "execution_count": 34,
   "metadata": {},
   "outputs": [
    {
     "data": {
      "text/html": [
       "<div>\n",
       "<style scoped>\n",
       "    .dataframe tbody tr th:only-of-type {\n",
       "        vertical-align: middle;\n",
       "    }\n",
       "\n",
       "    .dataframe tbody tr th {\n",
       "        vertical-align: top;\n",
       "    }\n",
       "\n",
       "    .dataframe thead th {\n",
       "        text-align: right;\n",
       "    }\n",
       "</style>\n",
       "<table border=\"1\" class=\"dataframe\">\n",
       "  <thead>\n",
       "    <tr style=\"text-align: right;\">\n",
       "      <th></th>\n",
       "      <th>Year</th>\n",
       "      <th>Administritive Area</th>\n",
       "      <th>Driving Liceses</th>\n",
       "      <th>x</th>\n",
       "      <th>y</th>\n",
       "    </tr>\n",
       "  </thead>\n",
       "  <tbody>\n",
       "    <tr>\n",
       "      <th>0</th>\n",
       "      <td>2012</td>\n",
       "      <td>Makkah</td>\n",
       "      <td>143954</td>\n",
       "      <td>21.628963</td>\n",
       "      <td>41.26369</td>\n",
       "    </tr>\n",
       "    <tr>\n",
       "      <th>1</th>\n",
       "      <td>1994</td>\n",
       "      <td>Makkah</td>\n",
       "      <td>75349</td>\n",
       "      <td>21.628963</td>\n",
       "      <td>41.26369</td>\n",
       "    </tr>\n",
       "  </tbody>\n",
       "</table>\n",
       "</div>"
      ],
      "text/plain": [
       "   Year Administritive Area  Driving Liceses          x         y\n",
       "0  2012              Makkah           143954  21.628963  41.26369\n",
       "1  1994              Makkah            75349  21.628963  41.26369"
      ]
     },
     "execution_count": 34,
     "metadata": {},
     "output_type": "execute_result"
    }
   ],
   "source": [
    "driving_licenses_clean.head(2)"
   ]
  },
  {
   "cell_type": "markdown",
   "metadata": {},
   "source": [
    "- Display the data types again to confirm they are correct."
   ]
  },
  {
   "cell_type": "code",
   "execution_count": 35,
   "metadata": {},
   "outputs": [
    {
     "data": {
      "text/plain": [
       "Year           int64\n",
       "Region        object\n",
       "Indicator     object\n",
       "Value          int64\n",
       "x            float64\n",
       "y            float64\n",
       "dtype: object"
      ]
     },
     "execution_count": 35,
     "metadata": {},
     "output_type": "execute_result"
    }
   ],
   "source": [
    "traffic_accidents_clean.dtypes"
   ]
  },
  {
   "cell_type": "code",
   "execution_count": 36,
   "metadata": {},
   "outputs": [
    {
     "data": {
      "text/plain": [
       "Year                     int64\n",
       "Administritive Area     object\n",
       "Driving Liceses          int64\n",
       "x                      float64\n",
       "y                      float64\n",
       "dtype: object"
      ]
     },
     "execution_count": 36,
     "metadata": {},
     "output_type": "execute_result"
    }
   ],
   "source": [
    "driving_licenses_clean.dtypes"
   ]
  },
  {
   "cell_type": "markdown",
   "metadata": {},
   "source": [
    "#### 7. Rename columns\n",
    "Change the names of the columns to more expressive names so that you can tell the difference the Driving Licenses  columns and the & Traffic Accidents columns. Your solution should map all column names being changed at once (no repeated singular name-changes). **We will be combining these two datasets, and so you should name columns in an appropriate way**.\n",
    "\n",
    "**Guidelines**:\n",
    "- Column names should be all lowercase (you will thank yourself when you start pushing data to SQL later in the course)\n",
    "- Column names should not contain spaces (underscores will suffice--this allows for using the `df.column_name` method to access columns in addition to `df['column_name']`.\n",
    "- Column names should be unique and informative (the only feature that we actually share between dataframes is the state).\n",
    "- Please also fix any typos you see in the column names."
   ]
  },
  {
   "cell_type": "code",
   "execution_count": 37,
   "metadata": {},
   "outputs": [
    {
     "data": {
      "text/plain": [
       "Index(['Year', 'Region', 'Indicator', 'Value', 'x', 'y'], dtype='object')"
      ]
     },
     "execution_count": 37,
     "metadata": {},
     "output_type": "execute_result"
    }
   ],
   "source": [
    "traffic_accidents_clean.columns"
   ]
  },
  {
   "cell_type": "code",
   "execution_count": 38,
   "metadata": {},
   "outputs": [],
   "source": [
    "traffic_accidents_new=traffic_accidents_clean.copy()"
   ]
  },
  {
   "cell_type": "code",
   "execution_count": 39,
   "metadata": {},
   "outputs": [],
   "source": [
    "new_traffic_accidents_col_names = ['traffic_year','traffic_region','traffic_indicator','traffic_value',\n",
    "            'traffic_x_geo_point','traffic_y_geo_point']\n",
    "traffic_accidents_new.columns = new_traffic_accidents_col_names"
   ]
  },
  {
   "cell_type": "code",
   "execution_count": 40,
   "metadata": {
    "scrolled": false
   },
   "outputs": [
    {
     "data": {
      "text/plain": [
       "Index(['traffic_year', 'traffic_region', 'traffic_indicator', 'traffic_value',\n",
       "       'traffic_x_geo_point', 'traffic_y_geo_point'],\n",
       "      dtype='object')"
      ]
     },
     "execution_count": 40,
     "metadata": {},
     "output_type": "execute_result"
    }
   ],
   "source": [
    "traffic_accidents_new.columns"
   ]
  },
  {
   "cell_type": "code",
   "execution_count": 41,
   "metadata": {},
   "outputs": [],
   "source": [
    "driving_licenses_new=driving_licenses_clean.copy()"
   ]
  },
  {
   "cell_type": "code",
   "execution_count": 42,
   "metadata": {},
   "outputs": [],
   "source": [
    "new_driving_licenses_col_names = ['licenses_year','licenses_region','driving_licenses',\n",
    "            'licenses_x_geo_point','licenses_y_geo_point']\n",
    "driving_licenses_new.columns = new_driving_licenses_col_names"
   ]
  },
  {
   "cell_type": "code",
   "execution_count": 43,
   "metadata": {},
   "outputs": [
    {
     "data": {
      "text/plain": [
       "Index(['licenses_year', 'licenses_region', 'driving_licenses',\n",
       "       'licenses_x_geo_point', 'licenses_y_geo_point'],\n",
       "      dtype='object')"
      ]
     },
     "execution_count": 43,
     "metadata": {},
     "output_type": "execute_result"
    }
   ],
   "source": [
    "driving_licenses_new.columns"
   ]
  },
  {
   "cell_type": "markdown",
   "metadata": {},
   "source": [
    "#### 8. Create a data dictionary\n",
    "\n",
    "Now that we've fixed our data, and given it appropriate names, let's create a [data dictionary](http://library.ucmerced.edu/node/10249). \n",
    "\n",
    "A data dictionary provides a quick overview of features/variables/columns, alongside data types and descriptions. The more descriptive you can be, the more useful this document is.\n",
    "\n",
    "Example of a Fictional Data Dictionary Entry: \n",
    "\n",
    "|Feature|Type|Dataset|Description|\n",
    "|---|---|---|---|\n",
    "|**county_pop**|*integer*|2010 census|The population of the county (units in thousands, where 2.5 represents 2500 people).| \n",
    "|**per_poverty**|*float*|2010 census|The percent of the county over the age of 18 living below the 200% of official US poverty rate (units percent to two decimal places 98.10 means 98.1%)|\n",
    "\n",
    "[Here's a quick link to a short guide for formatting markdown in Jupyter notebooks](https://jupyter-notebook.readthedocs.io/en/stable/examples/Notebook/Working%20With%20Markdown%20Cells.html).\n",
    "\n",
    "Provided is the skeleton for formatting a markdown table, with columns headers that will help you create a data dictionary to quickly summarize your data, as well as some examples. **This would be a great thing to copy and paste into your custom README for this project.**"
   ]
  },
  {
   "cell_type": "markdown",
   "metadata": {},
   "source": [
    "|Feature|Type|Dataset|Description|\n",
    "|---|---|---|---|\n",
    "|licenses_year|int|driving_licenses|The year the licenses were issued|\n",
    "|licenses_region|object|driving_licenses|The license issuance area|\n",
    "|driving_llicenses|object|driving_licenses|Number of licenses issued|\n",
    "|licenses_x_geo_point|float|Driving_Licenses|The x geo point for each Area| \n",
    "|licenses_y_geo_point|float|Driving_Licenses|The y geo point for each Area| \n",
    "|traffic_year|int|Traffic_Accidents|The year of calculating these cases | \n",
    "|traffic_region|object|Traffic_Accidents|The region in which these cases were counted| \n",
    "|traffic_indicator|object|Traffic_Accidents|Indicator of  Injured, Dead and Accidents| \n",
    "|traffic_value|int|Traffic_Accidents| Value for each indicator| \n",
    "|traffic_x_geo_point|float|Traffic_Accidents|The x geo point for each region| \n",
    "|traffic_y_geo_point|float|Traffic_Accidents|The y geo point for each region| \n"
   ]
  },
  {
   "cell_type": "markdown",
   "metadata": {},
   "source": [
    "#### 9. Drop unnecessary rows\n",
    "\n",
    "This study concerns accident and license in regions/area. Please do the followings:\n",
    "0. Which rows are not associated with regions?\n",
    "1. Confirm the numbers of all regions add up to total.\n",
    "2. Remove the rows that are not associated with regions"
   ]
  },
  {
   "cell_type": "code",
   "execution_count": 44,
   "metadata": {},
   "outputs": [
    {
     "data": {
      "text/plain": [
       "array(['Makkah', 'Madinah', 'Al-Qaseem', 'Eastern', 'Assir', 'Tabouk',\n",
       "       'Hail', 'Northern Boarder', 'Jazan', 'Najran', 'Al-Baha',\n",
       "       'Al-Jouf', 'Total', 'Riyadh'], dtype=object)"
      ]
     },
     "execution_count": 44,
     "metadata": {},
     "output_type": "execute_result"
    }
   ],
   "source": [
    "driving_licenses_new['licenses_region'].unique()"
   ]
  },
  {
   "cell_type": "code",
   "execution_count": 45,
   "metadata": {
    "scrolled": false
   },
   "outputs": [
    {
     "data": {
      "text/plain": [
       "array(['Makkah', 'Eastern Region', 'Tabouk', 'Hail', 'Northern Boarder',\n",
       "       'Jazan', 'Al-Jouf', 'Total', 'Al-Baaha', 'Riyadh', 'Madinah',\n",
       "       'Qassim', 'Najran', 'Asir'], dtype=object)"
      ]
     },
     "execution_count": 45,
     "metadata": {},
     "output_type": "execute_result"
    }
   ],
   "source": [
    "traffic_accidents_new['traffic_region'].unique()"
   ]
  },
  {
   "cell_type": "markdown",
   "metadata": {},
   "source": [
    "<p>There are some rows in the Regions column that do not belong to this column</p>"
   ]
  },
  {
   "cell_type": "markdown",
   "metadata": {},
   "source": [
    "Which rows are not associated with regions?\n",
    "there are some values doesn't associated  with traffic_region or licenses_area name \" Total \""
   ]
  },
  {
   "cell_type": "code",
   "execution_count": 46,
   "metadata": {
    "scrolled": true
   },
   "outputs": [
    {
     "data": {
      "text/html": [
       "<div>\n",
       "<style scoped>\n",
       "    .dataframe tbody tr th:only-of-type {\n",
       "        vertical-align: middle;\n",
       "    }\n",
       "\n",
       "    .dataframe tbody tr th {\n",
       "        vertical-align: top;\n",
       "    }\n",
       "\n",
       "    .dataframe thead th {\n",
       "        text-align: right;\n",
       "    }\n",
       "</style>\n",
       "<table border=\"1\" class=\"dataframe\">\n",
       "  <thead>\n",
       "    <tr style=\"text-align: right;\">\n",
       "      <th></th>\n",
       "      <th>traffic_year</th>\n",
       "      <th>traffic_region</th>\n",
       "      <th>traffic_indicator</th>\n",
       "      <th>traffic_value</th>\n",
       "      <th>traffic_x_geo_point</th>\n",
       "      <th>traffic_y_geo_point</th>\n",
       "    </tr>\n",
       "  </thead>\n",
       "  <tbody>\n",
       "    <tr>\n",
       "      <th>8</th>\n",
       "      <td>2017</td>\n",
       "      <td>Total</td>\n",
       "      <td>No. of Casualties - Dead</td>\n",
       "      <td>7489</td>\n",
       "      <td>NaN</td>\n",
       "      <td>NaN</td>\n",
       "    </tr>\n",
       "    <tr>\n",
       "      <th>29</th>\n",
       "      <td>2016</td>\n",
       "      <td>Total</td>\n",
       "      <td>No. of Accidents</td>\n",
       "      <td>533380</td>\n",
       "      <td>NaN</td>\n",
       "      <td>NaN</td>\n",
       "    </tr>\n",
       "    <tr>\n",
       "      <th>30</th>\n",
       "      <td>2016</td>\n",
       "      <td>Total</td>\n",
       "      <td>No. of Casualties - Injured</td>\n",
       "      <td>38120</td>\n",
       "      <td>NaN</td>\n",
       "      <td>NaN</td>\n",
       "    </tr>\n",
       "    <tr>\n",
       "      <th>68</th>\n",
       "      <td>2017</td>\n",
       "      <td>Total</td>\n",
       "      <td>No. of Accidents</td>\n",
       "      <td>460488</td>\n",
       "      <td>NaN</td>\n",
       "      <td>NaN</td>\n",
       "    </tr>\n",
       "    <tr>\n",
       "      <th>69</th>\n",
       "      <td>2017</td>\n",
       "      <td>Total</td>\n",
       "      <td>No. of Casualties - Injured</td>\n",
       "      <td>33199</td>\n",
       "      <td>NaN</td>\n",
       "      <td>NaN</td>\n",
       "    </tr>\n",
       "    <tr>\n",
       "      <th>77</th>\n",
       "      <td>2016</td>\n",
       "      <td>Total</td>\n",
       "      <td>No. of Casualties - Dead</td>\n",
       "      <td>9031</td>\n",
       "      <td>NaN</td>\n",
       "      <td>NaN</td>\n",
       "    </tr>\n",
       "  </tbody>\n",
       "</table>\n",
       "</div>"
      ],
      "text/plain": [
       "    traffic_year traffic_region            traffic_indicator  traffic_value  \\\n",
       "8           2017          Total     No. of Casualties - Dead           7489   \n",
       "29          2016          Total             No. of Accidents         533380   \n",
       "30          2016          Total  No. of Casualties - Injured          38120   \n",
       "68          2017          Total             No. of Accidents         460488   \n",
       "69          2017          Total  No. of Casualties - Injured          33199   \n",
       "77          2016          Total     No. of Casualties - Dead           9031   \n",
       "\n",
       "    traffic_x_geo_point  traffic_y_geo_point  \n",
       "8                   NaN                  NaN  \n",
       "29                  NaN                  NaN  \n",
       "30                  NaN                  NaN  \n",
       "68                  NaN                  NaN  \n",
       "69                  NaN                  NaN  \n",
       "77                  NaN                  NaN  "
      ]
     },
     "execution_count": 46,
     "metadata": {},
     "output_type": "execute_result"
    }
   ],
   "source": [
    "traffic_accidents_new[((traffic_accidents_new.traffic_region == 'Total'))]"
   ]
  },
  {
   "cell_type": "code",
   "execution_count": 47,
   "metadata": {},
   "outputs": [
    {
     "data": {
      "text/html": [
       "<div>\n",
       "<style scoped>\n",
       "    .dataframe tbody tr th:only-of-type {\n",
       "        vertical-align: middle;\n",
       "    }\n",
       "\n",
       "    .dataframe tbody tr th {\n",
       "        vertical-align: top;\n",
       "    }\n",
       "\n",
       "    .dataframe thead th {\n",
       "        text-align: right;\n",
       "    }\n",
       "</style>\n",
       "<table border=\"1\" class=\"dataframe\">\n",
       "  <thead>\n",
       "    <tr style=\"text-align: right;\">\n",
       "      <th></th>\n",
       "      <th>licenses_year</th>\n",
       "      <th>licenses_region</th>\n",
       "      <th>driving_licenses</th>\n",
       "      <th>licenses_x_geo_point</th>\n",
       "      <th>licenses_y_geo_point</th>\n",
       "    </tr>\n",
       "  </thead>\n",
       "  <tbody>\n",
       "    <tr>\n",
       "      <th>58</th>\n",
       "      <td>2015</td>\n",
       "      <td>Total</td>\n",
       "      <td>435439</td>\n",
       "      <td>NaN</td>\n",
       "      <td>NaN</td>\n",
       "    </tr>\n",
       "    <tr>\n",
       "      <th>59</th>\n",
       "      <td>2017</td>\n",
       "      <td>Total</td>\n",
       "      <td>928165</td>\n",
       "      <td>NaN</td>\n",
       "      <td>NaN</td>\n",
       "    </tr>\n",
       "    <tr>\n",
       "      <th>60</th>\n",
       "      <td>1993</td>\n",
       "      <td>Total</td>\n",
       "      <td>294893</td>\n",
       "      <td>NaN</td>\n",
       "      <td>NaN</td>\n",
       "    </tr>\n",
       "    <tr>\n",
       "      <th>61</th>\n",
       "      <td>1994</td>\n",
       "      <td>Total</td>\n",
       "      <td>303520</td>\n",
       "      <td>NaN</td>\n",
       "      <td>NaN</td>\n",
       "    </tr>\n",
       "    <tr>\n",
       "      <th>62</th>\n",
       "      <td>2003</td>\n",
       "      <td>Total</td>\n",
       "      <td>254858</td>\n",
       "      <td>NaN</td>\n",
       "      <td>NaN</td>\n",
       "    </tr>\n",
       "    <tr>\n",
       "      <th>63</th>\n",
       "      <td>2006</td>\n",
       "      <td>Total</td>\n",
       "      <td>267508</td>\n",
       "      <td>NaN</td>\n",
       "      <td>NaN</td>\n",
       "    </tr>\n",
       "    <tr>\n",
       "      <th>142</th>\n",
       "      <td>2014</td>\n",
       "      <td>Total</td>\n",
       "      <td>625414</td>\n",
       "      <td>NaN</td>\n",
       "      <td>NaN</td>\n",
       "    </tr>\n",
       "    <tr>\n",
       "      <th>143</th>\n",
       "      <td>2010</td>\n",
       "      <td>Total</td>\n",
       "      <td>386510</td>\n",
       "      <td>NaN</td>\n",
       "      <td>NaN</td>\n",
       "    </tr>\n",
       "    <tr>\n",
       "      <th>144</th>\n",
       "      <td>2012</td>\n",
       "      <td>Total</td>\n",
       "      <td>411204</td>\n",
       "      <td>NaN</td>\n",
       "      <td>NaN</td>\n",
       "    </tr>\n",
       "    <tr>\n",
       "      <th>145</th>\n",
       "      <td>1999</td>\n",
       "      <td>Total</td>\n",
       "      <td>332210</td>\n",
       "      <td>NaN</td>\n",
       "      <td>NaN</td>\n",
       "    </tr>\n",
       "    <tr>\n",
       "      <th>146</th>\n",
       "      <td>2002</td>\n",
       "      <td>Total</td>\n",
       "      <td>282038</td>\n",
       "      <td>NaN</td>\n",
       "      <td>NaN</td>\n",
       "    </tr>\n",
       "    <tr>\n",
       "      <th>147</th>\n",
       "      <td>2001</td>\n",
       "      <td>Total</td>\n",
       "      <td>264725</td>\n",
       "      <td>NaN</td>\n",
       "      <td>NaN</td>\n",
       "    </tr>\n",
       "    <tr>\n",
       "      <th>148</th>\n",
       "      <td>2004</td>\n",
       "      <td>Total</td>\n",
       "      <td>268738</td>\n",
       "      <td>NaN</td>\n",
       "      <td>NaN</td>\n",
       "    </tr>\n",
       "    <tr>\n",
       "      <th>149</th>\n",
       "      <td>2005</td>\n",
       "      <td>Total</td>\n",
       "      <td>251203</td>\n",
       "      <td>NaN</td>\n",
       "      <td>NaN</td>\n",
       "    </tr>\n",
       "    <tr>\n",
       "      <th>150</th>\n",
       "      <td>2009</td>\n",
       "      <td>Total</td>\n",
       "      <td>376275</td>\n",
       "      <td>NaN</td>\n",
       "      <td>NaN</td>\n",
       "    </tr>\n",
       "    <tr>\n",
       "      <th>162</th>\n",
       "      <td>2011</td>\n",
       "      <td>Total</td>\n",
       "      <td>400558</td>\n",
       "      <td>NaN</td>\n",
       "      <td>NaN</td>\n",
       "    </tr>\n",
       "    <tr>\n",
       "      <th>163</th>\n",
       "      <td>2000</td>\n",
       "      <td>Total</td>\n",
       "      <td>273238</td>\n",
       "      <td>NaN</td>\n",
       "      <td>NaN</td>\n",
       "    </tr>\n",
       "    <tr>\n",
       "      <th>164</th>\n",
       "      <td>2007</td>\n",
       "      <td>Total</td>\n",
       "      <td>331356</td>\n",
       "      <td>NaN</td>\n",
       "      <td>NaN</td>\n",
       "    </tr>\n",
       "    <tr>\n",
       "      <th>165</th>\n",
       "      <td>2008</td>\n",
       "      <td>Total</td>\n",
       "      <td>330158</td>\n",
       "      <td>NaN</td>\n",
       "      <td>NaN</td>\n",
       "    </tr>\n",
       "    <tr>\n",
       "      <th>239</th>\n",
       "      <td>2013</td>\n",
       "      <td>Total</td>\n",
       "      <td>565314</td>\n",
       "      <td>NaN</td>\n",
       "      <td>NaN</td>\n",
       "    </tr>\n",
       "    <tr>\n",
       "      <th>240</th>\n",
       "      <td>1995</td>\n",
       "      <td>Total</td>\n",
       "      <td>251878</td>\n",
       "      <td>NaN</td>\n",
       "      <td>NaN</td>\n",
       "    </tr>\n",
       "    <tr>\n",
       "      <th>314</th>\n",
       "      <td>2016</td>\n",
       "      <td>Total</td>\n",
       "      <td>697017</td>\n",
       "      <td>NaN</td>\n",
       "      <td>NaN</td>\n",
       "    </tr>\n",
       "    <tr>\n",
       "      <th>315</th>\n",
       "      <td>1997</td>\n",
       "      <td>Total</td>\n",
       "      <td>289296</td>\n",
       "      <td>NaN</td>\n",
       "      <td>NaN</td>\n",
       "    </tr>\n",
       "    <tr>\n",
       "      <th>316</th>\n",
       "      <td>1996</td>\n",
       "      <td>Total</td>\n",
       "      <td>237623</td>\n",
       "      <td>NaN</td>\n",
       "      <td>NaN</td>\n",
       "    </tr>\n",
       "    <tr>\n",
       "      <th>317</th>\n",
       "      <td>1998</td>\n",
       "      <td>Total</td>\n",
       "      <td>338350</td>\n",
       "      <td>NaN</td>\n",
       "      <td>NaN</td>\n",
       "    </tr>\n",
       "  </tbody>\n",
       "</table>\n",
       "</div>"
      ],
      "text/plain": [
       "     licenses_year licenses_region  driving_licenses  licenses_x_geo_point  \\\n",
       "58            2015           Total            435439                   NaN   \n",
       "59            2017           Total            928165                   NaN   \n",
       "60            1993           Total            294893                   NaN   \n",
       "61            1994           Total            303520                   NaN   \n",
       "62            2003           Total            254858                   NaN   \n",
       "63            2006           Total            267508                   NaN   \n",
       "142           2014           Total            625414                   NaN   \n",
       "143           2010           Total            386510                   NaN   \n",
       "144           2012           Total            411204                   NaN   \n",
       "145           1999           Total            332210                   NaN   \n",
       "146           2002           Total            282038                   NaN   \n",
       "147           2001           Total            264725                   NaN   \n",
       "148           2004           Total            268738                   NaN   \n",
       "149           2005           Total            251203                   NaN   \n",
       "150           2009           Total            376275                   NaN   \n",
       "162           2011           Total            400558                   NaN   \n",
       "163           2000           Total            273238                   NaN   \n",
       "164           2007           Total            331356                   NaN   \n",
       "165           2008           Total            330158                   NaN   \n",
       "239           2013           Total            565314                   NaN   \n",
       "240           1995           Total            251878                   NaN   \n",
       "314           2016           Total            697017                   NaN   \n",
       "315           1997           Total            289296                   NaN   \n",
       "316           1996           Total            237623                   NaN   \n",
       "317           1998           Total            338350                   NaN   \n",
       "\n",
       "     licenses_y_geo_point  \n",
       "58                    NaN  \n",
       "59                    NaN  \n",
       "60                    NaN  \n",
       "61                    NaN  \n",
       "62                    NaN  \n",
       "63                    NaN  \n",
       "142                   NaN  \n",
       "143                   NaN  \n",
       "144                   NaN  \n",
       "145                   NaN  \n",
       "146                   NaN  \n",
       "147                   NaN  \n",
       "148                   NaN  \n",
       "149                   NaN  \n",
       "150                   NaN  \n",
       "162                   NaN  \n",
       "163                   NaN  \n",
       "164                   NaN  \n",
       "165                   NaN  \n",
       "239                   NaN  \n",
       "240                   NaN  \n",
       "314                   NaN  \n",
       "315                   NaN  \n",
       "316                   NaN  \n",
       "317                   NaN  "
      ]
     },
     "execution_count": 47,
     "metadata": {},
     "output_type": "execute_result"
    }
   ],
   "source": [
    "driving_licenses_new[((driving_licenses_new.licenses_region == 'Total'))]"
   ]
  },
  {
   "cell_type": "code",
   "execution_count": 48,
   "metadata": {
    "scrolled": true
   },
   "outputs": [
    {
     "data": {
      "text/html": [
       "<div>\n",
       "<style scoped>\n",
       "    .dataframe tbody tr th:only-of-type {\n",
       "        vertical-align: middle;\n",
       "    }\n",
       "\n",
       "    .dataframe tbody tr th {\n",
       "        vertical-align: top;\n",
       "    }\n",
       "\n",
       "    .dataframe thead th {\n",
       "        text-align: right;\n",
       "    }\n",
       "</style>\n",
       "<table border=\"1\" class=\"dataframe\">\n",
       "  <thead>\n",
       "    <tr style=\"text-align: right;\">\n",
       "      <th>licenses_year</th>\n",
       "      <th>licenses_region</th>\n",
       "      <th>1993</th>\n",
       "      <th>1994</th>\n",
       "      <th>1995</th>\n",
       "      <th>1996</th>\n",
       "      <th>1997</th>\n",
       "      <th>1998</th>\n",
       "      <th>1999</th>\n",
       "      <th>2000</th>\n",
       "      <th>2001</th>\n",
       "      <th>...</th>\n",
       "      <th>2008</th>\n",
       "      <th>2009</th>\n",
       "      <th>2010</th>\n",
       "      <th>2011</th>\n",
       "      <th>2012</th>\n",
       "      <th>2013</th>\n",
       "      <th>2014</th>\n",
       "      <th>2015</th>\n",
       "      <th>2016</th>\n",
       "      <th>2017</th>\n",
       "    </tr>\n",
       "  </thead>\n",
       "  <tbody>\n",
       "    <tr>\n",
       "      <th>0</th>\n",
       "      <td>Al-Baha</td>\n",
       "      <td>3270</td>\n",
       "      <td>2729</td>\n",
       "      <td>2423</td>\n",
       "      <td>1468</td>\n",
       "      <td>3027</td>\n",
       "      <td>5110</td>\n",
       "      <td>4246</td>\n",
       "      <td>4832</td>\n",
       "      <td>7594</td>\n",
       "      <td>...</td>\n",
       "      <td>5418</td>\n",
       "      <td>9815</td>\n",
       "      <td>7076</td>\n",
       "      <td>6450</td>\n",
       "      <td>7593</td>\n",
       "      <td>7482</td>\n",
       "      <td>7268</td>\n",
       "      <td>4856</td>\n",
       "      <td>4614</td>\n",
       "      <td>4131</td>\n",
       "    </tr>\n",
       "    <tr>\n",
       "      <th>1</th>\n",
       "      <td>Al-Jouf</td>\n",
       "      <td>2884</td>\n",
       "      <td>2535</td>\n",
       "      <td>2270</td>\n",
       "      <td>2518</td>\n",
       "      <td>3565</td>\n",
       "      <td>3476</td>\n",
       "      <td>3950</td>\n",
       "      <td>4666</td>\n",
       "      <td>4756</td>\n",
       "      <td>...</td>\n",
       "      <td>10929</td>\n",
       "      <td>10567</td>\n",
       "      <td>10937</td>\n",
       "      <td>10180</td>\n",
       "      <td>10246</td>\n",
       "      <td>11602</td>\n",
       "      <td>9982</td>\n",
       "      <td>10233</td>\n",
       "      <td>9371</td>\n",
       "      <td>8091</td>\n",
       "    </tr>\n",
       "  </tbody>\n",
       "</table>\n",
       "<p>2 rows × 26 columns</p>\n",
       "</div>"
      ],
      "text/plain": [
       "licenses_year licenses_region  1993  1994  1995  1996  1997  1998  1999  2000  \\\n",
       "0                     Al-Baha  3270  2729  2423  1468  3027  5110  4246  4832   \n",
       "1                     Al-Jouf  2884  2535  2270  2518  3565  3476  3950  4666   \n",
       "\n",
       "licenses_year  2001  ...   2008   2009   2010   2011   2012   2013  2014  \\\n",
       "0              7594  ...   5418   9815   7076   6450   7593   7482  7268   \n",
       "1              4756  ...  10929  10567  10937  10180  10246  11602  9982   \n",
       "\n",
       "licenses_year   2015  2016  2017  \n",
       "0               4856  4614  4131  \n",
       "1              10233  9371  8091  \n",
       "\n",
       "[2 rows x 26 columns]"
      ]
     },
     "execution_count": 48,
     "metadata": {},
     "output_type": "execute_result"
    }
   ],
   "source": [
    "driving_licenses_back_to_wide=driving_licenses_new.pivot(index='licenses_region',columns=\"licenses_year\",values='driving_licenses').reset_index()\n",
    "driving_licenses_back_to_wide.head(2)"
   ]
  },
  {
   "cell_type": "code",
   "execution_count": 49,
   "metadata": {
    "scrolled": true
   },
   "outputs": [
    {
     "data": {
      "text/html": [
       "<div>\n",
       "<style scoped>\n",
       "    .dataframe tbody tr th:only-of-type {\n",
       "        vertical-align: middle;\n",
       "    }\n",
       "\n",
       "    .dataframe tbody tr th {\n",
       "        vertical-align: top;\n",
       "    }\n",
       "\n",
       "    .dataframe thead th {\n",
       "        text-align: right;\n",
       "    }\n",
       "</style>\n",
       "<table border=\"1\" class=\"dataframe\">\n",
       "  <thead>\n",
       "    <tr style=\"text-align: right;\">\n",
       "      <th>licenses_year</th>\n",
       "      <th>licenses_region</th>\n",
       "      <th>1993</th>\n",
       "      <th>1994</th>\n",
       "      <th>1995</th>\n",
       "      <th>1996</th>\n",
       "      <th>1997</th>\n",
       "      <th>1998</th>\n",
       "      <th>1999</th>\n",
       "      <th>2000</th>\n",
       "      <th>2001</th>\n",
       "      <th>...</th>\n",
       "      <th>2008</th>\n",
       "      <th>2009</th>\n",
       "      <th>2010</th>\n",
       "      <th>2011</th>\n",
       "      <th>2012</th>\n",
       "      <th>2013</th>\n",
       "      <th>2014</th>\n",
       "      <th>2015</th>\n",
       "      <th>2016</th>\n",
       "      <th>2017</th>\n",
       "    </tr>\n",
       "  </thead>\n",
       "  <tbody>\n",
       "    <tr>\n",
       "      <th>0</th>\n",
       "      <td>Al-Baha</td>\n",
       "      <td>3270</td>\n",
       "      <td>2729</td>\n",
       "      <td>2423</td>\n",
       "      <td>1468</td>\n",
       "      <td>3027</td>\n",
       "      <td>5110</td>\n",
       "      <td>4246</td>\n",
       "      <td>4832</td>\n",
       "      <td>7594</td>\n",
       "      <td>...</td>\n",
       "      <td>5418</td>\n",
       "      <td>9815</td>\n",
       "      <td>7076</td>\n",
       "      <td>6450</td>\n",
       "      <td>7593</td>\n",
       "      <td>7482</td>\n",
       "      <td>7268</td>\n",
       "      <td>4856</td>\n",
       "      <td>4614</td>\n",
       "      <td>4131</td>\n",
       "    </tr>\n",
       "    <tr>\n",
       "      <th>1</th>\n",
       "      <td>Al-Jouf</td>\n",
       "      <td>2884</td>\n",
       "      <td>2535</td>\n",
       "      <td>2270</td>\n",
       "      <td>2518</td>\n",
       "      <td>3565</td>\n",
       "      <td>3476</td>\n",
       "      <td>3950</td>\n",
       "      <td>4666</td>\n",
       "      <td>4756</td>\n",
       "      <td>...</td>\n",
       "      <td>10929</td>\n",
       "      <td>10567</td>\n",
       "      <td>10937</td>\n",
       "      <td>10180</td>\n",
       "      <td>10246</td>\n",
       "      <td>11602</td>\n",
       "      <td>9982</td>\n",
       "      <td>10233</td>\n",
       "      <td>9371</td>\n",
       "      <td>8091</td>\n",
       "    </tr>\n",
       "    <tr>\n",
       "      <th>2</th>\n",
       "      <td>Al-Qaseem</td>\n",
       "      <td>73618</td>\n",
       "      <td>68916</td>\n",
       "      <td>49690</td>\n",
       "      <td>42693</td>\n",
       "      <td>10092</td>\n",
       "      <td>11350</td>\n",
       "      <td>9983</td>\n",
       "      <td>12226</td>\n",
       "      <td>14718</td>\n",
       "      <td>...</td>\n",
       "      <td>22236</td>\n",
       "      <td>27571</td>\n",
       "      <td>36737</td>\n",
       "      <td>10760</td>\n",
       "      <td>11421</td>\n",
       "      <td>17889</td>\n",
       "      <td>29113</td>\n",
       "      <td>13631</td>\n",
       "      <td>9180</td>\n",
       "      <td>6318</td>\n",
       "    </tr>\n",
       "    <tr>\n",
       "      <th>3</th>\n",
       "      <td>Assir</td>\n",
       "      <td>6226</td>\n",
       "      <td>5185</td>\n",
       "      <td>4889</td>\n",
       "      <td>3319</td>\n",
       "      <td>12204</td>\n",
       "      <td>13220</td>\n",
       "      <td>14625</td>\n",
       "      <td>18622</td>\n",
       "      <td>20321</td>\n",
       "      <td>...</td>\n",
       "      <td>18800</td>\n",
       "      <td>21582</td>\n",
       "      <td>21835</td>\n",
       "      <td>24515</td>\n",
       "      <td>23136</td>\n",
       "      <td>29730</td>\n",
       "      <td>29552</td>\n",
       "      <td>38567</td>\n",
       "      <td>41367</td>\n",
       "      <td>39133</td>\n",
       "    </tr>\n",
       "    <tr>\n",
       "      <th>4</th>\n",
       "      <td>Eastern</td>\n",
       "      <td>9964</td>\n",
       "      <td>10918</td>\n",
       "      <td>7831</td>\n",
       "      <td>8461</td>\n",
       "      <td>58814</td>\n",
       "      <td>70650</td>\n",
       "      <td>64973</td>\n",
       "      <td>65767</td>\n",
       "      <td>74119</td>\n",
       "      <td>...</td>\n",
       "      <td>104626</td>\n",
       "      <td>108544</td>\n",
       "      <td>110295</td>\n",
       "      <td>151087</td>\n",
       "      <td>129971</td>\n",
       "      <td>123325</td>\n",
       "      <td>121774</td>\n",
       "      <td>135752</td>\n",
       "      <td>142307</td>\n",
       "      <td>126816</td>\n",
       "    </tr>\n",
       "    <tr>\n",
       "      <th>5</th>\n",
       "      <td>Hail</td>\n",
       "      <td>10484</td>\n",
       "      <td>11131</td>\n",
       "      <td>9735</td>\n",
       "      <td>10267</td>\n",
       "      <td>6606</td>\n",
       "      <td>4708</td>\n",
       "      <td>3139</td>\n",
       "      <td>3215</td>\n",
       "      <td>6077</td>\n",
       "      <td>...</td>\n",
       "      <td>7413</td>\n",
       "      <td>7282</td>\n",
       "      <td>7637</td>\n",
       "      <td>9123</td>\n",
       "      <td>11082</td>\n",
       "      <td>9731</td>\n",
       "      <td>10417</td>\n",
       "      <td>7172</td>\n",
       "      <td>54507</td>\n",
       "      <td>22035</td>\n",
       "    </tr>\n",
       "    <tr>\n",
       "      <th>6</th>\n",
       "      <td>Jazan</td>\n",
       "      <td>6009</td>\n",
       "      <td>3826</td>\n",
       "      <td>2284</td>\n",
       "      <td>2226</td>\n",
       "      <td>5695</td>\n",
       "      <td>2613</td>\n",
       "      <td>4792</td>\n",
       "      <td>5678</td>\n",
       "      <td>10631</td>\n",
       "      <td>...</td>\n",
       "      <td>11346</td>\n",
       "      <td>9437</td>\n",
       "      <td>12270</td>\n",
       "      <td>10946</td>\n",
       "      <td>11156</td>\n",
       "      <td>14175</td>\n",
       "      <td>15621</td>\n",
       "      <td>13931</td>\n",
       "      <td>11504</td>\n",
       "      <td>18345</td>\n",
       "    </tr>\n",
       "    <tr>\n",
       "      <th>7</th>\n",
       "      <td>Madinah</td>\n",
       "      <td>4122</td>\n",
       "      <td>3767</td>\n",
       "      <td>4155</td>\n",
       "      <td>3425</td>\n",
       "      <td>10495</td>\n",
       "      <td>13020</td>\n",
       "      <td>11108</td>\n",
       "      <td>9562</td>\n",
       "      <td>13561</td>\n",
       "      <td>...</td>\n",
       "      <td>9194</td>\n",
       "      <td>11574</td>\n",
       "      <td>15045</td>\n",
       "      <td>14630</td>\n",
       "      <td>14459</td>\n",
       "      <td>28513</td>\n",
       "      <td>31447</td>\n",
       "      <td>22744</td>\n",
       "      <td>24540</td>\n",
       "      <td>36165</td>\n",
       "    </tr>\n",
       "    <tr>\n",
       "      <th>8</th>\n",
       "      <td>Makkah</td>\n",
       "      <td>65977</td>\n",
       "      <td>75349</td>\n",
       "      <td>60356</td>\n",
       "      <td>46195</td>\n",
       "      <td>76623</td>\n",
       "      <td>86082</td>\n",
       "      <td>103535</td>\n",
       "      <td>87053</td>\n",
       "      <td>85593</td>\n",
       "      <td>...</td>\n",
       "      <td>77013</td>\n",
       "      <td>112045</td>\n",
       "      <td>113531</td>\n",
       "      <td>110647</td>\n",
       "      <td>143954</td>\n",
       "      <td>131108</td>\n",
       "      <td>149234</td>\n",
       "      <td>157389</td>\n",
       "      <td>136055</td>\n",
       "      <td>142487</td>\n",
       "    </tr>\n",
       "    <tr>\n",
       "      <th>9</th>\n",
       "      <td>Najran</td>\n",
       "      <td>3769</td>\n",
       "      <td>3880</td>\n",
       "      <td>3268</td>\n",
       "      <td>3274</td>\n",
       "      <td>3073</td>\n",
       "      <td>4322</td>\n",
       "      <td>3959</td>\n",
       "      <td>4905</td>\n",
       "      <td>4950</td>\n",
       "      <td>...</td>\n",
       "      <td>7938</td>\n",
       "      <td>6771</td>\n",
       "      <td>6360</td>\n",
       "      <td>7314</td>\n",
       "      <td>9201</td>\n",
       "      <td>8996</td>\n",
       "      <td>9601</td>\n",
       "      <td>1864</td>\n",
       "      <td>2153</td>\n",
       "      <td>13825</td>\n",
       "    </tr>\n",
       "    <tr>\n",
       "      <th>10</th>\n",
       "      <td>Northern Boarder</td>\n",
       "      <td>1510</td>\n",
       "      <td>1457</td>\n",
       "      <td>1318</td>\n",
       "      <td>1383</td>\n",
       "      <td>1531</td>\n",
       "      <td>2014</td>\n",
       "      <td>2311</td>\n",
       "      <td>2894</td>\n",
       "      <td>2971</td>\n",
       "      <td>...</td>\n",
       "      <td>3519</td>\n",
       "      <td>3649</td>\n",
       "      <td>3064</td>\n",
       "      <td>4314</td>\n",
       "      <td>3706</td>\n",
       "      <td>3921</td>\n",
       "      <td>5009</td>\n",
       "      <td>3837</td>\n",
       "      <td>4958</td>\n",
       "      <td>5280</td>\n",
       "    </tr>\n",
       "    <tr>\n",
       "      <th>11</th>\n",
       "      <td>Riyadh</td>\n",
       "      <td>103886</td>\n",
       "      <td>110545</td>\n",
       "      <td>101608</td>\n",
       "      <td>110131</td>\n",
       "      <td>92145</td>\n",
       "      <td>114962</td>\n",
       "      <td>100291</td>\n",
       "      <td>45345</td>\n",
       "      <td>13090</td>\n",
       "      <td>...</td>\n",
       "      <td>36798</td>\n",
       "      <td>38014</td>\n",
       "      <td>31378</td>\n",
       "      <td>27772</td>\n",
       "      <td>23888</td>\n",
       "      <td>165994</td>\n",
       "      <td>194208</td>\n",
       "      <td>24548</td>\n",
       "      <td>242851</td>\n",
       "      <td>495307</td>\n",
       "    </tr>\n",
       "    <tr>\n",
       "      <th>12</th>\n",
       "      <td>Tabouk</td>\n",
       "      <td>3174</td>\n",
       "      <td>3282</td>\n",
       "      <td>2051</td>\n",
       "      <td>2263</td>\n",
       "      <td>5426</td>\n",
       "      <td>6823</td>\n",
       "      <td>5298</td>\n",
       "      <td>8473</td>\n",
       "      <td>6344</td>\n",
       "      <td>...</td>\n",
       "      <td>14928</td>\n",
       "      <td>9424</td>\n",
       "      <td>10345</td>\n",
       "      <td>12820</td>\n",
       "      <td>11391</td>\n",
       "      <td>12848</td>\n",
       "      <td>12188</td>\n",
       "      <td>915</td>\n",
       "      <td>13610</td>\n",
       "      <td>10232</td>\n",
       "    </tr>\n",
       "    <tr>\n",
       "      <th>13</th>\n",
       "      <td>Total</td>\n",
       "      <td>294893</td>\n",
       "      <td>303520</td>\n",
       "      <td>251878</td>\n",
       "      <td>237623</td>\n",
       "      <td>289296</td>\n",
       "      <td>338350</td>\n",
       "      <td>332210</td>\n",
       "      <td>273238</td>\n",
       "      <td>264725</td>\n",
       "      <td>...</td>\n",
       "      <td>330158</td>\n",
       "      <td>376275</td>\n",
       "      <td>386510</td>\n",
       "      <td>400558</td>\n",
       "      <td>411204</td>\n",
       "      <td>565314</td>\n",
       "      <td>625414</td>\n",
       "      <td>435439</td>\n",
       "      <td>697017</td>\n",
       "      <td>928165</td>\n",
       "    </tr>\n",
       "  </tbody>\n",
       "</table>\n",
       "<p>14 rows × 26 columns</p>\n",
       "</div>"
      ],
      "text/plain": [
       "licenses_year   licenses_region    1993    1994    1995    1996    1997  \\\n",
       "0                       Al-Baha    3270    2729    2423    1468    3027   \n",
       "1                       Al-Jouf    2884    2535    2270    2518    3565   \n",
       "2                     Al-Qaseem   73618   68916   49690   42693   10092   \n",
       "3                         Assir    6226    5185    4889    3319   12204   \n",
       "4                       Eastern    9964   10918    7831    8461   58814   \n",
       "5                          Hail   10484   11131    9735   10267    6606   \n",
       "6                         Jazan    6009    3826    2284    2226    5695   \n",
       "7                       Madinah    4122    3767    4155    3425   10495   \n",
       "8                        Makkah   65977   75349   60356   46195   76623   \n",
       "9                        Najran    3769    3880    3268    3274    3073   \n",
       "10             Northern Boarder    1510    1457    1318    1383    1531   \n",
       "11                       Riyadh  103886  110545  101608  110131   92145   \n",
       "12                       Tabouk    3174    3282    2051    2263    5426   \n",
       "13                        Total  294893  303520  251878  237623  289296   \n",
       "\n",
       "licenses_year    1998    1999    2000    2001  ...    2008    2009    2010  \\\n",
       "0                5110    4246    4832    7594  ...    5418    9815    7076   \n",
       "1                3476    3950    4666    4756  ...   10929   10567   10937   \n",
       "2               11350    9983   12226   14718  ...   22236   27571   36737   \n",
       "3               13220   14625   18622   20321  ...   18800   21582   21835   \n",
       "4               70650   64973   65767   74119  ...  104626  108544  110295   \n",
       "5                4708    3139    3215    6077  ...    7413    7282    7637   \n",
       "6                2613    4792    5678   10631  ...   11346    9437   12270   \n",
       "7               13020   11108    9562   13561  ...    9194   11574   15045   \n",
       "8               86082  103535   87053   85593  ...   77013  112045  113531   \n",
       "9                4322    3959    4905    4950  ...    7938    6771    6360   \n",
       "10               2014    2311    2894    2971  ...    3519    3649    3064   \n",
       "11             114962  100291   45345   13090  ...   36798   38014   31378   \n",
       "12               6823    5298    8473    6344  ...   14928    9424   10345   \n",
       "13             338350  332210  273238  264725  ...  330158  376275  386510   \n",
       "\n",
       "licenses_year    2011    2012    2013    2014    2015    2016    2017  \n",
       "0                6450    7593    7482    7268    4856    4614    4131  \n",
       "1               10180   10246   11602    9982   10233    9371    8091  \n",
       "2               10760   11421   17889   29113   13631    9180    6318  \n",
       "3               24515   23136   29730   29552   38567   41367   39133  \n",
       "4              151087  129971  123325  121774  135752  142307  126816  \n",
       "5                9123   11082    9731   10417    7172   54507   22035  \n",
       "6               10946   11156   14175   15621   13931   11504   18345  \n",
       "7               14630   14459   28513   31447   22744   24540   36165  \n",
       "8              110647  143954  131108  149234  157389  136055  142487  \n",
       "9                7314    9201    8996    9601    1864    2153   13825  \n",
       "10               4314    3706    3921    5009    3837    4958    5280  \n",
       "11              27772   23888  165994  194208   24548  242851  495307  \n",
       "12              12820   11391   12848   12188     915   13610   10232  \n",
       "13             400558  411204  565314  625414  435439  697017  928165  \n",
       "\n",
       "[14 rows x 26 columns]"
      ]
     },
     "execution_count": 49,
     "metadata": {},
     "output_type": "execute_result"
    }
   ],
   "source": [
    "driving_licenses_back_to_wide"
   ]
  },
  {
   "cell_type": "code",
   "execution_count": 50,
   "metadata": {},
   "outputs": [],
   "source": [
    "traffic_accidents_back_to_wide=pd.pivot_table(traffic_accidents_new,index=['traffic_region','traffic_year'],columns=['traffic_indicator'],values='traffic_value')\\\n",
    ".reset_index()"
   ]
  },
  {
   "cell_type": "code",
   "execution_count": 51,
   "metadata": {},
   "outputs": [
    {
     "data": {
      "text/html": [
       "<div>\n",
       "<style scoped>\n",
       "    .dataframe tbody tr th:only-of-type {\n",
       "        vertical-align: middle;\n",
       "    }\n",
       "\n",
       "    .dataframe tbody tr th {\n",
       "        vertical-align: top;\n",
       "    }\n",
       "\n",
       "    .dataframe thead th {\n",
       "        text-align: right;\n",
       "    }\n",
       "</style>\n",
       "<table border=\"1\" class=\"dataframe\">\n",
       "  <thead>\n",
       "    <tr style=\"text-align: right;\">\n",
       "      <th>traffic_indicator</th>\n",
       "      <th>traffic_region</th>\n",
       "      <th>traffic_year</th>\n",
       "      <th>No. of Accidents</th>\n",
       "      <th>No. of Casualties - Dead</th>\n",
       "      <th>No. of Casualties - Injured</th>\n",
       "    </tr>\n",
       "  </thead>\n",
       "  <tbody>\n",
       "    <tr>\n",
       "      <th>0</th>\n",
       "      <td>Al-Baaha</td>\n",
       "      <td>2016</td>\n",
       "      <td>3618</td>\n",
       "      <td>185</td>\n",
       "      <td>1227</td>\n",
       "    </tr>\n",
       "    <tr>\n",
       "      <th>1</th>\n",
       "      <td>Al-Baaha</td>\n",
       "      <td>2017</td>\n",
       "      <td>1414</td>\n",
       "      <td>134</td>\n",
       "      <td>1007</td>\n",
       "    </tr>\n",
       "    <tr>\n",
       "      <th>2</th>\n",
       "      <td>Al-Jouf</td>\n",
       "      <td>2016</td>\n",
       "      <td>10212</td>\n",
       "      <td>245</td>\n",
       "      <td>920</td>\n",
       "    </tr>\n",
       "    <tr>\n",
       "      <th>3</th>\n",
       "      <td>Al-Jouf</td>\n",
       "      <td>2017</td>\n",
       "      <td>10469</td>\n",
       "      <td>240</td>\n",
       "      <td>862</td>\n",
       "    </tr>\n",
       "    <tr>\n",
       "      <th>4</th>\n",
       "      <td>Asir</td>\n",
       "      <td>2016</td>\n",
       "      <td>32684</td>\n",
       "      <td>983</td>\n",
       "      <td>2541</td>\n",
       "    </tr>\n",
       "    <tr>\n",
       "      <th>5</th>\n",
       "      <td>Asir</td>\n",
       "      <td>2017</td>\n",
       "      <td>25245</td>\n",
       "      <td>828</td>\n",
       "      <td>2368</td>\n",
       "    </tr>\n",
       "    <tr>\n",
       "      <th>6</th>\n",
       "      <td>Eastern Region</td>\n",
       "      <td>2016</td>\n",
       "      <td>101619</td>\n",
       "      <td>1113</td>\n",
       "      <td>4893</td>\n",
       "    </tr>\n",
       "    <tr>\n",
       "      <th>7</th>\n",
       "      <td>Eastern Region</td>\n",
       "      <td>2017</td>\n",
       "      <td>81433</td>\n",
       "      <td>963</td>\n",
       "      <td>4073</td>\n",
       "    </tr>\n",
       "    <tr>\n",
       "      <th>8</th>\n",
       "      <td>Hail</td>\n",
       "      <td>2016</td>\n",
       "      <td>10199</td>\n",
       "      <td>299</td>\n",
       "      <td>932</td>\n",
       "    </tr>\n",
       "    <tr>\n",
       "      <th>9</th>\n",
       "      <td>Hail</td>\n",
       "      <td>2017</td>\n",
       "      <td>9379</td>\n",
       "      <td>265</td>\n",
       "      <td>773</td>\n",
       "    </tr>\n",
       "    <tr>\n",
       "      <th>10</th>\n",
       "      <td>Jazan</td>\n",
       "      <td>2016</td>\n",
       "      <td>25873</td>\n",
       "      <td>514</td>\n",
       "      <td>2259</td>\n",
       "    </tr>\n",
       "    <tr>\n",
       "      <th>11</th>\n",
       "      <td>Jazan</td>\n",
       "      <td>2017</td>\n",
       "      <td>22161</td>\n",
       "      <td>466</td>\n",
       "      <td>2207</td>\n",
       "    </tr>\n",
       "    <tr>\n",
       "      <th>12</th>\n",
       "      <td>Madinah</td>\n",
       "      <td>2016</td>\n",
       "      <td>14475</td>\n",
       "      <td>822</td>\n",
       "      <td>4184</td>\n",
       "    </tr>\n",
       "    <tr>\n",
       "      <th>13</th>\n",
       "      <td>Madinah</td>\n",
       "      <td>2017</td>\n",
       "      <td>16070</td>\n",
       "      <td>580</td>\n",
       "      <td>2917</td>\n",
       "    </tr>\n",
       "    <tr>\n",
       "      <th>14</th>\n",
       "      <td>Makkah</td>\n",
       "      <td>2016</td>\n",
       "      <td>134838</td>\n",
       "      <td>2243</td>\n",
       "      <td>12383</td>\n",
       "    </tr>\n",
       "    <tr>\n",
       "      <th>15</th>\n",
       "      <td>Makkah</td>\n",
       "      <td>2017</td>\n",
       "      <td>145541</td>\n",
       "      <td>1641</td>\n",
       "      <td>10623</td>\n",
       "    </tr>\n",
       "    <tr>\n",
       "      <th>16</th>\n",
       "      <td>Najran</td>\n",
       "      <td>2016</td>\n",
       "      <td>3235</td>\n",
       "      <td>173</td>\n",
       "      <td>706</td>\n",
       "    </tr>\n",
       "    <tr>\n",
       "      <th>17</th>\n",
       "      <td>Najran</td>\n",
       "      <td>2017</td>\n",
       "      <td>3193</td>\n",
       "      <td>194</td>\n",
       "      <td>766</td>\n",
       "    </tr>\n",
       "    <tr>\n",
       "      <th>18</th>\n",
       "      <td>Northern Boarder</td>\n",
       "      <td>2016</td>\n",
       "      <td>13196</td>\n",
       "      <td>193</td>\n",
       "      <td>631</td>\n",
       "    </tr>\n",
       "    <tr>\n",
       "      <th>19</th>\n",
       "      <td>Northern Boarder</td>\n",
       "      <td>2017</td>\n",
       "      <td>11540</td>\n",
       "      <td>112</td>\n",
       "      <td>374</td>\n",
       "    </tr>\n",
       "    <tr>\n",
       "      <th>20</th>\n",
       "      <td>Qassim</td>\n",
       "      <td>2016</td>\n",
       "      <td>25664</td>\n",
       "      <td>397</td>\n",
       "      <td>1513</td>\n",
       "    </tr>\n",
       "    <tr>\n",
       "      <th>21</th>\n",
       "      <td>Qassim</td>\n",
       "      <td>2017</td>\n",
       "      <td>22405</td>\n",
       "      <td>319</td>\n",
       "      <td>1446</td>\n",
       "    </tr>\n",
       "    <tr>\n",
       "      <th>22</th>\n",
       "      <td>Riyadh</td>\n",
       "      <td>2016</td>\n",
       "      <td>141736</td>\n",
       "      <td>1430</td>\n",
       "      <td>4207</td>\n",
       "    </tr>\n",
       "    <tr>\n",
       "      <th>23</th>\n",
       "      <td>Riyadh</td>\n",
       "      <td>2017</td>\n",
       "      <td>99925</td>\n",
       "      <td>1399</td>\n",
       "      <td>4540</td>\n",
       "    </tr>\n",
       "    <tr>\n",
       "      <th>24</th>\n",
       "      <td>Tabouk</td>\n",
       "      <td>2016</td>\n",
       "      <td>16031</td>\n",
       "      <td>434</td>\n",
       "      <td>1724</td>\n",
       "    </tr>\n",
       "    <tr>\n",
       "      <th>25</th>\n",
       "      <td>Tabouk</td>\n",
       "      <td>2017</td>\n",
       "      <td>11713</td>\n",
       "      <td>348</td>\n",
       "      <td>1243</td>\n",
       "    </tr>\n",
       "    <tr>\n",
       "      <th>26</th>\n",
       "      <td>Total</td>\n",
       "      <td>2016</td>\n",
       "      <td>533380</td>\n",
       "      <td>9031</td>\n",
       "      <td>38120</td>\n",
       "    </tr>\n",
       "    <tr>\n",
       "      <th>27</th>\n",
       "      <td>Total</td>\n",
       "      <td>2017</td>\n",
       "      <td>460488</td>\n",
       "      <td>7489</td>\n",
       "      <td>33199</td>\n",
       "    </tr>\n",
       "  </tbody>\n",
       "</table>\n",
       "</div>"
      ],
      "text/plain": [
       "traffic_indicator    traffic_region  traffic_year  No. of Accidents  \\\n",
       "0                          Al-Baaha          2016              3618   \n",
       "1                          Al-Baaha          2017              1414   \n",
       "2                           Al-Jouf          2016             10212   \n",
       "3                           Al-Jouf          2017             10469   \n",
       "4                              Asir          2016             32684   \n",
       "5                              Asir          2017             25245   \n",
       "6                    Eastern Region          2016            101619   \n",
       "7                    Eastern Region          2017             81433   \n",
       "8                              Hail          2016             10199   \n",
       "9                              Hail          2017              9379   \n",
       "10                            Jazan          2016             25873   \n",
       "11                            Jazan          2017             22161   \n",
       "12                          Madinah          2016             14475   \n",
       "13                          Madinah          2017             16070   \n",
       "14                           Makkah          2016            134838   \n",
       "15                           Makkah          2017            145541   \n",
       "16                           Najran          2016              3235   \n",
       "17                           Najran          2017              3193   \n",
       "18                 Northern Boarder          2016             13196   \n",
       "19                 Northern Boarder          2017             11540   \n",
       "20                           Qassim          2016             25664   \n",
       "21                           Qassim          2017             22405   \n",
       "22                           Riyadh          2016            141736   \n",
       "23                           Riyadh          2017             99925   \n",
       "24                           Tabouk          2016             16031   \n",
       "25                           Tabouk          2017             11713   \n",
       "26                            Total          2016            533380   \n",
       "27                            Total          2017            460488   \n",
       "\n",
       "traffic_indicator  No. of Casualties - Dead  No. of Casualties - Injured  \n",
       "0                                       185                         1227  \n",
       "1                                       134                         1007  \n",
       "2                                       245                          920  \n",
       "3                                       240                          862  \n",
       "4                                       983                         2541  \n",
       "5                                       828                         2368  \n",
       "6                                      1113                         4893  \n",
       "7                                       963                         4073  \n",
       "8                                       299                          932  \n",
       "9                                       265                          773  \n",
       "10                                      514                         2259  \n",
       "11                                      466                         2207  \n",
       "12                                      822                         4184  \n",
       "13                                      580                         2917  \n",
       "14                                     2243                        12383  \n",
       "15                                     1641                        10623  \n",
       "16                                      173                          706  \n",
       "17                                      194                          766  \n",
       "18                                      193                          631  \n",
       "19                                      112                          374  \n",
       "20                                      397                         1513  \n",
       "21                                      319                         1446  \n",
       "22                                     1430                         4207  \n",
       "23                                     1399                         4540  \n",
       "24                                      434                         1724  \n",
       "25                                      348                         1243  \n",
       "26                                     9031                        38120  \n",
       "27                                     7489                        33199  "
      ]
     },
     "execution_count": 51,
     "metadata": {},
     "output_type": "execute_result"
    }
   ],
   "source": [
    "traffic_accidents_back_to_wide"
   ]
  },
  {
   "cell_type": "markdown",
   "metadata": {},
   "source": [
    "#### Total  is sum of traffic accidents for all regions."
   ]
  },
  {
   "cell_type": "code",
   "execution_count": 52,
   "metadata": {},
   "outputs": [],
   "source": [
    "i = traffic_accidents_new[((traffic_accidents_new.traffic_region == 'Total'))].index"
   ]
  },
  {
   "cell_type": "code",
   "execution_count": 53,
   "metadata": {},
   "outputs": [],
   "source": [
    "df_traffic_accidents=traffic_accidents_new.drop(i)"
   ]
  },
  {
   "cell_type": "code",
   "execution_count": 54,
   "metadata": {},
   "outputs": [
    {
     "data": {
      "text/plain": [
       "Int64Index([], dtype='int64')"
      ]
     },
     "execution_count": 54,
     "metadata": {},
     "output_type": "execute_result"
    }
   ],
   "source": [
    "df_traffic_accidents[((df_traffic_accidents.traffic_region == 'Total'))].index"
   ]
  },
  {
   "cell_type": "code",
   "execution_count": 55,
   "metadata": {},
   "outputs": [],
   "source": [
    "i = driving_licenses_new[((driving_licenses_new.licenses_region == 'Total'))].index"
   ]
  },
  {
   "cell_type": "code",
   "execution_count": 56,
   "metadata": {},
   "outputs": [],
   "source": [
    "df_driving_licenses=driving_licenses_new.drop(i)"
   ]
  },
  {
   "cell_type": "code",
   "execution_count": 57,
   "metadata": {},
   "outputs": [
    {
     "data": {
      "text/plain": [
       "Int64Index([], dtype='int64')"
      ]
     },
     "execution_count": 57,
     "metadata": {},
     "output_type": "execute_result"
    }
   ],
   "source": [
    "df_driving_licenses[((df_driving_licenses.licenses_region == 'Total'))].index"
   ]
  },
  {
   "cell_type": "markdown",
   "metadata": {},
   "source": [
    "#### 10a. Data formats\n",
    "Is the License data in long or wide format? How about the Accident data? And why?"
   ]
  },
  {
   "cell_type": "code",
   "execution_count": 58,
   "metadata": {
    "scrolled": true
   },
   "outputs": [
    {
     "data": {
      "text/html": [
       "<div>\n",
       "<style scoped>\n",
       "    .dataframe tbody tr th:only-of-type {\n",
       "        vertical-align: middle;\n",
       "    }\n",
       "\n",
       "    .dataframe tbody tr th {\n",
       "        vertical-align: top;\n",
       "    }\n",
       "\n",
       "    .dataframe thead th {\n",
       "        text-align: right;\n",
       "    }\n",
       "</style>\n",
       "<table border=\"1\" class=\"dataframe\">\n",
       "  <thead>\n",
       "    <tr style=\"text-align: right;\">\n",
       "      <th></th>\n",
       "      <th>licenses_year</th>\n",
       "      <th>licenses_region</th>\n",
       "      <th>driving_licenses</th>\n",
       "      <th>licenses_x_geo_point</th>\n",
       "      <th>licenses_y_geo_point</th>\n",
       "    </tr>\n",
       "  </thead>\n",
       "  <tbody>\n",
       "    <tr>\n",
       "      <th>0</th>\n",
       "      <td>2012</td>\n",
       "      <td>Makkah</td>\n",
       "      <td>143954</td>\n",
       "      <td>21.628963</td>\n",
       "      <td>41.26369</td>\n",
       "    </tr>\n",
       "    <tr>\n",
       "      <th>1</th>\n",
       "      <td>1994</td>\n",
       "      <td>Makkah</td>\n",
       "      <td>75349</td>\n",
       "      <td>21.628963</td>\n",
       "      <td>41.26369</td>\n",
       "    </tr>\n",
       "  </tbody>\n",
       "</table>\n",
       "</div>"
      ],
      "text/plain": [
       "   licenses_year licenses_region  driving_licenses  licenses_x_geo_point  \\\n",
       "0           2012          Makkah            143954             21.628963   \n",
       "1           1994          Makkah             75349             21.628963   \n",
       "\n",
       "   licenses_y_geo_point  \n",
       "0              41.26369  \n",
       "1              41.26369  "
      ]
     },
     "execution_count": 58,
     "metadata": {},
     "output_type": "execute_result"
    }
   ],
   "source": [
    "df_driving_licenses.head(2)"
   ]
  },
  {
   "cell_type": "markdown",
   "metadata": {},
   "source": [
    "<h6> License data in  wide format  each unique value header in the wide format.</h6>"
   ]
  },
  {
   "cell_type": "code",
   "execution_count": 59,
   "metadata": {
    "scrolled": true
   },
   "outputs": [
    {
     "data": {
      "text/html": [
       "<div>\n",
       "<style scoped>\n",
       "    .dataframe tbody tr th:only-of-type {\n",
       "        vertical-align: middle;\n",
       "    }\n",
       "\n",
       "    .dataframe tbody tr th {\n",
       "        vertical-align: top;\n",
       "    }\n",
       "\n",
       "    .dataframe thead th {\n",
       "        text-align: right;\n",
       "    }\n",
       "</style>\n",
       "<table border=\"1\" class=\"dataframe\">\n",
       "  <thead>\n",
       "    <tr style=\"text-align: right;\">\n",
       "      <th></th>\n",
       "      <th>traffic_year</th>\n",
       "      <th>traffic_region</th>\n",
       "      <th>traffic_indicator</th>\n",
       "      <th>traffic_value</th>\n",
       "      <th>traffic_x_geo_point</th>\n",
       "      <th>traffic_y_geo_point</th>\n",
       "    </tr>\n",
       "  </thead>\n",
       "  <tbody>\n",
       "    <tr>\n",
       "      <th>0</th>\n",
       "      <td>2016</td>\n",
       "      <td>Makkah</td>\n",
       "      <td>No. of Casualties - Injured</td>\n",
       "      <td>12383</td>\n",
       "      <td>21.628963</td>\n",
       "      <td>41.26369</td>\n",
       "    </tr>\n",
       "    <tr>\n",
       "      <th>1</th>\n",
       "      <td>2016</td>\n",
       "      <td>Eastern Region</td>\n",
       "      <td>No. of Casualties - Dead</td>\n",
       "      <td>1113</td>\n",
       "      <td>23.288331</td>\n",
       "      <td>50.14783</td>\n",
       "    </tr>\n",
       "  </tbody>\n",
       "</table>\n",
       "</div>"
      ],
      "text/plain": [
       "   traffic_year  traffic_region            traffic_indicator  traffic_value  \\\n",
       "0          2016          Makkah  No. of Casualties - Injured          12383   \n",
       "1          2016  Eastern Region     No. of Casualties - Dead           1113   \n",
       "\n",
       "   traffic_x_geo_point  traffic_y_geo_point  \n",
       "0            21.628963             41.26369  \n",
       "1            23.288331             50.14783  "
      ]
     },
     "execution_count": 59,
     "metadata": {},
     "output_type": "execute_result"
    }
   ],
   "source": [
    "df_traffic_accidents.head(2)"
   ]
  },
  {
   "cell_type": "markdown",
   "metadata": {},
   "source": [
    "<h6>accidents data in long format multi values headers in the long format</h6>"
   ]
  },
  {
   "cell_type": "markdown",
   "metadata": {},
   "source": [
    "#### 10b. Changing formats\n",
    "Which format would work best for both dataframes? Transform the datasets to the same format before merging in the next task."
   ]
  },
  {
   "cell_type": "code",
   "execution_count": 60,
   "metadata": {
    "scrolled": true
   },
   "outputs": [
    {
     "data": {
      "text/plain": [
       "Index(['traffic_year', 'traffic_region', 'traffic_indicator', 'traffic_value',\n",
       "       'traffic_x_geo_point', 'traffic_y_geo_point'],\n",
       "      dtype='object')"
      ]
     },
     "execution_count": 60,
     "metadata": {},
     "output_type": "execute_result"
    }
   ],
   "source": [
    "df_traffic_accidents.columns"
   ]
  },
  {
   "cell_type": "code",
   "execution_count": 61,
   "metadata": {},
   "outputs": [
    {
     "data": {
      "text/html": [
       "<div>\n",
       "<style scoped>\n",
       "    .dataframe tbody tr th:only-of-type {\n",
       "        vertical-align: middle;\n",
       "    }\n",
       "\n",
       "    .dataframe tbody tr th {\n",
       "        vertical-align: top;\n",
       "    }\n",
       "\n",
       "    .dataframe thead th {\n",
       "        text-align: right;\n",
       "    }\n",
       "</style>\n",
       "<table border=\"1\" class=\"dataframe\">\n",
       "  <thead>\n",
       "    <tr style=\"text-align: right;\">\n",
       "      <th>traffic_indicator</th>\n",
       "      <th>traffic_year</th>\n",
       "      <th>traffic_region</th>\n",
       "      <th>traffic_x_geo_point</th>\n",
       "      <th>traffic_y_geo_point</th>\n",
       "      <th>No. of Accidents</th>\n",
       "      <th>No. of Casualties - Dead</th>\n",
       "      <th>No. of Casualties - Injured</th>\n",
       "    </tr>\n",
       "  </thead>\n",
       "  <tbody>\n",
       "    <tr>\n",
       "      <th>0</th>\n",
       "      <td>2016</td>\n",
       "      <td>Al-Baaha</td>\n",
       "      <td>20.148406</td>\n",
       "      <td>41.466548</td>\n",
       "      <td>3618</td>\n",
       "      <td>185</td>\n",
       "      <td>1227</td>\n",
       "    </tr>\n",
       "    <tr>\n",
       "      <th>1</th>\n",
       "      <td>2016</td>\n",
       "      <td>Al-Jouf</td>\n",
       "      <td>29.967745</td>\n",
       "      <td>39.557037</td>\n",
       "      <td>10212</td>\n",
       "      <td>245</td>\n",
       "      <td>920</td>\n",
       "    </tr>\n",
       "    <tr>\n",
       "      <th>2</th>\n",
       "      <td>2016</td>\n",
       "      <td>Asir</td>\n",
       "      <td>19.138785</td>\n",
       "      <td>42.941470</td>\n",
       "      <td>32684</td>\n",
       "      <td>983</td>\n",
       "      <td>2541</td>\n",
       "    </tr>\n",
       "    <tr>\n",
       "      <th>3</th>\n",
       "      <td>2016</td>\n",
       "      <td>Eastern Region</td>\n",
       "      <td>23.288331</td>\n",
       "      <td>50.147830</td>\n",
       "      <td>101619</td>\n",
       "      <td>1113</td>\n",
       "      <td>4893</td>\n",
       "    </tr>\n",
       "    <tr>\n",
       "      <th>4</th>\n",
       "      <td>2016</td>\n",
       "      <td>Hail</td>\n",
       "      <td>27.400846</td>\n",
       "      <td>41.440696</td>\n",
       "      <td>10199</td>\n",
       "      <td>299</td>\n",
       "      <td>932</td>\n",
       "    </tr>\n",
       "  </tbody>\n",
       "</table>\n",
       "</div>"
      ],
      "text/plain": [
       "traffic_indicator  traffic_year  traffic_region  traffic_x_geo_point  \\\n",
       "0                          2016        Al-Baaha            20.148406   \n",
       "1                          2016         Al-Jouf            29.967745   \n",
       "2                          2016            Asir            19.138785   \n",
       "3                          2016  Eastern Region            23.288331   \n",
       "4                          2016            Hail            27.400846   \n",
       "\n",
       "traffic_indicator  traffic_y_geo_point  No. of Accidents  \\\n",
       "0                            41.466548              3618   \n",
       "1                            39.557037             10212   \n",
       "2                            42.941470             32684   \n",
       "3                            50.147830            101619   \n",
       "4                            41.440696             10199   \n",
       "\n",
       "traffic_indicator  No. of Casualties - Dead  No. of Casualties - Injured  \n",
       "0                                       185                         1227  \n",
       "1                                       245                          920  \n",
       "2                                       983                         2541  \n",
       "3                                      1113                         4893  \n",
       "4                                       299                          932  "
      ]
     },
     "execution_count": 61,
     "metadata": {},
     "output_type": "execute_result"
    }
   ],
   "source": [
    "df_traffic_accidents1=df_traffic_accidents.pivot_table(index=['traffic_year', 'traffic_region', 'traffic_x_geo_point',\n",
    "                                            'traffic_y_geo_point'],\n",
    "                                     columns=['traffic_indicator'],values='traffic_value').reset_index()\n",
    "df_traffic_accidents1.head()"
   ]
  },
  {
   "cell_type": "code",
   "execution_count": 62,
   "metadata": {
    "scrolled": true
   },
   "outputs": [
    {
     "data": {
      "text/plain": [
       "array(['Al-Baaha', 'Al-Jouf', 'Asir', 'Eastern Region', 'Hail', 'Jazan',\n",
       "       'Madinah', 'Makkah', 'Najran', 'Northern Boarder', 'Qassim',\n",
       "       'Riyadh', 'Tabouk'], dtype=object)"
      ]
     },
     "execution_count": 62,
     "metadata": {},
     "output_type": "execute_result"
    }
   ],
   "source": [
    "df_traffic_accidents1['traffic_region'].unique()"
   ]
  },
  {
   "cell_type": "code",
   "execution_count": 63,
   "metadata": {
    "scrolled": true
   },
   "outputs": [
    {
     "data": {
      "text/plain": [
       "array(['Makkah', 'Madinah', 'Al-Qaseem', 'Eastern', 'Assir', 'Tabouk',\n",
       "       'Hail', 'Northern Boarder', 'Jazan', 'Najran', 'Al-Baha',\n",
       "       'Al-Jouf', 'Riyadh'], dtype=object)"
      ]
     },
     "execution_count": 63,
     "metadata": {},
     "output_type": "execute_result"
    }
   ],
   "source": [
    "df_driving_licenses['licenses_region'].unique()"
   ]
  },
  {
   "cell_type": "code",
   "execution_count": 64,
   "metadata": {},
   "outputs": [],
   "source": [
    "region_name={'Makkah': 'Makkah', \n",
    "            'Eastern Region': 'Eastern',\n",
    "            'Tabouk': 'Tabouk',\n",
    "            'Hail': 'Hail',\n",
    "            'Northern Boarder':'Northern Boarder',\n",
    "            'Jazan': 'Jazan',\n",
    "            'Al-Jouf': 'Al-Jouf', \n",
    "            'Al-Baaha': 'Al_Baha',\n",
    "            'Riyadh':'Riyadh',\n",
    "            'Madinah': 'Madinah',\n",
    "            'Qassim': 'Al-Qaseem',\n",
    "            'Najran': 'Najran',\n",
    "            'Asir': 'Assir'}\n"
   ]
  },
  {
   "cell_type": "code",
   "execution_count": 65,
   "metadata": {},
   "outputs": [],
   "source": [
    "df_traffic_accidents1['traffic_region']=df_traffic_accidents1['traffic_region'].map(region_name)"
   ]
  },
  {
   "cell_type": "code",
   "execution_count": 66,
   "metadata": {},
   "outputs": [
    {
     "data": {
      "text/plain": [
       "array(['Al_Baha', 'Al-Jouf', 'Assir', 'Eastern', 'Hail', 'Jazan',\n",
       "       'Madinah', 'Makkah', 'Najran', 'Northern Boarder', 'Al-Qaseem',\n",
       "       'Riyadh', 'Tabouk'], dtype=object)"
      ]
     },
     "execution_count": 66,
     "metadata": {},
     "output_type": "execute_result"
    }
   ],
   "source": [
    "df_traffic_accidents1['traffic_region'].unique()"
   ]
  },
  {
   "cell_type": "code",
   "execution_count": 67,
   "metadata": {},
   "outputs": [
    {
     "data": {
      "text/plain": [
       "array(['Makkah', 'Madinah', 'Al-Qaseem', 'Eastern', 'Assir', 'Tabouk',\n",
       "       'Hail', 'Northern Boarder', 'Jazan', 'Najran', 'Al-Baha',\n",
       "       'Al-Jouf', 'Riyadh'], dtype=object)"
      ]
     },
     "execution_count": 67,
     "metadata": {},
     "output_type": "execute_result"
    }
   ],
   "source": [
    "df_driving_licenses['licenses_region'].unique()"
   ]
  },
  {
   "cell_type": "markdown",
   "metadata": {},
   "source": [
    "#### 11. Merge dataframes\n",
    "\n",
    "Join the Driving Licenses & Traffic Accidents dataframes using the **region** and **year** in each dataframe as the key. Assign this to a new variable. Which join should you use to preserve the most data?"
   ]
  },
  {
   "cell_type": "code",
   "execution_count": 68,
   "metadata": {},
   "outputs": [],
   "source": [
    "traffic_driving= df_driving_licenses.merge(df_traffic_accidents1, left_on=['licenses_region','licenses_year'], right_on=['traffic_region','traffic_year'])"
   ]
  },
  {
   "cell_type": "code",
   "execution_count": 69,
   "metadata": {
    "scrolled": true
   },
   "outputs": [
    {
     "data": {
      "text/html": [
       "<div>\n",
       "<style scoped>\n",
       "    .dataframe tbody tr th:only-of-type {\n",
       "        vertical-align: middle;\n",
       "    }\n",
       "\n",
       "    .dataframe tbody tr th {\n",
       "        vertical-align: top;\n",
       "    }\n",
       "\n",
       "    .dataframe thead th {\n",
       "        text-align: right;\n",
       "    }\n",
       "</style>\n",
       "<table border=\"1\" class=\"dataframe\">\n",
       "  <thead>\n",
       "    <tr style=\"text-align: right;\">\n",
       "      <th></th>\n",
       "      <th>licenses_year</th>\n",
       "      <th>licenses_region</th>\n",
       "      <th>driving_licenses</th>\n",
       "      <th>licenses_x_geo_point</th>\n",
       "      <th>licenses_y_geo_point</th>\n",
       "      <th>traffic_year</th>\n",
       "      <th>traffic_region</th>\n",
       "      <th>traffic_x_geo_point</th>\n",
       "      <th>traffic_y_geo_point</th>\n",
       "      <th>No. of Accidents</th>\n",
       "      <th>No. of Casualties - Dead</th>\n",
       "      <th>No. of Casualties - Injured</th>\n",
       "    </tr>\n",
       "  </thead>\n",
       "  <tbody>\n",
       "    <tr>\n",
       "      <th>0</th>\n",
       "      <td>2017</td>\n",
       "      <td>Hail</td>\n",
       "      <td>22035</td>\n",
       "      <td>27.400846</td>\n",
       "      <td>41.440696</td>\n",
       "      <td>2017</td>\n",
       "      <td>Hail</td>\n",
       "      <td>27.400846</td>\n",
       "      <td>41.440696</td>\n",
       "      <td>9379</td>\n",
       "      <td>265</td>\n",
       "      <td>773</td>\n",
       "    </tr>\n",
       "    <tr>\n",
       "      <th>1</th>\n",
       "      <td>2017</td>\n",
       "      <td>Northern Boarder</td>\n",
       "      <td>5280</td>\n",
       "      <td>30.197075</td>\n",
       "      <td>41.817119</td>\n",
       "      <td>2017</td>\n",
       "      <td>Northern Boarder</td>\n",
       "      <td>30.197075</td>\n",
       "      <td>41.817119</td>\n",
       "      <td>11540</td>\n",
       "      <td>112</td>\n",
       "      <td>374</td>\n",
       "    </tr>\n",
       "    <tr>\n",
       "      <th>2</th>\n",
       "      <td>2017</td>\n",
       "      <td>Al-Qaseem</td>\n",
       "      <td>6318</td>\n",
       "      <td>26.196706</td>\n",
       "      <td>43.343000</td>\n",
       "      <td>2017</td>\n",
       "      <td>Al-Qaseem</td>\n",
       "      <td>26.196706</td>\n",
       "      <td>43.343000</td>\n",
       "      <td>22405</td>\n",
       "      <td>319</td>\n",
       "      <td>1446</td>\n",
       "    </tr>\n",
       "    <tr>\n",
       "      <th>3</th>\n",
       "      <td>2017</td>\n",
       "      <td>Eastern</td>\n",
       "      <td>126816</td>\n",
       "      <td>23.288331</td>\n",
       "      <td>50.147830</td>\n",
       "      <td>2017</td>\n",
       "      <td>Eastern</td>\n",
       "      <td>23.288331</td>\n",
       "      <td>50.147830</td>\n",
       "      <td>81433</td>\n",
       "      <td>963</td>\n",
       "      <td>4073</td>\n",
       "    </tr>\n",
       "    <tr>\n",
       "      <th>4</th>\n",
       "      <td>2017</td>\n",
       "      <td>Tabouk</td>\n",
       "      <td>10232</td>\n",
       "      <td>27.901655</td>\n",
       "      <td>37.259858</td>\n",
       "      <td>2017</td>\n",
       "      <td>Tabouk</td>\n",
       "      <td>27.901655</td>\n",
       "      <td>37.259858</td>\n",
       "      <td>11713</td>\n",
       "      <td>348</td>\n",
       "      <td>1243</td>\n",
       "    </tr>\n",
       "  </tbody>\n",
       "</table>\n",
       "</div>"
      ],
      "text/plain": [
       "   licenses_year   licenses_region  driving_licenses  licenses_x_geo_point  \\\n",
       "0           2017              Hail             22035             27.400846   \n",
       "1           2017  Northern Boarder              5280             30.197075   \n",
       "2           2017         Al-Qaseem              6318             26.196706   \n",
       "3           2017           Eastern            126816             23.288331   \n",
       "4           2017            Tabouk             10232             27.901655   \n",
       "\n",
       "   licenses_y_geo_point  traffic_year    traffic_region  traffic_x_geo_point  \\\n",
       "0             41.440696          2017              Hail            27.400846   \n",
       "1             41.817119          2017  Northern Boarder            30.197075   \n",
       "2             43.343000          2017         Al-Qaseem            26.196706   \n",
       "3             50.147830          2017           Eastern            23.288331   \n",
       "4             37.259858          2017            Tabouk            27.901655   \n",
       "\n",
       "   traffic_y_geo_point  No. of Accidents  No. of Casualties - Dead  \\\n",
       "0            41.440696              9379                       265   \n",
       "1            41.817119             11540                       112   \n",
       "2            43.343000             22405                       319   \n",
       "3            50.147830             81433                       963   \n",
       "4            37.259858             11713                       348   \n",
       "\n",
       "   No. of Casualties - Injured  \n",
       "0                          773  \n",
       "1                          374  \n",
       "2                         1446  \n",
       "3                         4073  \n",
       "4                         1243  "
      ]
     },
     "execution_count": 69,
     "metadata": {},
     "output_type": "execute_result"
    }
   ],
   "source": [
    "traffic_driving.head()"
   ]
  },
  {
   "cell_type": "code",
   "execution_count": 70,
   "metadata": {},
   "outputs": [
    {
     "data": {
      "text/plain": [
       "(24, 12)"
      ]
     },
     "execution_count": 70,
     "metadata": {},
     "output_type": "execute_result"
    }
   ],
   "source": [
    "traffic_driving.shape"
   ]
  },
  {
   "cell_type": "code",
   "execution_count": 71,
   "metadata": {
    "scrolled": true
   },
   "outputs": [
    {
     "data": {
      "text/plain": [
       "Index(['licenses_year', 'licenses_region', 'driving_licenses',\n",
       "       'licenses_x_geo_point', 'licenses_y_geo_point', 'traffic_year',\n",
       "       'traffic_region', 'traffic_x_geo_point', 'traffic_y_geo_point',\n",
       "       'No. of Accidents', 'No. of Casualties - Dead',\n",
       "       'No. of Casualties - Injured'],\n",
       "      dtype='object')"
      ]
     },
     "execution_count": 71,
     "metadata": {},
     "output_type": "execute_result"
    }
   ],
   "source": [
    "traffic_driving.columns"
   ]
  },
  {
   "cell_type": "code",
   "execution_count": 72,
   "metadata": {},
   "outputs": [
    {
     "data": {
      "text/plain": [
       "licenses_year                  0\n",
       "licenses_region                0\n",
       "driving_licenses               0\n",
       "licenses_x_geo_point           0\n",
       "licenses_y_geo_point           0\n",
       "traffic_year                   0\n",
       "traffic_region                 0\n",
       "traffic_x_geo_point            0\n",
       "traffic_y_geo_point            0\n",
       "No. of Accidents               0\n",
       "No. of Casualties - Dead       0\n",
       "No. of Casualties - Injured    0\n",
       "dtype: int64"
      ]
     },
     "execution_count": 72,
     "metadata": {},
     "output_type": "execute_result"
    }
   ],
   "source": [
    "traffic_driving.isna().sum()"
   ]
  },
  {
   "cell_type": "markdown",
   "metadata": {},
   "source": [
    "<p>Inner join It will returns a dataframe with only those rows that have common characteristics.</p>"
   ]
  },
  {
   "cell_type": "markdown",
   "metadata": {},
   "source": [
    "#### 12. Save your cleaned, merged dataframe\n",
    "\n",
    "Use a relative path to save out your data as `combined_datasets.csv`."
   ]
  },
  {
   "cell_type": "code",
   "execution_count": 73,
   "metadata": {},
   "outputs": [],
   "source": [
    "traffic_driving.to_csv('../data/combined_datasets.csv')"
   ]
  },
  {
   "cell_type": "code",
   "execution_count": 74,
   "metadata": {},
   "outputs": [
    {
     "name": "stdout",
     "output_type": "stream",
     "text": [
      "<class 'pandas.core.frame.DataFrame'>\n",
      "Int64Index: 24 entries, 0 to 23\n",
      "Data columns (total 12 columns):\n",
      " #   Column                       Non-Null Count  Dtype  \n",
      "---  ------                       --------------  -----  \n",
      " 0   licenses_year                24 non-null     int64  \n",
      " 1   licenses_region              24 non-null     object \n",
      " 2   driving_licenses             24 non-null     int64  \n",
      " 3   licenses_x_geo_point         24 non-null     float64\n",
      " 4   licenses_y_geo_point         24 non-null     float64\n",
      " 5   traffic_year                 24 non-null     int64  \n",
      " 6   traffic_region               24 non-null     object \n",
      " 7   traffic_x_geo_point          24 non-null     float64\n",
      " 8   traffic_y_geo_point          24 non-null     float64\n",
      " 9   No. of Accidents             24 non-null     int64  \n",
      " 10  No. of Casualties - Dead     24 non-null     int64  \n",
      " 11  No. of Casualties - Injured  24 non-null     int64  \n",
      "dtypes: float64(4), int64(6), object(2)\n",
      "memory usage: 2.4+ KB\n"
     ]
    }
   ],
   "source": [
    "traffic_driving.info()"
   ]
  },
  {
   "cell_type": "markdown",
   "metadata": {},
   "source": [
    "## Exploratory Data Analysis\n",
    "\n",
    "\n",
    "### Summary Statistics\n",
    "Transpose the output of pandas `describe` method to create a quick overview of each numeric feature."
   ]
  },
  {
   "cell_type": "code",
   "execution_count": 75,
   "metadata": {},
   "outputs": [
    {
     "data": {
      "text/html": [
       "<div>\n",
       "<style scoped>\n",
       "    .dataframe tbody tr th:only-of-type {\n",
       "        vertical-align: middle;\n",
       "    }\n",
       "\n",
       "    .dataframe tbody tr th {\n",
       "        vertical-align: top;\n",
       "    }\n",
       "\n",
       "    .dataframe thead th {\n",
       "        text-align: right;\n",
       "    }\n",
       "</style>\n",
       "<table border=\"1\" class=\"dataframe\">\n",
       "  <thead>\n",
       "    <tr style=\"text-align: right;\">\n",
       "      <th></th>\n",
       "      <th>licenses_year</th>\n",
       "      <th>driving_licenses</th>\n",
       "      <th>licenses_x_geo_point</th>\n",
       "      <th>licenses_y_geo_point</th>\n",
       "      <th>traffic_year</th>\n",
       "      <th>traffic_x_geo_point</th>\n",
       "      <th>traffic_y_geo_point</th>\n",
       "      <th>No. of Accidents</th>\n",
       "      <th>No. of Casualties - Dead</th>\n",
       "      <th>No. of Casualties - Injured</th>\n",
       "    </tr>\n",
       "  </thead>\n",
       "  <tbody>\n",
       "    <tr>\n",
       "      <th>count</th>\n",
       "      <td>24.000000</td>\n",
       "      <td>24.000000</td>\n",
       "      <td>24.000000</td>\n",
       "      <td>24.000000</td>\n",
       "      <td>24.000000</td>\n",
       "      <td>24.000000</td>\n",
       "      <td>24.000000</td>\n",
       "      <td>24.000000</td>\n",
       "      <td>24.000000</td>\n",
       "      <td>24.000000</td>\n",
       "    </tr>\n",
       "    <tr>\n",
       "      <th>mean</th>\n",
       "      <td>2016.500000</td>\n",
       "      <td>67351.541667</td>\n",
       "      <td>24.115617</td>\n",
       "      <td>42.697475</td>\n",
       "      <td>2016.500000</td>\n",
       "      <td>24.115617</td>\n",
       "      <td>42.697475</td>\n",
       "      <td>41201.500000</td>\n",
       "      <td>675.041667</td>\n",
       "      <td>2878.541667</td>\n",
       "    </tr>\n",
       "    <tr>\n",
       "      <th>std</th>\n",
       "      <td>0.510754</td>\n",
       "      <td>110429.397645</td>\n",
       "      <td>4.312442</td>\n",
       "      <td>3.436948</td>\n",
       "      <td>0.510754</td>\n",
       "      <td>4.312442</td>\n",
       "      <td>3.436948</td>\n",
       "      <td>47216.564791</td>\n",
       "      <td>554.215739</td>\n",
       "      <td>3005.740233</td>\n",
       "    </tr>\n",
       "    <tr>\n",
       "      <th>min</th>\n",
       "      <td>2016.000000</td>\n",
       "      <td>2153.000000</td>\n",
       "      <td>17.207231</td>\n",
       "      <td>37.259858</td>\n",
       "      <td>2016.000000</td>\n",
       "      <td>17.207231</td>\n",
       "      <td>37.259858</td>\n",
       "      <td>3193.000000</td>\n",
       "      <td>112.000000</td>\n",
       "      <td>374.000000</td>\n",
       "    </tr>\n",
       "    <tr>\n",
       "      <th>25%</th>\n",
       "      <td>2016.000000</td>\n",
       "      <td>9323.250000</td>\n",
       "      <td>21.006418</td>\n",
       "      <td>40.837027</td>\n",
       "      <td>2016.000000</td>\n",
       "      <td>21.006418</td>\n",
       "      <td>40.837027</td>\n",
       "      <td>11272.250000</td>\n",
       "      <td>260.000000</td>\n",
       "      <td>905.500000</td>\n",
       "    </tr>\n",
       "    <tr>\n",
       "      <th>50%</th>\n",
       "      <td>2016.500000</td>\n",
       "      <td>20190.000000</td>\n",
       "      <td>24.107933</td>\n",
       "      <td>42.234850</td>\n",
       "      <td>2016.500000</td>\n",
       "      <td>24.107933</td>\n",
       "      <td>42.234850</td>\n",
       "      <td>19115.500000</td>\n",
       "      <td>450.000000</td>\n",
       "      <td>1965.500000</td>\n",
       "    </tr>\n",
       "    <tr>\n",
       "      <th>75%</th>\n",
       "      <td>2017.000000</td>\n",
       "      <td>72584.250000</td>\n",
       "      <td>27.526048</td>\n",
       "      <td>43.903688</td>\n",
       "      <td>2017.000000</td>\n",
       "      <td>27.526048</td>\n",
       "      <td>43.903688</td>\n",
       "      <td>44871.250000</td>\n",
       "      <td>968.000000</td>\n",
       "      <td>4100.750000</td>\n",
       "    </tr>\n",
       "    <tr>\n",
       "      <th>max</th>\n",
       "      <td>2017.000000</td>\n",
       "      <td>495307.000000</td>\n",
       "      <td>30.197075</td>\n",
       "      <td>50.147830</td>\n",
       "      <td>2017.000000</td>\n",
       "      <td>30.197075</td>\n",
       "      <td>50.147830</td>\n",
       "      <td>145541.000000</td>\n",
       "      <td>2243.000000</td>\n",
       "      <td>12383.000000</td>\n",
       "    </tr>\n",
       "  </tbody>\n",
       "</table>\n",
       "</div>"
      ],
      "text/plain": [
       "       licenses_year  driving_licenses  licenses_x_geo_point  \\\n",
       "count      24.000000         24.000000             24.000000   \n",
       "mean     2016.500000      67351.541667             24.115617   \n",
       "std         0.510754     110429.397645              4.312442   \n",
       "min      2016.000000       2153.000000             17.207231   \n",
       "25%      2016.000000       9323.250000             21.006418   \n",
       "50%      2016.500000      20190.000000             24.107933   \n",
       "75%      2017.000000      72584.250000             27.526048   \n",
       "max      2017.000000     495307.000000             30.197075   \n",
       "\n",
       "       licenses_y_geo_point  traffic_year  traffic_x_geo_point  \\\n",
       "count             24.000000     24.000000            24.000000   \n",
       "mean              42.697475   2016.500000            24.115617   \n",
       "std                3.436948      0.510754             4.312442   \n",
       "min               37.259858   2016.000000            17.207231   \n",
       "25%               40.837027   2016.000000            21.006418   \n",
       "50%               42.234850   2016.500000            24.107933   \n",
       "75%               43.903688   2017.000000            27.526048   \n",
       "max               50.147830   2017.000000            30.197075   \n",
       "\n",
       "       traffic_y_geo_point  No. of Accidents  No. of Casualties - Dead  \\\n",
       "count            24.000000         24.000000                 24.000000   \n",
       "mean             42.697475      41201.500000                675.041667   \n",
       "std               3.436948      47216.564791                554.215739   \n",
       "min              37.259858       3193.000000                112.000000   \n",
       "25%              40.837027      11272.250000                260.000000   \n",
       "50%              42.234850      19115.500000                450.000000   \n",
       "75%              43.903688      44871.250000                968.000000   \n",
       "max              50.147830     145541.000000               2243.000000   \n",
       "\n",
       "       No. of Casualties - Injured  \n",
       "count                    24.000000  \n",
       "mean                   2878.541667  \n",
       "std                    3005.740233  \n",
       "min                     374.000000  \n",
       "25%                     905.500000  \n",
       "50%                    1965.500000  \n",
       "75%                    4100.750000  \n",
       "max                   12383.000000  "
      ]
     },
     "execution_count": 75,
     "metadata": {},
     "output_type": "execute_result"
    }
   ],
   "source": [
    "traffic_driving.describe()"
   ]
  },
  {
   "cell_type": "markdown",
   "metadata": {},
   "source": [
    "#### Manually calculate standard deviation\n",
    "\n",
    "$$\\sigma = \\sqrt{\\frac{1}{n}\\sum_{i=1}^n(x_i - \\mu)^2}$$\n",
    "\n",
    "- Write a function to calculate standard deviation using the formula above"
   ]
  },
  {
   "cell_type": "code",
   "execution_count": 76,
   "metadata": {},
   "outputs": [
    {
     "name": "stdout",
     "output_type": "stream",
     "text": [
      "108104.3078231156\n"
     ]
    }
   ],
   "source": [
    "def stdev(data):\n",
    "    n = len(data)\n",
    "    mean = sum(data) / n #to find mean\n",
    "    deviations = [(x - mean) ** 2 for x in data]\n",
    "    variance = sum(deviations) / n\n",
    "    std= variance ** (1/2)\n",
    "    return std \n",
    "print(stdev(traffic_driving['driving_licenses']))"
   ]
  },
  {
   "cell_type": "code",
   "execution_count": 77,
   "metadata": {
    "scrolled": true
   },
   "outputs": [
    {
     "data": {
      "text/plain": [
       "licenses_year                       0.510754\n",
       "driving_licenses               110429.397645\n",
       "licenses_x_geo_point                4.312442\n",
       "licenses_y_geo_point                3.436948\n",
       "traffic_year                        0.510754\n",
       "traffic_x_geo_point                 4.312442\n",
       "traffic_y_geo_point                 3.436948\n",
       "No. of Accidents                47216.564791\n",
       "No. of Casualties - Dead          554.215739\n",
       "No. of Casualties - Injured      3005.740233\n",
       "dtype: float64"
      ]
     },
     "execution_count": 77,
     "metadata": {},
     "output_type": "execute_result"
    }
   ],
   "source": [
    "traffic_driving.std()"
   ]
  },
  {
   "cell_type": "markdown",
   "metadata": {},
   "source": [
    "- Use a **dictionary comprehension** to apply your standard deviation function to each numeric column in the dataframe.  **No loops**  \n",
    "- Assign the output to variable `sd` as a dictionary where: \n",
    "    - Each column name is now a key \n",
    "    - That standard deviation of the column is the value \n",
    "     \n",
    "*Example Output :* `{'Driving_Licenses_x': 120, 'Traffic_Accidents_x': 120, ...}`"
   ]
  },
  {
   "cell_type": "code",
   "execution_count": 78,
   "metadata": {
    "scrolled": true
   },
   "outputs": [
    {
     "data": {
      "text/plain": [
       "{'licenses_year': 0.5,\n",
       " 'driving_licenses': 108104.3078231156,\n",
       " 'licenses_x_geo_point': 4.221643309333183,\n",
       " 'licenses_y_geo_point': 3.364583160815795,\n",
       " 'traffic_year': 0.5,\n",
       " 'traffic_x_geo_point': 4.221643309333183,\n",
       " 'traffic_y_geo_point': 3.364583160815795,\n",
       " 'No. of Accidents': 46222.42050942378,\n",
       " 'No. of Casualties - Dead': 542.5467321781804,\n",
       " 'No. of Casualties - Injured': 2942.4544032033123}"
      ]
     },
     "execution_count": 78,
     "metadata": {},
     "output_type": "execute_result"
    }
   ],
   "source": [
    "sd = {i:stdev(traffic_driving[i]) for i in traffic_driving.columns if traffic_driving[i].dtype == 'int'or traffic_driving[i].dtype ==\"float\"}\n",
    "sd"
   ]
  },
  {
   "cell_type": "markdown",
   "metadata": {},
   "source": [
    "Do your manually calculated standard deviations match up with the output from pandas `describe`? What about numpy's `std` method?"
   ]
  },
  {
   "cell_type": "code",
   "execution_count": 79,
   "metadata": {},
   "outputs": [
    {
     "data": {
      "text/plain": [
       "licenses_year                       0.500000\n",
       "driving_licenses               108104.307823\n",
       "licenses_x_geo_point                4.221643\n",
       "licenses_y_geo_point                3.364583\n",
       "traffic_year                        0.500000\n",
       "traffic_x_geo_point                 4.221643\n",
       "traffic_y_geo_point                 3.364583\n",
       "No. of Accidents                46222.420509\n",
       "No. of Casualties - Dead          542.546732\n",
       "No. of Casualties - Injured      2942.454403\n",
       "dtype: float64"
      ]
     },
     "execution_count": 79,
     "metadata": {},
     "output_type": "execute_result"
    }
   ],
   "source": [
    "np.std(traffic_driving)"
   ]
  },
  {
   "cell_type": "markdown",
   "metadata": {},
   "source": [
    "Answer:\n",
    "Manually calculated standard deviations match up with the output from numpy std method but with simple different with \"pandas describe\""
   ]
  },
  {
   "cell_type": "markdown",
   "metadata": {},
   "source": [
    "#### Investigate trends in the data\n",
    "Using sorting and/or masking (along with the `.head` method to not print our entire dataframe), consider the following questions:\n",
    "\n",
    "- Which regions have the highest and lowest Driving Licenses based on years (1993 - 2017)\n",
    "- Which regions have the highest and lowest mean Traffic Accidents numbers for years (2016 - 2017)\n",
    "- What are the regions that have more Driving Licenses issued in each year than the year average?\n",
    "- What are the regions that have more Traffic Accidents happened in each year than the year average?\n",
    "\n",
    "Based on what you've just observed, have you identified any regions that you're especially interested in? **Make a note of these and state *why* you think they're interesting**.\n",
    "\n",
    "**You should comment on your findings at each step in a markdown cell below your code block**. Make sure you include at least one example of sorting your dataframe by a column, and one example of using boolean filtering (i.e., masking) to select a subset of the dataframe."
   ]
  },
  {
   "cell_type": "code",
   "execution_count": 80,
   "metadata": {},
   "outputs": [
    {
     "data": {
      "text/html": [
       "<div>\n",
       "<style scoped>\n",
       "    .dataframe tbody tr th:only-of-type {\n",
       "        vertical-align: middle;\n",
       "    }\n",
       "\n",
       "    .dataframe tbody tr th {\n",
       "        vertical-align: top;\n",
       "    }\n",
       "\n",
       "    .dataframe thead th {\n",
       "        text-align: right;\n",
       "    }\n",
       "</style>\n",
       "<table border=\"1\" class=\"dataframe\">\n",
       "  <thead>\n",
       "    <tr style=\"text-align: right;\">\n",
       "      <th></th>\n",
       "      <th>licenses_region</th>\n",
       "      <th>driving_licenses</th>\n",
       "      <th>licenses_year</th>\n",
       "    </tr>\n",
       "  </thead>\n",
       "  <tbody>\n",
       "    <tr>\n",
       "      <th>292</th>\n",
       "      <td>Riyadh</td>\n",
       "      <td>495307</td>\n",
       "      <td>2017</td>\n",
       "    </tr>\n",
       "  </tbody>\n",
       "</table>\n",
       "</div>"
      ],
      "text/plain": [
       "    licenses_region  driving_licenses  licenses_year\n",
       "292          Riyadh            495307           2017"
      ]
     },
     "execution_count": 80,
     "metadata": {},
     "output_type": "execute_result"
    }
   ],
   "source": [
    "df_driving_licenses.sort_values(by=['driving_licenses'])[['licenses_region','driving_licenses','licenses_year']].tail(1)"
   ]
  },
  {
   "cell_type": "markdown",
   "metadata": {},
   "source": [
    "We note that Riyadh had the effect of issuing driving licenses in 2017"
   ]
  },
  {
   "cell_type": "code",
   "execution_count": 81,
   "metadata": {},
   "outputs": [
    {
     "data": {
      "text/html": [
       "<div>\n",
       "<style scoped>\n",
       "    .dataframe tbody tr th:only-of-type {\n",
       "        vertical-align: middle;\n",
       "    }\n",
       "\n",
       "    .dataframe tbody tr th {\n",
       "        vertical-align: top;\n",
       "    }\n",
       "\n",
       "    .dataframe thead th {\n",
       "        text-align: right;\n",
       "    }\n",
       "</style>\n",
       "<table border=\"1\" class=\"dataframe\">\n",
       "  <thead>\n",
       "    <tr style=\"text-align: right;\">\n",
       "      <th></th>\n",
       "      <th>licenses_region</th>\n",
       "      <th>driving_licenses</th>\n",
       "      <th>licenses_year</th>\n",
       "    </tr>\n",
       "  </thead>\n",
       "  <tbody>\n",
       "    <tr>\n",
       "      <th>210</th>\n",
       "      <td>Tabouk</td>\n",
       "      <td>915</td>\n",
       "      <td>2015</td>\n",
       "    </tr>\n",
       "    <tr>\n",
       "      <th>180</th>\n",
       "      <td>Al-Baha</td>\n",
       "      <td>997</td>\n",
       "      <td>2007</td>\n",
       "    </tr>\n",
       "    <tr>\n",
       "      <th>280</th>\n",
       "      <td>Northern Boarder</td>\n",
       "      <td>1318</td>\n",
       "      <td>1995</td>\n",
       "    </tr>\n",
       "    <tr>\n",
       "      <th>167</th>\n",
       "      <td>Northern Boarder</td>\n",
       "      <td>1383</td>\n",
       "      <td>1996</td>\n",
       "    </tr>\n",
       "    <tr>\n",
       "      <th>281</th>\n",
       "      <td>Northern Boarder</td>\n",
       "      <td>1457</td>\n",
       "      <td>1994</td>\n",
       "    </tr>\n",
       "  </tbody>\n",
       "</table>\n",
       "</div>"
      ],
      "text/plain": [
       "      licenses_region  driving_licenses  licenses_year\n",
       "210            Tabouk               915           2015\n",
       "180           Al-Baha               997           2007\n",
       "280  Northern Boarder              1318           1995\n",
       "167  Northern Boarder              1383           1996\n",
       "281  Northern Boarder              1457           1994"
      ]
     },
     "execution_count": 81,
     "metadata": {},
     "output_type": "execute_result"
    }
   ],
   "source": [
    "df_driving_licenses.sort_values(by=['driving_licenses'])[['licenses_region','driving_licenses','licenses_year']].head()"
   ]
  },
  {
   "cell_type": "markdown",
   "metadata": {},
   "source": [
    "We note that Tabuk was the least to issue driver's licenses in 2017"
   ]
  },
  {
   "cell_type": "code",
   "execution_count": 82,
   "metadata": {},
   "outputs": [],
   "source": [
    "#Which regions have the highest and lowest mean Traffic Accidents numbers for years (2016 - 2017)"
   ]
  },
  {
   "cell_type": "code",
   "execution_count": 83,
   "metadata": {
    "scrolled": true
   },
   "outputs": [
    {
     "data": {
      "text/html": [
       "<div>\n",
       "<style scoped>\n",
       "    .dataframe tbody tr th:only-of-type {\n",
       "        vertical-align: middle;\n",
       "    }\n",
       "\n",
       "    .dataframe tbody tr th {\n",
       "        vertical-align: top;\n",
       "    }\n",
       "\n",
       "    .dataframe thead th {\n",
       "        text-align: right;\n",
       "    }\n",
       "</style>\n",
       "<table border=\"1\" class=\"dataframe\">\n",
       "  <thead>\n",
       "    <tr style=\"text-align: right;\">\n",
       "      <th>traffic_indicator</th>\n",
       "      <th>No. of Accidents</th>\n",
       "    </tr>\n",
       "    <tr>\n",
       "      <th>traffic_region</th>\n",
       "      <th></th>\n",
       "    </tr>\n",
       "  </thead>\n",
       "  <tbody>\n",
       "    <tr>\n",
       "      <th>Makkah</th>\n",
       "      <td>140189.5</td>\n",
       "    </tr>\n",
       "    <tr>\n",
       "      <th>Riyadh</th>\n",
       "      <td>120830.5</td>\n",
       "    </tr>\n",
       "    <tr>\n",
       "      <th>Eastern</th>\n",
       "      <td>91526.0</td>\n",
       "    </tr>\n",
       "    <tr>\n",
       "      <th>Assir</th>\n",
       "      <td>28964.5</td>\n",
       "    </tr>\n",
       "    <tr>\n",
       "      <th>Al-Qaseem</th>\n",
       "      <td>24034.5</td>\n",
       "    </tr>\n",
       "  </tbody>\n",
       "</table>\n",
       "</div>"
      ],
      "text/plain": [
       "traffic_indicator  No. of Accidents\n",
       "traffic_region                     \n",
       "Makkah                     140189.5\n",
       "Riyadh                     120830.5\n",
       "Eastern                     91526.0\n",
       "Assir                       28964.5\n",
       "Al-Qaseem                   24034.5"
      ]
     },
     "execution_count": 83,
     "metadata": {},
     "output_type": "execute_result"
    }
   ],
   "source": [
    "df_traffic_accidents1.groupby('traffic_region')[['No. of Accidents']].mean().sort_values(by='No. of Accidents',ascending=False).head()"
   ]
  },
  {
   "cell_type": "markdown",
   "metadata": {},
   "source": [
    "Makkah has the highest number of accidents in the Kingdom with an average of 140189.5"
   ]
  },
  {
   "cell_type": "code",
   "execution_count": 84,
   "metadata": {
    "scrolled": true
   },
   "outputs": [
    {
     "data": {
      "text/html": [
       "<div>\n",
       "<style scoped>\n",
       "    .dataframe tbody tr th:only-of-type {\n",
       "        vertical-align: middle;\n",
       "    }\n",
       "\n",
       "    .dataframe tbody tr th {\n",
       "        vertical-align: top;\n",
       "    }\n",
       "\n",
       "    .dataframe thead th {\n",
       "        text-align: right;\n",
       "    }\n",
       "</style>\n",
       "<table border=\"1\" class=\"dataframe\">\n",
       "  <thead>\n",
       "    <tr style=\"text-align: right;\">\n",
       "      <th>traffic_indicator</th>\n",
       "      <th>No. of Accidents</th>\n",
       "    </tr>\n",
       "    <tr>\n",
       "      <th>traffic_region</th>\n",
       "      <th></th>\n",
       "    </tr>\n",
       "  </thead>\n",
       "  <tbody>\n",
       "    <tr>\n",
       "      <th>Al_Baha</th>\n",
       "      <td>2516.0</td>\n",
       "    </tr>\n",
       "    <tr>\n",
       "      <th>Najran</th>\n",
       "      <td>3214.0</td>\n",
       "    </tr>\n",
       "    <tr>\n",
       "      <th>Hail</th>\n",
       "      <td>9789.0</td>\n",
       "    </tr>\n",
       "    <tr>\n",
       "      <th>Al-Jouf</th>\n",
       "      <td>10340.5</td>\n",
       "    </tr>\n",
       "    <tr>\n",
       "      <th>Northern Boarder</th>\n",
       "      <td>12368.0</td>\n",
       "    </tr>\n",
       "  </tbody>\n",
       "</table>\n",
       "</div>"
      ],
      "text/plain": [
       "traffic_indicator  No. of Accidents\n",
       "traffic_region                     \n",
       "Al_Baha                      2516.0\n",
       "Najran                       3214.0\n",
       "Hail                         9789.0\n",
       "Al-Jouf                     10340.5\n",
       "Northern Boarder            12368.0"
      ]
     },
     "execution_count": 84,
     "metadata": {},
     "output_type": "execute_result"
    }
   ],
   "source": [
    "df_traffic_accidents1.groupby('traffic_region')[['No. of Accidents']].mean().sort_values('No. of Accidents').head()"
   ]
  },
  {
   "cell_type": "markdown",
   "metadata": {},
   "source": [
    "Al-Baha has the lowest number of accidents in the Kingdom with an average of 2516.0"
   ]
  },
  {
   "cell_type": "code",
   "execution_count": 85,
   "metadata": {},
   "outputs": [],
   "source": [
    "#What are the regions that have more Driving Licenses issued in each year than the year average?"
   ]
  },
  {
   "cell_type": "code",
   "execution_count": 86,
   "metadata": {},
   "outputs": [
    {
     "data": {
      "text/html": [
       "<div>\n",
       "<style scoped>\n",
       "    .dataframe tbody tr th:only-of-type {\n",
       "        vertical-align: middle;\n",
       "    }\n",
       "\n",
       "    .dataframe tbody tr th {\n",
       "        vertical-align: top;\n",
       "    }\n",
       "\n",
       "    .dataframe thead th {\n",
       "        text-align: right;\n",
       "    }\n",
       "</style>\n",
       "<table border=\"1\" class=\"dataframe\">\n",
       "  <thead>\n",
       "    <tr style=\"text-align: right;\">\n",
       "      <th></th>\n",
       "      <th>licenses_year</th>\n",
       "      <th>driving_licenses</th>\n",
       "    </tr>\n",
       "  </thead>\n",
       "  <tbody>\n",
       "    <tr>\n",
       "      <th>0</th>\n",
       "      <td>1993</td>\n",
       "      <td>22684.076923</td>\n",
       "    </tr>\n",
       "    <tr>\n",
       "      <th>1</th>\n",
       "      <td>1994</td>\n",
       "      <td>23347.692308</td>\n",
       "    </tr>\n",
       "    <tr>\n",
       "      <th>2</th>\n",
       "      <td>1995</td>\n",
       "      <td>19375.230769</td>\n",
       "    </tr>\n",
       "    <tr>\n",
       "      <th>3</th>\n",
       "      <td>1996</td>\n",
       "      <td>18278.692308</td>\n",
       "    </tr>\n",
       "    <tr>\n",
       "      <th>4</th>\n",
       "      <td>1997</td>\n",
       "      <td>22253.538462</td>\n",
       "    </tr>\n",
       "    <tr>\n",
       "      <th>5</th>\n",
       "      <td>1998</td>\n",
       "      <td>26026.923077</td>\n",
       "    </tr>\n",
       "    <tr>\n",
       "      <th>6</th>\n",
       "      <td>1999</td>\n",
       "      <td>25554.615385</td>\n",
       "    </tr>\n",
       "    <tr>\n",
       "      <th>7</th>\n",
       "      <td>2000</td>\n",
       "      <td>21018.307692</td>\n",
       "    </tr>\n",
       "    <tr>\n",
       "      <th>8</th>\n",
       "      <td>2001</td>\n",
       "      <td>20363.461538</td>\n",
       "    </tr>\n",
       "    <tr>\n",
       "      <th>9</th>\n",
       "      <td>2002</td>\n",
       "      <td>21695.230769</td>\n",
       "    </tr>\n",
       "    <tr>\n",
       "      <th>10</th>\n",
       "      <td>2003</td>\n",
       "      <td>19604.461538</td>\n",
       "    </tr>\n",
       "    <tr>\n",
       "      <th>11</th>\n",
       "      <td>2004</td>\n",
       "      <td>20672.153846</td>\n",
       "    </tr>\n",
       "    <tr>\n",
       "      <th>12</th>\n",
       "      <td>2005</td>\n",
       "      <td>19323.307692</td>\n",
       "    </tr>\n",
       "    <tr>\n",
       "      <th>13</th>\n",
       "      <td>2006</td>\n",
       "      <td>20577.538462</td>\n",
       "    </tr>\n",
       "    <tr>\n",
       "      <th>14</th>\n",
       "      <td>2007</td>\n",
       "      <td>25488.923077</td>\n",
       "    </tr>\n",
       "    <tr>\n",
       "      <th>15</th>\n",
       "      <td>2008</td>\n",
       "      <td>25396.769231</td>\n",
       "    </tr>\n",
       "    <tr>\n",
       "      <th>16</th>\n",
       "      <td>2009</td>\n",
       "      <td>28944.230769</td>\n",
       "    </tr>\n",
       "    <tr>\n",
       "      <th>17</th>\n",
       "      <td>2010</td>\n",
       "      <td>29731.538462</td>\n",
       "    </tr>\n",
       "    <tr>\n",
       "      <th>18</th>\n",
       "      <td>2011</td>\n",
       "      <td>30812.153846</td>\n",
       "    </tr>\n",
       "    <tr>\n",
       "      <th>19</th>\n",
       "      <td>2012</td>\n",
       "      <td>31631.076923</td>\n",
       "    </tr>\n",
       "    <tr>\n",
       "      <th>20</th>\n",
       "      <td>2013</td>\n",
       "      <td>43485.692308</td>\n",
       "    </tr>\n",
       "    <tr>\n",
       "      <th>21</th>\n",
       "      <td>2014</td>\n",
       "      <td>48108.769231</td>\n",
       "    </tr>\n",
       "    <tr>\n",
       "      <th>22</th>\n",
       "      <td>2015</td>\n",
       "      <td>33495.307692</td>\n",
       "    </tr>\n",
       "    <tr>\n",
       "      <th>23</th>\n",
       "      <td>2016</td>\n",
       "      <td>53616.692308</td>\n",
       "    </tr>\n",
       "    <tr>\n",
       "      <th>24</th>\n",
       "      <td>2017</td>\n",
       "      <td>71397.307692</td>\n",
       "    </tr>\n",
       "  </tbody>\n",
       "</table>\n",
       "</div>"
      ],
      "text/plain": [
       "    licenses_year  driving_licenses\n",
       "0            1993      22684.076923\n",
       "1            1994      23347.692308\n",
       "2            1995      19375.230769\n",
       "3            1996      18278.692308\n",
       "4            1997      22253.538462\n",
       "5            1998      26026.923077\n",
       "6            1999      25554.615385\n",
       "7            2000      21018.307692\n",
       "8            2001      20363.461538\n",
       "9            2002      21695.230769\n",
       "10           2003      19604.461538\n",
       "11           2004      20672.153846\n",
       "12           2005      19323.307692\n",
       "13           2006      20577.538462\n",
       "14           2007      25488.923077\n",
       "15           2008      25396.769231\n",
       "16           2009      28944.230769\n",
       "17           2010      29731.538462\n",
       "18           2011      30812.153846\n",
       "19           2012      31631.076923\n",
       "20           2013      43485.692308\n",
       "21           2014      48108.769231\n",
       "22           2015      33495.307692\n",
       "23           2016      53616.692308\n",
       "24           2017      71397.307692"
      ]
     },
     "execution_count": 86,
     "metadata": {},
     "output_type": "execute_result"
    }
   ],
   "source": [
    "driving_licenses_mean=df_driving_licenses.groupby('licenses_year')[['driving_licenses']].mean().reset_index()\n",
    "driving_licenses_mean"
   ]
  },
  {
   "cell_type": "code",
   "execution_count": 87,
   "metadata": {},
   "outputs": [
    {
     "data": {
      "text/html": [
       "<div>\n",
       "<style scoped>\n",
       "    .dataframe tbody tr th:only-of-type {\n",
       "        vertical-align: middle;\n",
       "    }\n",
       "\n",
       "    .dataframe tbody tr th {\n",
       "        vertical-align: top;\n",
       "    }\n",
       "\n",
       "    .dataframe thead th {\n",
       "        text-align: right;\n",
       "    }\n",
       "</style>\n",
       "<table border=\"1\" class=\"dataframe\">\n",
       "  <thead>\n",
       "    <tr style=\"text-align: right;\">\n",
       "      <th></th>\n",
       "      <th>0</th>\n",
       "      <th>1</th>\n",
       "      <th>2</th>\n",
       "      <th>3</th>\n",
       "      <th>4</th>\n",
       "    </tr>\n",
       "  </thead>\n",
       "  <tbody>\n",
       "    <tr>\n",
       "      <th>0</th>\n",
       "      <td>2012</td>\n",
       "      <td>Makkah</td>\n",
       "      <td>143954</td>\n",
       "      <td>21.628963</td>\n",
       "      <td>41.26369</td>\n",
       "    </tr>\n",
       "    <tr>\n",
       "      <th>1</th>\n",
       "      <td>1994</td>\n",
       "      <td>Makkah</td>\n",
       "      <td>75349</td>\n",
       "      <td>21.628963</td>\n",
       "      <td>41.26369</td>\n",
       "    </tr>\n",
       "    <tr>\n",
       "      <th>2</th>\n",
       "      <td>1998</td>\n",
       "      <td>Makkah</td>\n",
       "      <td>86082</td>\n",
       "      <td>21.628963</td>\n",
       "      <td>41.26369</td>\n",
       "    </tr>\n",
       "    <tr>\n",
       "      <th>3</th>\n",
       "      <td>2004</td>\n",
       "      <td>Makkah</td>\n",
       "      <td>86636</td>\n",
       "      <td>21.628963</td>\n",
       "      <td>41.26369</td>\n",
       "    </tr>\n",
       "    <tr>\n",
       "      <th>4</th>\n",
       "      <td>2005</td>\n",
       "      <td>Makkah</td>\n",
       "      <td>65099</td>\n",
       "      <td>21.628963</td>\n",
       "      <td>41.26369</td>\n",
       "    </tr>\n",
       "    <tr>\n",
       "      <th>...</th>\n",
       "      <td>...</td>\n",
       "      <td>...</td>\n",
       "      <td>...</td>\n",
       "      <td>...</td>\n",
       "      <td>...</td>\n",
       "    </tr>\n",
       "    <tr>\n",
       "      <th>69</th>\n",
       "      <td>1993</td>\n",
       "      <td>Al-Qaseem</td>\n",
       "      <td>73618</td>\n",
       "      <td>26.196706</td>\n",
       "      <td>43.34300</td>\n",
       "    </tr>\n",
       "    <tr>\n",
       "      <th>70</th>\n",
       "      <td>1999</td>\n",
       "      <td>Eastern</td>\n",
       "      <td>64973</td>\n",
       "      <td>23.288331</td>\n",
       "      <td>50.14783</td>\n",
       "    </tr>\n",
       "    <tr>\n",
       "      <th>71</th>\n",
       "      <td>1998</td>\n",
       "      <td>Eastern</td>\n",
       "      <td>70650</td>\n",
       "      <td>23.288331</td>\n",
       "      <td>50.14783</td>\n",
       "    </tr>\n",
       "    <tr>\n",
       "      <th>72</th>\n",
       "      <td>2004</td>\n",
       "      <td>Eastern</td>\n",
       "      <td>84984</td>\n",
       "      <td>23.288331</td>\n",
       "      <td>50.14783</td>\n",
       "    </tr>\n",
       "    <tr>\n",
       "      <th>73</th>\n",
       "      <td>2005</td>\n",
       "      <td>Eastern</td>\n",
       "      <td>82505</td>\n",
       "      <td>23.288331</td>\n",
       "      <td>50.14783</td>\n",
       "    </tr>\n",
       "  </tbody>\n",
       "</table>\n",
       "<p>74 rows × 5 columns</p>\n",
       "</div>"
      ],
      "text/plain": [
       "       0          1       2          3         4\n",
       "0   2012     Makkah  143954  21.628963  41.26369\n",
       "1   1994     Makkah   75349  21.628963  41.26369\n",
       "2   1998     Makkah   86082  21.628963  41.26369\n",
       "3   2004     Makkah   86636  21.628963  41.26369\n",
       "4   2005     Makkah   65099  21.628963  41.26369\n",
       "..   ...        ...     ...        ...       ...\n",
       "69  1993  Al-Qaseem   73618  26.196706  43.34300\n",
       "70  1999    Eastern   64973  23.288331  50.14783\n",
       "71  1998    Eastern   70650  23.288331  50.14783\n",
       "72  2004    Eastern   84984  23.288331  50.14783\n",
       "73  2005    Eastern   82505  23.288331  50.14783\n",
       "\n",
       "[74 rows x 5 columns]"
      ]
     },
     "execution_count": 87,
     "metadata": {},
     "output_type": "execute_result"
    }
   ],
   "source": [
    "x=[i for i in df_driving_licenses.values for j in driving_licenses_mean.values if i[0] == j[0] if i[2] > j[1]]\n",
    "pd.DataFrame(x)"
   ]
  },
  {
   "cell_type": "markdown",
   "metadata": {},
   "source": [
    "The number of licenses was issued 74 times more than the year average"
   ]
  },
  {
   "cell_type": "code",
   "execution_count": 88,
   "metadata": {
    "scrolled": false
   },
   "outputs": [
    {
     "data": {
      "text/html": [
       "<div>\n",
       "<style scoped>\n",
       "    .dataframe tbody tr th:only-of-type {\n",
       "        vertical-align: middle;\n",
       "    }\n",
       "\n",
       "    .dataframe tbody tr th {\n",
       "        vertical-align: top;\n",
       "    }\n",
       "\n",
       "    .dataframe thead th {\n",
       "        text-align: right;\n",
       "    }\n",
       "</style>\n",
       "<table border=\"1\" class=\"dataframe\">\n",
       "  <thead>\n",
       "    <tr style=\"text-align: right;\">\n",
       "      <th>traffic_indicator</th>\n",
       "      <th>traffic_year</th>\n",
       "      <th>No. of Accidents</th>\n",
       "    </tr>\n",
       "  </thead>\n",
       "  <tbody>\n",
       "    <tr>\n",
       "      <th>0</th>\n",
       "      <td>2016</td>\n",
       "      <td>41029.230769</td>\n",
       "    </tr>\n",
       "    <tr>\n",
       "      <th>1</th>\n",
       "      <td>2017</td>\n",
       "      <td>35422.153846</td>\n",
       "    </tr>\n",
       "  </tbody>\n",
       "</table>\n",
       "</div>"
      ],
      "text/plain": [
       "traffic_indicator  traffic_year  No. of Accidents\n",
       "0                          2016      41029.230769\n",
       "1                          2017      35422.153846"
      ]
     },
     "execution_count": 88,
     "metadata": {},
     "output_type": "execute_result"
    }
   ],
   "source": [
    "T_mean=df_traffic_accidents1.groupby('traffic_year')[['No. of Accidents']].mean().reset_index()\n",
    "T_mean\n"
   ]
  },
  {
   "cell_type": "code",
   "execution_count": 89,
   "metadata": {
    "scrolled": true
   },
   "outputs": [
    {
     "data": {
      "text/html": [
       "<div>\n",
       "<style scoped>\n",
       "    .dataframe tbody tr th:only-of-type {\n",
       "        vertical-align: middle;\n",
       "    }\n",
       "\n",
       "    .dataframe tbody tr th {\n",
       "        vertical-align: top;\n",
       "    }\n",
       "\n",
       "    .dataframe thead th {\n",
       "        text-align: right;\n",
       "    }\n",
       "</style>\n",
       "<table border=\"1\" class=\"dataframe\">\n",
       "  <thead>\n",
       "    <tr style=\"text-align: right;\">\n",
       "      <th></th>\n",
       "      <th>0</th>\n",
       "      <th>1</th>\n",
       "      <th>2</th>\n",
       "      <th>3</th>\n",
       "      <th>4</th>\n",
       "      <th>5</th>\n",
       "      <th>6</th>\n",
       "    </tr>\n",
       "  </thead>\n",
       "  <tbody>\n",
       "    <tr>\n",
       "      <th>0</th>\n",
       "      <td>2016</td>\n",
       "      <td>Eastern</td>\n",
       "      <td>23.288331</td>\n",
       "      <td>50.147830</td>\n",
       "      <td>101619</td>\n",
       "      <td>1113</td>\n",
       "      <td>4893</td>\n",
       "    </tr>\n",
       "    <tr>\n",
       "      <th>1</th>\n",
       "      <td>2016</td>\n",
       "      <td>Makkah</td>\n",
       "      <td>21.628963</td>\n",
       "      <td>41.263690</td>\n",
       "      <td>134838</td>\n",
       "      <td>2243</td>\n",
       "      <td>12383</td>\n",
       "    </tr>\n",
       "    <tr>\n",
       "      <th>2</th>\n",
       "      <td>2016</td>\n",
       "      <td>Riyadh</td>\n",
       "      <td>23.081434</td>\n",
       "      <td>45.585751</td>\n",
       "      <td>141736</td>\n",
       "      <td>1430</td>\n",
       "      <td>4207</td>\n",
       "    </tr>\n",
       "    <tr>\n",
       "      <th>3</th>\n",
       "      <td>2017</td>\n",
       "      <td>Eastern</td>\n",
       "      <td>23.288331</td>\n",
       "      <td>50.147830</td>\n",
       "      <td>81433</td>\n",
       "      <td>963</td>\n",
       "      <td>4073</td>\n",
       "    </tr>\n",
       "    <tr>\n",
       "      <th>4</th>\n",
       "      <td>2017</td>\n",
       "      <td>Makkah</td>\n",
       "      <td>21.628963</td>\n",
       "      <td>41.263690</td>\n",
       "      <td>145541</td>\n",
       "      <td>1641</td>\n",
       "      <td>10623</td>\n",
       "    </tr>\n",
       "    <tr>\n",
       "      <th>5</th>\n",
       "      <td>2017</td>\n",
       "      <td>Riyadh</td>\n",
       "      <td>23.081434</td>\n",
       "      <td>45.585751</td>\n",
       "      <td>99925</td>\n",
       "      <td>1399</td>\n",
       "      <td>4540</td>\n",
       "    </tr>\n",
       "  </tbody>\n",
       "</table>\n",
       "</div>"
      ],
      "text/plain": [
       "      0        1          2          3       4     5      6\n",
       "0  2016  Eastern  23.288331  50.147830  101619  1113   4893\n",
       "1  2016   Makkah  21.628963  41.263690  134838  2243  12383\n",
       "2  2016   Riyadh  23.081434  45.585751  141736  1430   4207\n",
       "3  2017  Eastern  23.288331  50.147830   81433   963   4073\n",
       "4  2017   Makkah  21.628963  41.263690  145541  1641  10623\n",
       "5  2017   Riyadh  23.081434  45.585751   99925  1399   4540"
      ]
     },
     "execution_count": 89,
     "metadata": {},
     "output_type": "execute_result"
    }
   ],
   "source": [
    "y=[i for i in df_traffic_accidents1.values for j in T_mean.values if i[0] == j[0] if i[4] > j[1]]\n",
    "pd.DataFrame(y)"
   ]
  },
  {
   "cell_type": "markdown",
   "metadata": {},
   "source": [
    "The number of accidents increased  from average for the year 5 times "
   ]
  },
  {
   "cell_type": "markdown",
   "metadata": {},
   "source": [
    "## Visualize the data\n",
    "\n",
    "There's not a magic bullet recommendation for the right number of plots to understand a given dataset, but visualizing your data is *always* a good idea. Not only does it allow you to quickly convey your findings (even if you have a non-technical audience), it will often reveal trends in your data that escaped you when you were looking only at numbers.\n",
    "\n",
    "Some recommendations on plotting:\n",
    "- Plots have titles\n",
    "- Plots have axis labels\n",
    "- Plots have appropriate tick labels\n",
    "- All text is legible in a plot\n",
    "- Plots demonstrate meaningful and valid relationships\n",
    "- Plots are interpreted to aid understanding\n",
    "\n",
    "There is such a thing as too many plots, and there are a *lot* of bad plots. You might make some! (But hopefully not with the guided prompts below)."
   ]
  },
  {
   "cell_type": "markdown",
   "metadata": {},
   "source": [
    "#### Use Seaborn's heatmap with pandas `.corr()` to visualize correlations between all numeric features\n",
    "\n",
    "Heatmaps are generally not appropriate for presentations, and should often be excluded from reports as they can be visually overwhelming. **However**, they can be extremely useful in identify relationships of potential interest (as well as identifying potential collinearity before modeling).\n",
    "\n",
    "*example*:\n",
    "```python\n",
    "sns.heatmap(df.corr())\n",
    "```\n",
    "\n",
    "Please take time to format your output, adding a title. Look through some of the additional arguments and options. (Axis labels aren't really necessary, as long as the title is informative)."
   ]
  },
  {
   "cell_type": "code",
   "execution_count": 90,
   "metadata": {},
   "outputs": [],
   "source": [
    "font = {'family': 'serif', #Font;\n",
    "        'color':  'black', #color;\n",
    "        'weight': 'bold',  #weight (bold, regilar);\n",
    "        'size': 16,        #Font size;\n",
    "        }"
   ]
  },
  {
   "cell_type": "code",
   "execution_count": 91,
   "metadata": {
    "scrolled": false
   },
   "outputs": [
    {
     "data": {
      "text/plain": [
       "Text(0.5, 1.0, ' correlations between all features')"
      ]
     },
     "execution_count": 91,
     "metadata": {},
     "output_type": "execute_result"
    },
    {
     "data": {
      "image/png": "[encoded data removed]",
      "text/plain": [
       "<Figure size 1152x576 with 2 Axes>"
      ]
     },
     "metadata": {
      "needs_background": "light"
     },
     "output_type": "display_data"
    }
   ],
   "source": [
    "fig, ax7 = plt.subplots(figsize=(16,8))\n",
    "sns.heatmap(traffic_driving.corr(), annot=True,ax=ax7).set_title(' correlations between all features')"
   ]
  },
  {
   "cell_type": "markdown",
   "metadata": {},
   "source": [
    "We note that there is a high correlation between the increase in accidents and the issuance of licenses"
   ]
  },
  {
   "cell_type": "markdown",
   "metadata": {},
   "source": [
    "#### Define a custom function to subplot histograms\n",
    "\n",
    "We should write a function that will take the names of 2+ columns and subplot histograms. While you can use pandas plotting or Seaborn here, matplotlib gives you greater control over all aspects of your plots.\n",
    "\n",
    "[Helpful Link for Plotting Multiple Figures](https://matplotlib.org/users/pyplot_tutorial.html#working-with-multiple-figures-and-axes)\n",
    "\n",
    "Here's some starter code:"
   ]
  },
  {
   "cell_type": "code",
   "execution_count": 92,
   "metadata": {},
   "outputs": [],
   "source": [
    "def subplot_histograms(dataframe, list_of_columns, list_of_titles, list_of_xlabels):\n",
    "    nrows = int(np.ceil(len(list_of_columns)/2)) # Makes sure you have enough rows\n",
    "    fig, ax = plt.subplots(figsize=(16,6),nrows=nrows, ncols=2) # You'll want to specify your figsize\n",
    "    ax = ax.ravel() # Ravel turns a matrix into a vector, which is easier to iterate\n",
    "    for i, column in enumerate(list_of_columns): # Gives us an index value to get into all our lists\n",
    "        ax[i].hist(dataframe[column],bins=30) # feel free to add more settings\n",
    "        # Set titles, labels, etc here for each subplot\n",
    "        ax[i].set_title(list_of_titles[i])\n",
    "        ax[i].set_xlabel(list_of_xlabels[i], fontsize=16);\n",
    "        "
   ]
  },
  {
   "cell_type": "markdown",
   "metadata": {},
   "source": [
    "#### Plot and interpret histograms \n",
    "For each of the following:\n",
    "- Driving Licenses number\n",
    "- Traffic Accidents number\n",
    "\n",
    "Please plot two additional histograms that will help with your understanding of the data"
   ]
  },
  {
   "cell_type": "code",
   "execution_count": 93,
   "metadata": {},
   "outputs": [],
   "source": [
    "list_of_columns=['driving_licenses','No. of Accidents']"
   ]
  },
  {
   "cell_type": "code",
   "execution_count": 94,
   "metadata": {},
   "outputs": [],
   "source": [
    "list_of_titles=['Driving Licenses number','Traffic Accidents number']"
   ]
  },
  {
   "cell_type": "code",
   "execution_count": 95,
   "metadata": {},
   "outputs": [],
   "source": [
    "list_of_xlabels=['driving licenses','Number of Accidents']"
   ]
  },
  {
   "cell_type": "code",
   "execution_count": 96,
   "metadata": {
    "scrolled": false
   },
   "outputs": [
    {
     "data": {
      "image/png": "[encoded data removed]",
      "text/plain": [
       "<Figure size 1152x432 with 2 Axes>"
      ]
     },
     "metadata": {
      "needs_background": "light"
     },
     "output_type": "display_data"
    }
   ],
   "source": [
    "subplot_histograms(traffic_driving,list_of_columns,list_of_titles,list_of_xlabels)"
   ]
  },
  {
   "cell_type": "markdown",
   "metadata": {},
   "source": [
    "We note that when the number of licenses issued increased, the accidents increased relatively"
   ]
  },
  {
   "cell_type": "code",
   "execution_count": 97,
   "metadata": {
    "scrolled": true
   },
   "outputs": [],
   "source": [
    "list_of_columns=['driving_licenses','No. of Casualties - Dead']"
   ]
  },
  {
   "cell_type": "code",
   "execution_count": 98,
   "metadata": {},
   "outputs": [],
   "source": [
    "list_of_titles=['Driving Licenses number','Number of Casualties - Dead']"
   ]
  },
  {
   "cell_type": "code",
   "execution_count": 99,
   "metadata": {},
   "outputs": [],
   "source": [
    "list_of_xlabels=['Driving Licenses','Number of Casualties - Dead']"
   ]
  },
  {
   "cell_type": "code",
   "execution_count": 100,
   "metadata": {
    "scrolled": true
   },
   "outputs": [
    {
     "data": {
      "image/png": "[encoded data removed]",
      "text/plain": [
       "<Figure size 1152x432 with 2 Axes>"
      ]
     },
     "metadata": {
      "needs_background": "light"
     },
     "output_type": "display_data"
    }
   ],
   "source": [
    "subplot_histograms(traffic_driving,list_of_columns,list_of_titles,list_of_xlabels)"
   ]
  },
  {
   "cell_type": "markdown",
   "metadata": {},
   "source": [
    "licenses issued, the deaths increased relatively"
   ]
  },
  {
   "cell_type": "markdown",
   "metadata": {},
   "source": [
    "#### Plot and interpret scatter plots\n",
    "\n",
    "For each of the following:\n",
    "- Driving Licenses vs. Traffic Accidents for 2017\n",
    "- Driving Licenses vs. Traffic Accidents for 2016\n",
    "- Driving Licenses for 2016 vs 2017\n",
    "- Traffic Accidents for 2016 vs 2017\n",
    "\n",
    "Plot the two variables against each other using matplotlib or Seaborn\n",
    "\n",
    "Your plots should show:\n",
    "- Two clearly labeled axes\n",
    "- A proper title\n",
    "- Using colors and symbols that are clear and unmistakable\n",
    "\n",
    "**Feel free to write a custom function, and subplot if you'd like.** Functions save both time and space.\n"
   ]
  },
  {
   "cell_type": "code",
   "execution_count": 101,
   "metadata": {},
   "outputs": [],
   "source": [
    "S_2017=traffic_driving[traffic_driving['licenses_year']== 2017]"
   ]
  },
  {
   "cell_type": "code",
   "execution_count": 102,
   "metadata": {
    "scrolled": true
   },
   "outputs": [
    {
     "data": {
      "text/plain": [
       "<matplotlib.legend.Legend at 0x7ffd34fe2510>"
      ]
     },
     "execution_count": 102,
     "metadata": {},
     "output_type": "execute_result"
    },
    {
     "data": {
      "image/png": "[encoded data removed]",
      "text/plain": [
       "<Figure size 1152x576 with 1 Axes>"
      ]
     },
     "metadata": {
      "needs_background": "light"
     },
     "output_type": "display_data"
    }
   ],
   "source": [
    "#Driving Licenses vs. Traffic Accidents for 2017\n",
    "fig = plt.figure(figsize=(16,8))\n",
    "sns.scatterplot(data = S_2017, x='driving_licenses' ,  y='No. of Accidents', hue='licenses_region',s=100,  color='dodgerblue')\n",
    "plt.legend(loc='upper right', bbox_to_anchor=( 1.4,1),\n",
    "          fancybox=True, shadow=True )\n",
    "plt.title(\"driving licenses and No. of Accidents at 2017\")\n",
    "\n",
    "plt.legend(loc='upper center', bbox_to_anchor=(1.3, 1),\n",
    "          fancybox=True, shadow=True )"
   ]
  },
  {
   "cell_type": "markdown",
   "metadata": {},
   "source": [
    "In 2017, the issuance of licenses does not affect accidents significantly, except in some cases"
   ]
  },
  {
   "cell_type": "markdown",
   "metadata": {},
   "source": [
    "<h6> Driving Licenses vs. Traffic Accidents for 2016</h6>"
   ]
  },
  {
   "cell_type": "code",
   "execution_count": 103,
   "metadata": {},
   "outputs": [],
   "source": [
    "S_2016=traffic_driving[traffic_driving['licenses_year']== 2016]"
   ]
  },
  {
   "cell_type": "code",
   "execution_count": 104,
   "metadata": {
    "scrolled": false
   },
   "outputs": [
    {
     "data": {
      "text/plain": [
       "<matplotlib.legend.Legend at 0x7ffd34fbf210>"
      ]
     },
     "execution_count": 104,
     "metadata": {},
     "output_type": "execute_result"
    },
    {
     "data": {
      "image/png": "[encoded data removed]",
      "text/plain": [
       "<Figure size 1152x576 with 1 Axes>"
      ]
     },
     "metadata": {
      "needs_background": "light"
     },
     "output_type": "display_data"
    }
   ],
   "source": [
    "fig = plt.figure(figsize=(16,8))\n",
    "sns.scatterplot(data = S_2016, x='driving_licenses' ,  y='No. of Accidents', hue='licenses_region', s=100, color='dodgerblue')\n",
    "plt.legend(loc='upper right', bbox_to_anchor=( 1.4,1),\n",
    "          fancybox=True, shadow=True )\n",
    "plt.title(\"driving licenses and No. of Accidents at 2016\")\n",
    "\n",
    "plt.legend(loc='upper center', bbox_to_anchor=(1.3, 1),\n",
    "          fancybox=True, shadow=True )"
   ]
  },
  {
   "cell_type": "markdown",
   "metadata": {},
   "source": [
    "also In 2016, the issuance of licenses does not affect accidents significantly, except in some cases"
   ]
  },
  {
   "cell_type": "code",
   "execution_count": 105,
   "metadata": {
    "scrolled": false
   },
   "outputs": [
    {
     "data": {
      "text/plain": [
       "<matplotlib.legend.Legend at 0x7ffd354d3b10>"
      ]
     },
     "execution_count": 105,
     "metadata": {},
     "output_type": "execute_result"
    },
    {
     "data": {
      "image/png": "[encoded data removed]",
      "text/plain": [
       "<Figure size 1152x576 with 1 Axes>"
      ]
     },
     "metadata": {
      "needs_background": "light"
     },
     "output_type": "display_data"
    }
   ],
   "source": [
    "fig = plt.figure(figsize=(16,8))\n",
    "sns.scatterplot(data = traffic_driving, x='driving_licenses' ,  y='No. of Accidents', hue='licenses_region',s=100,  color='dodgerblue')\n",
    "plt.legend(loc='upper right', bbox_to_anchor=( 1.4,1),\n",
    "          fancybox=True, shadow=True )\n",
    "plt.title(\"driving licenses and No. of Accidents \")\n",
    "\n",
    "plt.legend(loc='upper center', bbox_to_anchor=(1.3, 1),\n",
    "          fancybox=True, shadow=True )"
   ]
  },
  {
   "cell_type": "markdown",
   "metadata": {},
   "source": [
    "<h6>Driving Licenses for 2016 vs 2017</h6>"
   ]
  },
  {
   "cell_type": "code",
   "execution_count": 106,
   "metadata": {
    "scrolled": true
   },
   "outputs": [
    {
     "data": {
      "text/plain": [
       "<matplotlib.legend.Legend at 0x7ffd35494e50>"
      ]
     },
     "execution_count": 106,
     "metadata": {},
     "output_type": "execute_result"
    },
    {
     "data": {
      "image/png": "[encoded data removed]",
      "text/plain": [
       "<Figure size 720x360 with 1 Axes>"
      ]
     },
     "metadata": {
      "needs_background": "light"
     },
     "output_type": "display_data"
    }
   ],
   "source": [
    "fig = plt.figure(figsize=(10,5))\n",
    "sns.scatterplot(data = traffic_driving, x='licenses_year' ,  y='driving_licenses', hue='licenses_region',s=100,  color='dodgerblue')\n",
    "\n",
    "plt.title(\"driving licenses and licenses year 2016-2017\")\n",
    "\n",
    "plt.legend(loc='upper center', bbox_to_anchor=(1.3, 1),\n",
    "          fancybox=True, shadow=True )"
   ]
  },
  {
   "cell_type": "markdown",
   "metadata": {},
   "source": [
    "<p>We notice that the city of Riyadh has more licenses issued than other regions.</p>\n",
    "<p>And the number of licenses in the two years 2016-2017 is fairly close</p>"
   ]
  },
  {
   "cell_type": "markdown",
   "metadata": {},
   "source": [
    "<h6>Traffic Accidents for 2016 vs 2017</h6>"
   ]
  },
  {
   "cell_type": "code",
   "execution_count": 107,
   "metadata": {
    "scrolled": false
   },
   "outputs": [
    {
     "data": {
      "text/plain": [
       "<matplotlib.legend.Legend at 0x7ffd36090290>"
      ]
     },
     "execution_count": 107,
     "metadata": {},
     "output_type": "execute_result"
    },
    {
     "data": {
      "image/png": "[encoded data removed]",
      "text/plain": [
       "<Figure size 1152x576 with 1 Axes>"
      ]
     },
     "metadata": {
      "needs_background": "light"
     },
     "output_type": "display_data"
    }
   ],
   "source": [
    "fig = plt.figure(figsize=(16,8))\n",
    "sns.scatterplot(data = traffic_driving, x='licenses_year' ,  y='No. of Accidents', hue='licenses_region',s=100,  color='dodgerblue')\n",
    "\n",
    "# .set_title(\"driving licenses and licenses year\");\n",
    "plt.title(\"No. of Accidents and licenses year 2016-2017\")\n",
    "\n",
    "plt.legend(loc='upper center', bbox_to_anchor=(1.3, 1),\n",
    "          fancybox=True, shadow=True )"
   ]
  },
  {
   "cell_type": "markdown",
   "metadata": {},
   "source": [
    "<p>We note that Makkah, Eastern and Riyadh are the most frequent incidents </p>\n",
    "<p>We also note that the Eastern and Riyadh decreased the number of accidents in 2017</p>"
   ]
  },
  {
   "cell_type": "markdown",
   "metadata": {},
   "source": [
    "#### Plot and interpret boxplots\n",
    "\n",
    "For each numeric variable in the dataframe create a boxplot using Seaborn. Boxplots demonstrate central tendency and spread in variables. In a certain sense, these are somewhat redundant with histograms, but you may be better able to identify clear outliers or differences in IQR, etc.\n",
    "\n",
    "Multiple values can be plotted to a single boxplot as long as they are of the same relative scale (meaning they have similar min/max values).\n",
    "\n",
    "Each boxplot should:\n",
    "- Only include variables of a similar scale\n",
    "- Have clear labels for each variable\n",
    "- Have appropriate titles and labels"
   ]
  },
  {
   "cell_type": "code",
   "execution_count": 108,
   "metadata": {},
   "outputs": [
    {
     "data": {
      "image/png": "[encoded data removed]",
      "text/plain": [
       "<Figure size 1440x1440 with 1 Axes>"
      ]
     },
     "metadata": {
      "needs_background": "light"
     },
     "output_type": "display_data"
    }
   ],
   "source": [
    "traffic_driving.boxplot(figsize=(20,20));"
   ]
  },
  {
   "cell_type": "code",
   "execution_count": 109,
   "metadata": {
    "scrolled": true
   },
   "outputs": [
    {
     "data": {
      "text/plain": [
       "<AxesSubplot:>"
      ]
     },
     "execution_count": 109,
     "metadata": {},
     "output_type": "execute_result"
    },
    {
     "data": {
      "image/png": "[encoded data removed]",
      "text/plain": [
       "<Figure size 1152x576 with 1 Axes>"
      ]
     },
     "metadata": {
      "needs_background": "light"
     },
     "output_type": "display_data"
    }
   ],
   "source": [
    "fig = plt.figure(figsize=(16,8))\n",
    "sns.boxplot(data=traffic_driving)"
   ]
  },
  {
   "cell_type": "markdown",
   "metadata": {},
   "source": [
    "There is a difference in the distribution of the data together causing blurring of some columns\n",
    "changing the location is often a component of the process and preserves the shape of the data.\n",
    "so i'll use standardization "
   ]
  },
  {
   "cell_type": "code",
   "execution_count": 110,
   "metadata": {},
   "outputs": [],
   "source": [
    "def var_standardized(var):\n",
    "    var_stand = (var.select_dtypes(include=np.number)-var.mean())/var.std()\n",
    "    return var_stand"
   ]
  },
  {
   "cell_type": "code",
   "execution_count": 111,
   "metadata": {},
   "outputs": [],
   "source": [
    "traffic_drivingـstandardized = var_standardized(traffic_driving)"
   ]
  },
  {
   "cell_type": "code",
   "execution_count": 112,
   "metadata": {
    "scrolled": true
   },
   "outputs": [
    {
     "data": {
      "image/png": "[encoded data removed]",
      "text/plain": [
       "<Figure size 1152x576 with 1 Axes>"
      ]
     },
     "metadata": {
      "needs_background": "light"
     },
     "output_type": "display_data"
    }
   ],
   "source": [
    "fig,ax=plt.subplots(figsize=(16,8))\n",
    "\n",
    "sns.boxplot(data=traffic_drivingـstandardized, orient='h', fliersize=5, \n",
    "                 linewidth=3, notch=True, saturation=0.5, ax=ax)\n",
    "plt.title('This plot is from traffic_driving data frame');"
   ]
  },
  {
   "cell_type": "code",
   "execution_count": 113,
   "metadata": {},
   "outputs": [],
   "source": [
    "traffic_drivingـstandardized = var_standardized(traffic_driving)"
   ]
  },
  {
   "cell_type": "code",
   "execution_count": 114,
   "metadata": {},
   "outputs": [
    {
     "data": {
      "text/html": [
       "<div>\n",
       "<style scoped>\n",
       "    .dataframe tbody tr th:only-of-type {\n",
       "        vertical-align: middle;\n",
       "    }\n",
       "\n",
       "    .dataframe tbody tr th {\n",
       "        vertical-align: top;\n",
       "    }\n",
       "\n",
       "    .dataframe thead th {\n",
       "        text-align: right;\n",
       "    }\n",
       "</style>\n",
       "<table border=\"1\" class=\"dataframe\">\n",
       "  <thead>\n",
       "    <tr style=\"text-align: right;\">\n",
       "      <th></th>\n",
       "      <th>licenses_year</th>\n",
       "      <th>driving_licenses</th>\n",
       "      <th>licenses_x_geo_point</th>\n",
       "      <th>licenses_y_geo_point</th>\n",
       "      <th>traffic_year</th>\n",
       "      <th>traffic_x_geo_point</th>\n",
       "      <th>traffic_y_geo_point</th>\n",
       "      <th>No. of Accidents</th>\n",
       "      <th>No. of Casualties - Dead</th>\n",
       "      <th>No. of Casualties - Injured</th>\n",
       "    </tr>\n",
       "  </thead>\n",
       "  <tbody>\n",
       "    <tr>\n",
       "      <th>0</th>\n",
       "      <td>0.978945</td>\n",
       "      <td>-0.410367</td>\n",
       "      <td>0.761802</td>\n",
       "      <td>-0.365667</td>\n",
       "      <td>0.978945</td>\n",
       "      <td>0.761802</td>\n",
       "      <td>-0.365667</td>\n",
       "      <td>-0.673969</td>\n",
       "      <td>-0.739859</td>\n",
       "      <td>-0.700507</td>\n",
       "    </tr>\n",
       "    <tr>\n",
       "      <th>1</th>\n",
       "      <td>0.978945</td>\n",
       "      <td>-0.562093</td>\n",
       "      <td>1.410212</td>\n",
       "      <td>-0.256145</td>\n",
       "      <td>0.978945</td>\n",
       "      <td>1.410212</td>\n",
       "      <td>-0.256145</td>\n",
       "      <td>-0.628201</td>\n",
       "      <td>-1.015925</td>\n",
       "      <td>-0.833253</td>\n",
       "    </tr>\n",
       "    <tr>\n",
       "      <th>2</th>\n",
       "      <td>0.978945</td>\n",
       "      <td>-0.552693</td>\n",
       "      <td>0.482578</td>\n",
       "      <td>0.187819</td>\n",
       "      <td>0.978945</td>\n",
       "      <td>0.482578</td>\n",
       "      <td>0.187819</td>\n",
       "      <td>-0.398091</td>\n",
       "      <td>-0.642424</td>\n",
       "      <td>-0.476602</td>\n",
       "    </tr>\n",
       "    <tr>\n",
       "      <th>3</th>\n",
       "      <td>0.978945</td>\n",
       "      <td>0.538484</td>\n",
       "      <td>-0.191837</td>\n",
       "      <td>2.167724</td>\n",
       "      <td>0.978945</td>\n",
       "      <td>-0.191837</td>\n",
       "      <td>2.167724</td>\n",
       "      <td>0.852063</td>\n",
       "      <td>0.519578</td>\n",
       "      <td>0.397392</td>\n",
       "    </tr>\n",
       "    <tr>\n",
       "      <th>4</th>\n",
       "      <td>0.978945</td>\n",
       "      <td>-0.517249</td>\n",
       "      <td>0.877934</td>\n",
       "      <td>-1.582106</td>\n",
       "      <td>0.978945</td>\n",
       "      <td>0.877934</td>\n",
       "      <td>-1.582106</td>\n",
       "      <td>-0.624537</td>\n",
       "      <td>-0.590098</td>\n",
       "      <td>-0.544139</td>\n",
       "    </tr>\n",
       "    <tr>\n",
       "      <th>5</th>\n",
       "      <td>-0.978945</td>\n",
       "      <td>-0.565008</td>\n",
       "      <td>1.410212</td>\n",
       "      <td>-0.256145</td>\n",
       "      <td>-0.978945</td>\n",
       "      <td>1.410212</td>\n",
       "      <td>-0.256145</td>\n",
       "      <td>-0.593129</td>\n",
       "      <td>-0.869773</td>\n",
       "      <td>-0.747750</td>\n",
       "    </tr>\n",
       "    <tr>\n",
       "      <th>6</th>\n",
       "      <td>-0.978945</td>\n",
       "      <td>-0.590409</td>\n",
       "      <td>-1.313529</td>\n",
       "      <td>1.213686</td>\n",
       "      <td>-0.978945</td>\n",
       "      <td>-1.313529</td>\n",
       "      <td>1.213686</td>\n",
       "      <td>-0.804093</td>\n",
       "      <td>-0.905860</td>\n",
       "      <td>-0.722798</td>\n",
       "    </tr>\n",
       "    <tr>\n",
       "      <th>7</th>\n",
       "      <td>0.978945</td>\n",
       "      <td>0.680394</td>\n",
       "      <td>-0.576623</td>\n",
       "      <td>-0.417168</td>\n",
       "      <td>0.978945</td>\n",
       "      <td>-0.576623</td>\n",
       "      <td>-0.417168</td>\n",
       "      <td>2.209807</td>\n",
       "      <td>1.742928</td>\n",
       "      <td>2.576556</td>\n",
       "    </tr>\n",
       "    <tr>\n",
       "      <th>8</th>\n",
       "      <td>-0.978945</td>\n",
       "      <td>0.622148</td>\n",
       "      <td>-0.576623</td>\n",
       "      <td>-0.417168</td>\n",
       "      <td>-0.978945</td>\n",
       "      <td>-0.576623</td>\n",
       "      <td>-0.417168</td>\n",
       "      <td>1.983128</td>\n",
       "      <td>2.829148</td>\n",
       "      <td>3.162102</td>\n",
       "    </tr>\n",
       "    <tr>\n",
       "      <th>9</th>\n",
       "      <td>-0.978945</td>\n",
       "      <td>-0.387682</td>\n",
       "      <td>0.188273</td>\n",
       "      <td>-0.932703</td>\n",
       "      <td>-0.978945</td>\n",
       "      <td>0.188273</td>\n",
       "      <td>-0.932703</td>\n",
       "      <td>-0.566041</td>\n",
       "      <td>0.265164</td>\n",
       "      <td>0.434322</td>\n",
       "    </tr>\n",
       "    <tr>\n",
       "      <th>10</th>\n",
       "      <td>-0.978945</td>\n",
       "      <td>-0.526776</td>\n",
       "      <td>0.482578</td>\n",
       "      <td>0.187819</td>\n",
       "      <td>-0.978945</td>\n",
       "      <td>0.482578</td>\n",
       "      <td>0.187819</td>\n",
       "      <td>-0.329069</td>\n",
       "      <td>-0.501685</td>\n",
       "      <td>-0.454311</td>\n",
       "    </tr>\n",
       "    <tr>\n",
       "      <th>11</th>\n",
       "      <td>-0.978945</td>\n",
       "      <td>-0.116315</td>\n",
       "      <td>0.761802</td>\n",
       "      <td>-0.365667</td>\n",
       "      <td>-0.978945</td>\n",
       "      <td>0.761802</td>\n",
       "      <td>-0.365667</td>\n",
       "      <td>-0.656602</td>\n",
       "      <td>-0.678511</td>\n",
       "      <td>-0.647608</td>\n",
       "    </tr>\n",
       "    <tr>\n",
       "      <th>12</th>\n",
       "      <td>0.978945</td>\n",
       "      <td>-0.484713</td>\n",
       "      <td>-1.313529</td>\n",
       "      <td>1.213686</td>\n",
       "      <td>0.978945</td>\n",
       "      <td>-1.313529</td>\n",
       "      <td>1.213686</td>\n",
       "      <td>-0.804982</td>\n",
       "      <td>-0.867968</td>\n",
       "      <td>-0.702836</td>\n",
       "    </tr>\n",
       "    <tr>\n",
       "      <th>13</th>\n",
       "      <td>0.978945</td>\n",
       "      <td>-0.536637</td>\n",
       "      <td>1.357033</td>\n",
       "      <td>-0.913729</td>\n",
       "      <td>0.978945</td>\n",
       "      <td>1.357033</td>\n",
       "      <td>-0.913729</td>\n",
       "      <td>-0.650884</td>\n",
       "      <td>-0.784968</td>\n",
       "      <td>-0.670897</td>\n",
       "    </tr>\n",
       "    <tr>\n",
       "      <th>14</th>\n",
       "      <td>0.978945</td>\n",
       "      <td>-0.282412</td>\n",
       "      <td>0.188273</td>\n",
       "      <td>-0.932703</td>\n",
       "      <td>0.978945</td>\n",
       "      <td>0.188273</td>\n",
       "      <td>-0.932703</td>\n",
       "      <td>-0.532260</td>\n",
       "      <td>-0.171489</td>\n",
       "      <td>0.012795</td>\n",
       "    </tr>\n",
       "    <tr>\n",
       "      <th>15</th>\n",
       "      <td>-0.978945</td>\n",
       "      <td>0.678764</td>\n",
       "      <td>-0.191837</td>\n",
       "      <td>2.167724</td>\n",
       "      <td>-0.978945</td>\n",
       "      <td>-0.191837</td>\n",
       "      <td>2.167724</td>\n",
       "      <td>1.279583</td>\n",
       "      <td>0.790231</td>\n",
       "      <td>0.670204</td>\n",
       "    </tr>\n",
       "    <tr>\n",
       "      <th>16</th>\n",
       "      <td>0.978945</td>\n",
       "      <td>-0.255535</td>\n",
       "      <td>-1.154064</td>\n",
       "      <td>0.070992</td>\n",
       "      <td>0.978945</td>\n",
       "      <td>-1.154064</td>\n",
       "      <td>0.070992</td>\n",
       "      <td>-0.337943</td>\n",
       "      <td>0.275991</td>\n",
       "      <td>-0.169856</td>\n",
       "    </tr>\n",
       "    <tr>\n",
       "      <th>17</th>\n",
       "      <td>-0.978945</td>\n",
       "      <td>-0.235305</td>\n",
       "      <td>-1.154064</td>\n",
       "      <td>0.070992</td>\n",
       "      <td>-0.978945</td>\n",
       "      <td>-1.154064</td>\n",
       "      <td>0.070992</td>\n",
       "      <td>-0.180392</td>\n",
       "      <td>0.555665</td>\n",
       "      <td>-0.112299</td>\n",
       "    </tr>\n",
       "    <tr>\n",
       "      <th>18</th>\n",
       "      <td>0.978945</td>\n",
       "      <td>-0.443782</td>\n",
       "      <td>-1.601966</td>\n",
       "      <td>-0.013062</td>\n",
       "      <td>0.978945</td>\n",
       "      <td>-1.601966</td>\n",
       "      <td>-0.013062</td>\n",
       "      <td>-0.403259</td>\n",
       "      <td>-0.377185</td>\n",
       "      <td>-0.223420</td>\n",
       "    </tr>\n",
       "    <tr>\n",
       "      <th>19</th>\n",
       "      <td>-0.978945</td>\n",
       "      <td>-0.505731</td>\n",
       "      <td>-1.601966</td>\n",
       "      <td>-0.013062</td>\n",
       "      <td>-0.978945</td>\n",
       "      <td>-1.601966</td>\n",
       "      <td>-0.013062</td>\n",
       "      <td>-0.324642</td>\n",
       "      <td>-0.290576</td>\n",
       "      <td>-0.206119</td>\n",
       "    </tr>\n",
       "    <tr>\n",
       "      <th>20</th>\n",
       "      <td>0.978945</td>\n",
       "      <td>3.875376</td>\n",
       "      <td>-0.239814</td>\n",
       "      <td>0.840361</td>\n",
       "      <td>0.978945</td>\n",
       "      <td>-0.239814</td>\n",
       "      <td>0.840361</td>\n",
       "      <td>1.243705</td>\n",
       "      <td>1.306275</td>\n",
       "      <td>0.552762</td>\n",
       "    </tr>\n",
       "    <tr>\n",
       "      <th>21</th>\n",
       "      <td>-0.978945</td>\n",
       "      <td>1.589246</td>\n",
       "      <td>-0.239814</td>\n",
       "      <td>0.840361</td>\n",
       "      <td>-0.978945</td>\n",
       "      <td>-0.239814</td>\n",
       "      <td>0.840361</td>\n",
       "      <td>2.129221</td>\n",
       "      <td>1.362210</td>\n",
       "      <td>0.441974</td>\n",
       "    </tr>\n",
       "    <tr>\n",
       "      <th>22</th>\n",
       "      <td>-0.978945</td>\n",
       "      <td>-0.525046</td>\n",
       "      <td>1.357033</td>\n",
       "      <td>-0.913729</td>\n",
       "      <td>-0.978945</td>\n",
       "      <td>1.357033</td>\n",
       "      <td>-0.913729</td>\n",
       "      <td>-0.656327</td>\n",
       "      <td>-0.775946</td>\n",
       "      <td>-0.651600</td>\n",
       "    </tr>\n",
       "    <tr>\n",
       "      <th>23</th>\n",
       "      <td>-0.978945</td>\n",
       "      <td>-0.486660</td>\n",
       "      <td>0.877934</td>\n",
       "      <td>-1.582106</td>\n",
       "      <td>-0.978945</td>\n",
       "      <td>0.877934</td>\n",
       "      <td>-1.582106</td>\n",
       "      <td>-0.533086</td>\n",
       "      <td>-0.434924</td>\n",
       "      <td>-0.384112</td>\n",
       "    </tr>\n",
       "  </tbody>\n",
       "</table>\n",
       "</div>"
      ],
      "text/plain": [
       "    licenses_year  driving_licenses  licenses_x_geo_point  \\\n",
       "0        0.978945         -0.410367              0.761802   \n",
       "1        0.978945         -0.562093              1.410212   \n",
       "2        0.978945         -0.552693              0.482578   \n",
       "3        0.978945          0.538484             -0.191837   \n",
       "4        0.978945         -0.517249              0.877934   \n",
       "5       -0.978945         -0.565008              1.410212   \n",
       "6       -0.978945         -0.590409             -1.313529   \n",
       "7        0.978945          0.680394             -0.576623   \n",
       "8       -0.978945          0.622148             -0.576623   \n",
       "9       -0.978945         -0.387682              0.188273   \n",
       "10      -0.978945         -0.526776              0.482578   \n",
       "11      -0.978945         -0.116315              0.761802   \n",
       "12       0.978945         -0.484713             -1.313529   \n",
       "13       0.978945         -0.536637              1.357033   \n",
       "14       0.978945         -0.282412              0.188273   \n",
       "15      -0.978945          0.678764             -0.191837   \n",
       "16       0.978945         -0.255535             -1.154064   \n",
       "17      -0.978945         -0.235305             -1.154064   \n",
       "18       0.978945         -0.443782             -1.601966   \n",
       "19      -0.978945         -0.505731             -1.601966   \n",
       "20       0.978945          3.875376             -0.239814   \n",
       "21      -0.978945          1.589246             -0.239814   \n",
       "22      -0.978945         -0.525046              1.357033   \n",
       "23      -0.978945         -0.486660              0.877934   \n",
       "\n",
       "    licenses_y_geo_point  traffic_year  traffic_x_geo_point  \\\n",
       "0              -0.365667      0.978945             0.761802   \n",
       "1              -0.256145      0.978945             1.410212   \n",
       "2               0.187819      0.978945             0.482578   \n",
       "3               2.167724      0.978945            -0.191837   \n",
       "4              -1.582106      0.978945             0.877934   \n",
       "5              -0.256145     -0.978945             1.410212   \n",
       "6               1.213686     -0.978945            -1.313529   \n",
       "7              -0.417168      0.978945            -0.576623   \n",
       "8              -0.417168     -0.978945            -0.576623   \n",
       "9              -0.932703     -0.978945             0.188273   \n",
       "10              0.187819     -0.978945             0.482578   \n",
       "11             -0.365667     -0.978945             0.761802   \n",
       "12              1.213686      0.978945            -1.313529   \n",
       "13             -0.913729      0.978945             1.357033   \n",
       "14             -0.932703      0.978945             0.188273   \n",
       "15              2.167724     -0.978945            -0.191837   \n",
       "16              0.070992      0.978945            -1.154064   \n",
       "17              0.070992     -0.978945            -1.154064   \n",
       "18             -0.013062      0.978945            -1.601966   \n",
       "19             -0.013062     -0.978945            -1.601966   \n",
       "20              0.840361      0.978945            -0.239814   \n",
       "21              0.840361     -0.978945            -0.239814   \n",
       "22             -0.913729     -0.978945             1.357033   \n",
       "23             -1.582106     -0.978945             0.877934   \n",
       "\n",
       "    traffic_y_geo_point  No. of Accidents  No. of Casualties - Dead  \\\n",
       "0             -0.365667         -0.673969                 -0.739859   \n",
       "1             -0.256145         -0.628201                 -1.015925   \n",
       "2              0.187819         -0.398091                 -0.642424   \n",
       "3              2.167724          0.852063                  0.519578   \n",
       "4             -1.582106         -0.624537                 -0.590098   \n",
       "5             -0.256145         -0.593129                 -0.869773   \n",
       "6              1.213686         -0.804093                 -0.905860   \n",
       "7             -0.417168          2.209807                  1.742928   \n",
       "8             -0.417168          1.983128                  2.829148   \n",
       "9             -0.932703         -0.566041                  0.265164   \n",
       "10             0.187819         -0.329069                 -0.501685   \n",
       "11            -0.365667         -0.656602                 -0.678511   \n",
       "12             1.213686         -0.804982                 -0.867968   \n",
       "13            -0.913729         -0.650884                 -0.784968   \n",
       "14            -0.932703         -0.532260                 -0.171489   \n",
       "15             2.167724          1.279583                  0.790231   \n",
       "16             0.070992         -0.337943                  0.275991   \n",
       "17             0.070992         -0.180392                  0.555665   \n",
       "18            -0.013062         -0.403259                 -0.377185   \n",
       "19            -0.013062         -0.324642                 -0.290576   \n",
       "20             0.840361          1.243705                  1.306275   \n",
       "21             0.840361          2.129221                  1.362210   \n",
       "22            -0.913729         -0.656327                 -0.775946   \n",
       "23            -1.582106         -0.533086                 -0.434924   \n",
       "\n",
       "    No. of Casualties - Injured  \n",
       "0                     -0.700507  \n",
       "1                     -0.833253  \n",
       "2                     -0.476602  \n",
       "3                      0.397392  \n",
       "4                     -0.544139  \n",
       "5                     -0.747750  \n",
       "6                     -0.722798  \n",
       "7                      2.576556  \n",
       "8                      3.162102  \n",
       "9                      0.434322  \n",
       "10                    -0.454311  \n",
       "11                    -0.647608  \n",
       "12                    -0.702836  \n",
       "13                    -0.670897  \n",
       "14                     0.012795  \n",
       "15                     0.670204  \n",
       "16                    -0.169856  \n",
       "17                    -0.112299  \n",
       "18                    -0.223420  \n",
       "19                    -0.206119  \n",
       "20                     0.552762  \n",
       "21                     0.441974  \n",
       "22                    -0.651600  \n",
       "23                    -0.384112  "
      ]
     },
     "execution_count": 114,
     "metadata": {},
     "output_type": "execute_result"
    }
   ],
   "source": [
    "traffic_drivingـstandardized"
   ]
  },
  {
   "cell_type": "markdown",
   "metadata": {},
   "source": [
    "after standarization\n",
    " variables does not impact the amount of variance you can account for. This is because we are only moving and and adjusting the magnitude of the distribution: the shape of the distribution does not change."
   ]
  },
  {
   "cell_type": "markdown",
   "metadata": {},
   "source": [
    "#### Feel free to do additional plots below\n",
    "*(do research and choose your own chart types & variables)*\n",
    "\n",
    "Are there any additional trends or relationships you haven't explored? Was there something interesting you saw that you'd like to dive further into? It's likely that there are a few more plots you might want to generate to support your narrative and recommendations that you are building toward. **As always, make sure you're interpreting your plots as you go**."
   ]
  },
  {
   "cell_type": "code",
   "execution_count": null,
   "metadata": {},
   "outputs": [],
   "source": []
  },
  {
   "cell_type": "markdown",
   "metadata": {},
   "source": [
    "## Descriptive and Inferential Statistics"
   ]
  },
  {
   "cell_type": "markdown",
   "metadata": {},
   "source": [
    "#### Summarizing Distributions\n",
    "\n",
    "Above, we used pandas `describe` to provide quick summary statistics of our numeric columns. We also demonstrated many visual relationships.\n",
    "\n",
    "As data scientists, having a complete understanding of data is imperative prior to modeling.\n",
    "\n",
    "While we will continue to build our analytic tools, we know that measures of *central tendency*, *spread*, and *shape/skewness* provide a quick summary of distributions.\n",
    "\n",
    "For each variable in your data, summarize the underlying distributions (in words & statistics)\n",
    " - Be thorough in your verbal description of these distributions.\n",
    " - Be sure to back up these summaries with statistics."
   ]
  },
  {
   "cell_type": "code",
   "execution_count": 115,
   "metadata": {},
   "outputs": [
    {
     "data": {
      "text/html": [
       "<div>\n",
       "<style scoped>\n",
       "    .dataframe tbody tr th:only-of-type {\n",
       "        vertical-align: middle;\n",
       "    }\n",
       "\n",
       "    .dataframe tbody tr th {\n",
       "        vertical-align: top;\n",
       "    }\n",
       "\n",
       "    .dataframe thead th {\n",
       "        text-align: right;\n",
       "    }\n",
       "</style>\n",
       "<table border=\"1\" class=\"dataframe\">\n",
       "  <thead>\n",
       "    <tr style=\"text-align: right;\">\n",
       "      <th></th>\n",
       "      <th>licenses_year</th>\n",
       "      <th>driving_licenses</th>\n",
       "      <th>licenses_x_geo_point</th>\n",
       "      <th>licenses_y_geo_point</th>\n",
       "      <th>traffic_year</th>\n",
       "      <th>traffic_x_geo_point</th>\n",
       "      <th>traffic_y_geo_point</th>\n",
       "      <th>No. of Accidents</th>\n",
       "      <th>No. of Casualties - Dead</th>\n",
       "      <th>No. of Casualties - Injured</th>\n",
       "    </tr>\n",
       "  </thead>\n",
       "  <tbody>\n",
       "    <tr>\n",
       "      <th>count</th>\n",
       "      <td>24.000000</td>\n",
       "      <td>24.000000</td>\n",
       "      <td>24.000000</td>\n",
       "      <td>24.000000</td>\n",
       "      <td>24.000000</td>\n",
       "      <td>24.000000</td>\n",
       "      <td>24.000000</td>\n",
       "      <td>24.000000</td>\n",
       "      <td>24.000000</td>\n",
       "      <td>24.000000</td>\n",
       "    </tr>\n",
       "    <tr>\n",
       "      <th>mean</th>\n",
       "      <td>2016.500000</td>\n",
       "      <td>67351.541667</td>\n",
       "      <td>24.115617</td>\n",
       "      <td>42.697475</td>\n",
       "      <td>2016.500000</td>\n",
       "      <td>24.115617</td>\n",
       "      <td>42.697475</td>\n",
       "      <td>41201.500000</td>\n",
       "      <td>675.041667</td>\n",
       "      <td>2878.541667</td>\n",
       "    </tr>\n",
       "    <tr>\n",
       "      <th>std</th>\n",
       "      <td>0.510754</td>\n",
       "      <td>110429.397645</td>\n",
       "      <td>4.312442</td>\n",
       "      <td>3.436948</td>\n",
       "      <td>0.510754</td>\n",
       "      <td>4.312442</td>\n",
       "      <td>3.436948</td>\n",
       "      <td>47216.564791</td>\n",
       "      <td>554.215739</td>\n",
       "      <td>3005.740233</td>\n",
       "    </tr>\n",
       "    <tr>\n",
       "      <th>min</th>\n",
       "      <td>2016.000000</td>\n",
       "      <td>2153.000000</td>\n",
       "      <td>17.207231</td>\n",
       "      <td>37.259858</td>\n",
       "      <td>2016.000000</td>\n",
       "      <td>17.207231</td>\n",
       "      <td>37.259858</td>\n",
       "      <td>3193.000000</td>\n",
       "      <td>112.000000</td>\n",
       "      <td>374.000000</td>\n",
       "    </tr>\n",
       "    <tr>\n",
       "      <th>25%</th>\n",
       "      <td>2016.000000</td>\n",
       "      <td>9323.250000</td>\n",
       "      <td>21.006418</td>\n",
       "      <td>40.837027</td>\n",
       "      <td>2016.000000</td>\n",
       "      <td>21.006418</td>\n",
       "      <td>40.837027</td>\n",
       "      <td>11272.250000</td>\n",
       "      <td>260.000000</td>\n",
       "      <td>905.500000</td>\n",
       "    </tr>\n",
       "    <tr>\n",
       "      <th>50%</th>\n",
       "      <td>2016.500000</td>\n",
       "      <td>20190.000000</td>\n",
       "      <td>24.107933</td>\n",
       "      <td>42.234850</td>\n",
       "      <td>2016.500000</td>\n",
       "      <td>24.107933</td>\n",
       "      <td>42.234850</td>\n",
       "      <td>19115.500000</td>\n",
       "      <td>450.000000</td>\n",
       "      <td>1965.500000</td>\n",
       "    </tr>\n",
       "    <tr>\n",
       "      <th>75%</th>\n",
       "      <td>2017.000000</td>\n",
       "      <td>72584.250000</td>\n",
       "      <td>27.526048</td>\n",
       "      <td>43.903688</td>\n",
       "      <td>2017.000000</td>\n",
       "      <td>27.526048</td>\n",
       "      <td>43.903688</td>\n",
       "      <td>44871.250000</td>\n",
       "      <td>968.000000</td>\n",
       "      <td>4100.750000</td>\n",
       "    </tr>\n",
       "    <tr>\n",
       "      <th>max</th>\n",
       "      <td>2017.000000</td>\n",
       "      <td>495307.000000</td>\n",
       "      <td>30.197075</td>\n",
       "      <td>50.147830</td>\n",
       "      <td>2017.000000</td>\n",
       "      <td>30.197075</td>\n",
       "      <td>50.147830</td>\n",
       "      <td>145541.000000</td>\n",
       "      <td>2243.000000</td>\n",
       "      <td>12383.000000</td>\n",
       "    </tr>\n",
       "  </tbody>\n",
       "</table>\n",
       "</div>"
      ],
      "text/plain": [
       "       licenses_year  driving_licenses  licenses_x_geo_point  \\\n",
       "count      24.000000         24.000000             24.000000   \n",
       "mean     2016.500000      67351.541667             24.115617   \n",
       "std         0.510754     110429.397645              4.312442   \n",
       "min      2016.000000       2153.000000             17.207231   \n",
       "25%      2016.000000       9323.250000             21.006418   \n",
       "50%      2016.500000      20190.000000             24.107933   \n",
       "75%      2017.000000      72584.250000             27.526048   \n",
       "max      2017.000000     495307.000000             30.197075   \n",
       "\n",
       "       licenses_y_geo_point  traffic_year  traffic_x_geo_point  \\\n",
       "count             24.000000     24.000000            24.000000   \n",
       "mean              42.697475   2016.500000            24.115617   \n",
       "std                3.436948      0.510754             4.312442   \n",
       "min               37.259858   2016.000000            17.207231   \n",
       "25%               40.837027   2016.000000            21.006418   \n",
       "50%               42.234850   2016.500000            24.107933   \n",
       "75%               43.903688   2017.000000            27.526048   \n",
       "max               50.147830   2017.000000            30.197075   \n",
       "\n",
       "       traffic_y_geo_point  No. of Accidents  No. of Casualties - Dead  \\\n",
       "count            24.000000         24.000000                 24.000000   \n",
       "mean             42.697475      41201.500000                675.041667   \n",
       "std               3.436948      47216.564791                554.215739   \n",
       "min              37.259858       3193.000000                112.000000   \n",
       "25%              40.837027      11272.250000                260.000000   \n",
       "50%              42.234850      19115.500000                450.000000   \n",
       "75%              43.903688      44871.250000                968.000000   \n",
       "max              50.147830     145541.000000               2243.000000   \n",
       "\n",
       "       No. of Casualties - Injured  \n",
       "count                    24.000000  \n",
       "mean                   2878.541667  \n",
       "std                    3005.740233  \n",
       "min                     374.000000  \n",
       "25%                     905.500000  \n",
       "50%                    1965.500000  \n",
       "75%                    4100.750000  \n",
       "max                   12383.000000  "
      ]
     },
     "execution_count": 115,
     "metadata": {},
     "output_type": "execute_result"
    }
   ],
   "source": [
    "traffic_driving.describe()"
   ]
  },
  {
   "cell_type": "code",
   "execution_count": 116,
   "metadata": {},
   "outputs": [
    {
     "data": {
      "text/plain": [
       "licenses_year                   2016.500000\n",
       "driving_licenses               20190.000000\n",
       "licenses_x_geo_point              24.107933\n",
       "licenses_y_geo_point              42.234850\n",
       "traffic_year                    2016.500000\n",
       "traffic_x_geo_point               24.107933\n",
       "traffic_y_geo_point               42.234850\n",
       "No. of Accidents               19115.500000\n",
       "No. of Casualties - Dead         450.000000\n",
       "No. of Casualties - Injured     1965.500000\n",
       "dtype: float64"
      ]
     },
     "execution_count": 116,
     "metadata": {},
     "output_type": "execute_result"
    }
   ],
   "source": [
    "traffic_driving.median()"
   ]
  },
  {
   "cell_type": "code",
   "execution_count": 117,
   "metadata": {},
   "outputs": [
    {
     "data": {
      "text/plain": [
       "ModeResult(mode=array([[2016, 'Al-Jouf', 2153, 17.2072313962, 37.2598581394, 2016,\n",
       "        'Al-Jouf', 17.2072313962, 37.2598581394, 3193, 112, 374]],\n",
       "      dtype=object), count=array([[12,  2,  1,  2,  2, 12,  2,  2,  2,  1,  1,  1]]))"
      ]
     },
     "execution_count": 117,
     "metadata": {},
     "output_type": "execute_result"
    }
   ],
   "source": [
    "stats.mode(traffic_driving)"
   ]
  },
  {
   "cell_type": "code",
   "execution_count": 118,
   "metadata": {
    "scrolled": false
   },
   "outputs": [
    {
     "name": "stdout",
     "output_type": "stream",
     "text": [
      "Mean:\n",
      " licenses_year                   2016.500000\n",
      "driving_licenses               67351.541667\n",
      "licenses_x_geo_point              24.115617\n",
      "licenses_y_geo_point              42.697475\n",
      "traffic_year                    2016.500000\n",
      "traffic_x_geo_point               24.115617\n",
      "traffic_y_geo_point               42.697475\n",
      "No. of Accidents               41201.500000\n",
      "No. of Casualties - Dead         675.041667\n",
      "No. of Casualties - Injured     2878.541667\n",
      "dtype: float64\n",
      "Median: licenses_year                   2016.500000\n",
      "driving_licenses               20190.000000\n",
      "licenses_x_geo_point              24.107933\n",
      "licenses_y_geo_point              42.234850\n",
      "traffic_year                    2016.500000\n",
      "traffic_x_geo_point               24.107933\n",
      "traffic_y_geo_point               42.234850\n",
      "No. of Accidents               19115.500000\n",
      "No. of Casualties - Dead         450.000000\n",
      "No. of Casualties - Injured     1965.500000\n",
      "dtype: float64\n",
      "Mode: [2016 'Al-Jouf' 2153 17.2072313962 37.2598581394 2016 'Al-Jouf'\n",
      " 17.2072313962 37.2598581394 3193 112 374]\n",
      "Mode Count: [12  2  1  2  2 12  2  2  2  1  1  1]\n"
     ]
    }
   ],
   "source": [
    "print(f'Mean:\\n {np.mean(traffic_driving)}\\nMedian: {traffic_driving.median()}\\nMode: {stats.mode(traffic_driving)[0][0]}\\nMode Count: {stats.mode(traffic_driving)[1][0]}')"
   ]
  },
  {
   "cell_type": "code",
   "execution_count": 119,
   "metadata": {
    "scrolled": true
   },
   "outputs": [
    {
     "data": {
      "text/html": [
       "<div>\n",
       "<style scoped>\n",
       "    .dataframe tbody tr th:only-of-type {\n",
       "        vertical-align: middle;\n",
       "    }\n",
       "\n",
       "    .dataframe tbody tr th {\n",
       "        vertical-align: top;\n",
       "    }\n",
       "\n",
       "    .dataframe thead th {\n",
       "        text-align: right;\n",
       "    }\n",
       "</style>\n",
       "<table border=\"1\" class=\"dataframe\">\n",
       "  <thead>\n",
       "    <tr style=\"text-align: right;\">\n",
       "      <th></th>\n",
       "      <th>licenses_year</th>\n",
       "      <th>licenses_region</th>\n",
       "      <th>driving_licenses</th>\n",
       "      <th>licenses_x_geo_point</th>\n",
       "      <th>licenses_y_geo_point</th>\n",
       "      <th>traffic_year</th>\n",
       "      <th>traffic_region</th>\n",
       "      <th>traffic_x_geo_point</th>\n",
       "      <th>traffic_y_geo_point</th>\n",
       "      <th>No. of Accidents</th>\n",
       "      <th>No. of Casualties - Dead</th>\n",
       "      <th>No. of Casualties - Injured</th>\n",
       "    </tr>\n",
       "  </thead>\n",
       "  <tbody>\n",
       "    <tr>\n",
       "      <th>0</th>\n",
       "      <td>2017</td>\n",
       "      <td>Hail</td>\n",
       "      <td>22035</td>\n",
       "      <td>27.400846</td>\n",
       "      <td>41.440696</td>\n",
       "      <td>2017</td>\n",
       "      <td>Hail</td>\n",
       "      <td>27.400846</td>\n",
       "      <td>41.440696</td>\n",
       "      <td>9379</td>\n",
       "      <td>265</td>\n",
       "      <td>773</td>\n",
       "    </tr>\n",
       "    <tr>\n",
       "      <th>1</th>\n",
       "      <td>2017</td>\n",
       "      <td>Northern Boarder</td>\n",
       "      <td>5280</td>\n",
       "      <td>30.197075</td>\n",
       "      <td>41.817119</td>\n",
       "      <td>2017</td>\n",
       "      <td>Northern Boarder</td>\n",
       "      <td>30.197075</td>\n",
       "      <td>41.817119</td>\n",
       "      <td>11540</td>\n",
       "      <td>112</td>\n",
       "      <td>374</td>\n",
       "    </tr>\n",
       "    <tr>\n",
       "      <th>2</th>\n",
       "      <td>2017</td>\n",
       "      <td>Al-Qaseem</td>\n",
       "      <td>6318</td>\n",
       "      <td>26.196706</td>\n",
       "      <td>43.343000</td>\n",
       "      <td>2017</td>\n",
       "      <td>Al-Qaseem</td>\n",
       "      <td>26.196706</td>\n",
       "      <td>43.343000</td>\n",
       "      <td>22405</td>\n",
       "      <td>319</td>\n",
       "      <td>1446</td>\n",
       "    </tr>\n",
       "    <tr>\n",
       "      <th>3</th>\n",
       "      <td>2017</td>\n",
       "      <td>Eastern</td>\n",
       "      <td>126816</td>\n",
       "      <td>23.288331</td>\n",
       "      <td>50.147830</td>\n",
       "      <td>2017</td>\n",
       "      <td>Eastern</td>\n",
       "      <td>23.288331</td>\n",
       "      <td>50.147830</td>\n",
       "      <td>81433</td>\n",
       "      <td>963</td>\n",
       "      <td>4073</td>\n",
       "    </tr>\n",
       "    <tr>\n",
       "      <th>4</th>\n",
       "      <td>2017</td>\n",
       "      <td>Tabouk</td>\n",
       "      <td>10232</td>\n",
       "      <td>27.901655</td>\n",
       "      <td>37.259858</td>\n",
       "      <td>2017</td>\n",
       "      <td>Tabouk</td>\n",
       "      <td>27.901655</td>\n",
       "      <td>37.259858</td>\n",
       "      <td>11713</td>\n",
       "      <td>348</td>\n",
       "      <td>1243</td>\n",
       "    </tr>\n",
       "    <tr>\n",
       "      <th>5</th>\n",
       "      <td>2016</td>\n",
       "      <td>Northern Boarder</td>\n",
       "      <td>4958</td>\n",
       "      <td>30.197075</td>\n",
       "      <td>41.817119</td>\n",
       "      <td>2016</td>\n",
       "      <td>Northern Boarder</td>\n",
       "      <td>30.197075</td>\n",
       "      <td>41.817119</td>\n",
       "      <td>13196</td>\n",
       "      <td>193</td>\n",
       "      <td>631</td>\n",
       "    </tr>\n",
       "    <tr>\n",
       "      <th>6</th>\n",
       "      <td>2016</td>\n",
       "      <td>Najran</td>\n",
       "      <td>2153</td>\n",
       "      <td>18.451100</td>\n",
       "      <td>46.868850</td>\n",
       "      <td>2016</td>\n",
       "      <td>Najran</td>\n",
       "      <td>18.451100</td>\n",
       "      <td>46.868850</td>\n",
       "      <td>3235</td>\n",
       "      <td>173</td>\n",
       "      <td>706</td>\n",
       "    </tr>\n",
       "    <tr>\n",
       "      <th>7</th>\n",
       "      <td>2017</td>\n",
       "      <td>Makkah</td>\n",
       "      <td>142487</td>\n",
       "      <td>21.628963</td>\n",
       "      <td>41.263690</td>\n",
       "      <td>2017</td>\n",
       "      <td>Makkah</td>\n",
       "      <td>21.628963</td>\n",
       "      <td>41.263690</td>\n",
       "      <td>145541</td>\n",
       "      <td>1641</td>\n",
       "      <td>10623</td>\n",
       "    </tr>\n",
       "    <tr>\n",
       "      <th>8</th>\n",
       "      <td>2016</td>\n",
       "      <td>Makkah</td>\n",
       "      <td>136055</td>\n",
       "      <td>21.628963</td>\n",
       "      <td>41.263690</td>\n",
       "      <td>2016</td>\n",
       "      <td>Makkah</td>\n",
       "      <td>21.628963</td>\n",
       "      <td>41.263690</td>\n",
       "      <td>134838</td>\n",
       "      <td>2243</td>\n",
       "      <td>12383</td>\n",
       "    </tr>\n",
       "    <tr>\n",
       "      <th>9</th>\n",
       "      <td>2016</td>\n",
       "      <td>Madinah</td>\n",
       "      <td>24540</td>\n",
       "      <td>24.927535</td>\n",
       "      <td>39.491824</td>\n",
       "      <td>2016</td>\n",
       "      <td>Madinah</td>\n",
       "      <td>24.927535</td>\n",
       "      <td>39.491824</td>\n",
       "      <td>14475</td>\n",
       "      <td>822</td>\n",
       "      <td>4184</td>\n",
       "    </tr>\n",
       "    <tr>\n",
       "      <th>10</th>\n",
       "      <td>2016</td>\n",
       "      <td>Al-Qaseem</td>\n",
       "      <td>9180</td>\n",
       "      <td>26.196706</td>\n",
       "      <td>43.343000</td>\n",
       "      <td>2016</td>\n",
       "      <td>Al-Qaseem</td>\n",
       "      <td>26.196706</td>\n",
       "      <td>43.343000</td>\n",
       "      <td>25664</td>\n",
       "      <td>397</td>\n",
       "      <td>1513</td>\n",
       "    </tr>\n",
       "    <tr>\n",
       "      <th>11</th>\n",
       "      <td>2016</td>\n",
       "      <td>Hail</td>\n",
       "      <td>54507</td>\n",
       "      <td>27.400846</td>\n",
       "      <td>41.440696</td>\n",
       "      <td>2016</td>\n",
       "      <td>Hail</td>\n",
       "      <td>27.400846</td>\n",
       "      <td>41.440696</td>\n",
       "      <td>10199</td>\n",
       "      <td>299</td>\n",
       "      <td>932</td>\n",
       "    </tr>\n",
       "    <tr>\n",
       "      <th>12</th>\n",
       "      <td>2017</td>\n",
       "      <td>Najran</td>\n",
       "      <td>13825</td>\n",
       "      <td>18.451100</td>\n",
       "      <td>46.868850</td>\n",
       "      <td>2017</td>\n",
       "      <td>Najran</td>\n",
       "      <td>18.451100</td>\n",
       "      <td>46.868850</td>\n",
       "      <td>3193</td>\n",
       "      <td>194</td>\n",
       "      <td>766</td>\n",
       "    </tr>\n",
       "    <tr>\n",
       "      <th>13</th>\n",
       "      <td>2017</td>\n",
       "      <td>Al-Jouf</td>\n",
       "      <td>8091</td>\n",
       "      <td>29.967745</td>\n",
       "      <td>39.557037</td>\n",
       "      <td>2017</td>\n",
       "      <td>Al-Jouf</td>\n",
       "      <td>29.967745</td>\n",
       "      <td>39.557037</td>\n",
       "      <td>10469</td>\n",
       "      <td>240</td>\n",
       "      <td>862</td>\n",
       "    </tr>\n",
       "    <tr>\n",
       "      <th>14</th>\n",
       "      <td>2017</td>\n",
       "      <td>Madinah</td>\n",
       "      <td>36165</td>\n",
       "      <td>24.927535</td>\n",
       "      <td>39.491824</td>\n",
       "      <td>2017</td>\n",
       "      <td>Madinah</td>\n",
       "      <td>24.927535</td>\n",
       "      <td>39.491824</td>\n",
       "      <td>16070</td>\n",
       "      <td>580</td>\n",
       "      <td>2917</td>\n",
       "    </tr>\n",
       "    <tr>\n",
       "      <th>15</th>\n",
       "      <td>2016</td>\n",
       "      <td>Eastern</td>\n",
       "      <td>142307</td>\n",
       "      <td>23.288331</td>\n",
       "      <td>50.147830</td>\n",
       "      <td>2016</td>\n",
       "      <td>Eastern</td>\n",
       "      <td>23.288331</td>\n",
       "      <td>50.147830</td>\n",
       "      <td>101619</td>\n",
       "      <td>1113</td>\n",
       "      <td>4893</td>\n",
       "    </tr>\n",
       "    <tr>\n",
       "      <th>16</th>\n",
       "      <td>2017</td>\n",
       "      <td>Assir</td>\n",
       "      <td>39133</td>\n",
       "      <td>19.138785</td>\n",
       "      <td>42.941470</td>\n",
       "      <td>2017</td>\n",
       "      <td>Assir</td>\n",
       "      <td>19.138785</td>\n",
       "      <td>42.941470</td>\n",
       "      <td>25245</td>\n",
       "      <td>828</td>\n",
       "      <td>2368</td>\n",
       "    </tr>\n",
       "    <tr>\n",
       "      <th>17</th>\n",
       "      <td>2016</td>\n",
       "      <td>Assir</td>\n",
       "      <td>41367</td>\n",
       "      <td>19.138785</td>\n",
       "      <td>42.941470</td>\n",
       "      <td>2016</td>\n",
       "      <td>Assir</td>\n",
       "      <td>19.138785</td>\n",
       "      <td>42.941470</td>\n",
       "      <td>32684</td>\n",
       "      <td>983</td>\n",
       "      <td>2541</td>\n",
       "    </tr>\n",
       "    <tr>\n",
       "      <th>18</th>\n",
       "      <td>2017</td>\n",
       "      <td>Jazan</td>\n",
       "      <td>18345</td>\n",
       "      <td>17.207231</td>\n",
       "      <td>42.652581</td>\n",
       "      <td>2017</td>\n",
       "      <td>Jazan</td>\n",
       "      <td>17.207231</td>\n",
       "      <td>42.652581</td>\n",
       "      <td>22161</td>\n",
       "      <td>466</td>\n",
       "      <td>2207</td>\n",
       "    </tr>\n",
       "    <tr>\n",
       "      <th>19</th>\n",
       "      <td>2016</td>\n",
       "      <td>Jazan</td>\n",
       "      <td>11504</td>\n",
       "      <td>17.207231</td>\n",
       "      <td>42.652581</td>\n",
       "      <td>2016</td>\n",
       "      <td>Jazan</td>\n",
       "      <td>17.207231</td>\n",
       "      <td>42.652581</td>\n",
       "      <td>25873</td>\n",
       "      <td>514</td>\n",
       "      <td>2259</td>\n",
       "    </tr>\n",
       "    <tr>\n",
       "      <th>20</th>\n",
       "      <td>2017</td>\n",
       "      <td>Riyadh</td>\n",
       "      <td>495307</td>\n",
       "      <td>23.081434</td>\n",
       "      <td>45.585751</td>\n",
       "      <td>2017</td>\n",
       "      <td>Riyadh</td>\n",
       "      <td>23.081434</td>\n",
       "      <td>45.585751</td>\n",
       "      <td>99925</td>\n",
       "      <td>1399</td>\n",
       "      <td>4540</td>\n",
       "    </tr>\n",
       "    <tr>\n",
       "      <th>21</th>\n",
       "      <td>2016</td>\n",
       "      <td>Riyadh</td>\n",
       "      <td>242851</td>\n",
       "      <td>23.081434</td>\n",
       "      <td>45.585751</td>\n",
       "      <td>2016</td>\n",
       "      <td>Riyadh</td>\n",
       "      <td>23.081434</td>\n",
       "      <td>45.585751</td>\n",
       "      <td>141736</td>\n",
       "      <td>1430</td>\n",
       "      <td>4207</td>\n",
       "    </tr>\n",
       "    <tr>\n",
       "      <th>22</th>\n",
       "      <td>2016</td>\n",
       "      <td>Al-Jouf</td>\n",
       "      <td>9371</td>\n",
       "      <td>29.967745</td>\n",
       "      <td>39.557037</td>\n",
       "      <td>2016</td>\n",
       "      <td>Al-Jouf</td>\n",
       "      <td>29.967745</td>\n",
       "      <td>39.557037</td>\n",
       "      <td>10212</td>\n",
       "      <td>245</td>\n",
       "      <td>920</td>\n",
       "    </tr>\n",
       "    <tr>\n",
       "      <th>23</th>\n",
       "      <td>2016</td>\n",
       "      <td>Tabouk</td>\n",
       "      <td>13610</td>\n",
       "      <td>27.901655</td>\n",
       "      <td>37.259858</td>\n",
       "      <td>2016</td>\n",
       "      <td>Tabouk</td>\n",
       "      <td>27.901655</td>\n",
       "      <td>37.259858</td>\n",
       "      <td>16031</td>\n",
       "      <td>434</td>\n",
       "      <td>1724</td>\n",
       "    </tr>\n",
       "  </tbody>\n",
       "</table>\n",
       "</div>"
      ],
      "text/plain": [
       "    licenses_year   licenses_region  driving_licenses  licenses_x_geo_point  \\\n",
       "0            2017              Hail             22035             27.400846   \n",
       "1            2017  Northern Boarder              5280             30.197075   \n",
       "2            2017         Al-Qaseem              6318             26.196706   \n",
       "3            2017           Eastern            126816             23.288331   \n",
       "4            2017            Tabouk             10232             27.901655   \n",
       "5            2016  Northern Boarder              4958             30.197075   \n",
       "6            2016            Najran              2153             18.451100   \n",
       "7            2017            Makkah            142487             21.628963   \n",
       "8            2016            Makkah            136055             21.628963   \n",
       "9            2016           Madinah             24540             24.927535   \n",
       "10           2016         Al-Qaseem              9180             26.196706   \n",
       "11           2016              Hail             54507             27.400846   \n",
       "12           2017            Najran             13825             18.451100   \n",
       "13           2017           Al-Jouf              8091             29.967745   \n",
       "14           2017           Madinah             36165             24.927535   \n",
       "15           2016           Eastern            142307             23.288331   \n",
       "16           2017             Assir             39133             19.138785   \n",
       "17           2016             Assir             41367             19.138785   \n",
       "18           2017             Jazan             18345             17.207231   \n",
       "19           2016             Jazan             11504             17.207231   \n",
       "20           2017            Riyadh            495307             23.081434   \n",
       "21           2016            Riyadh            242851             23.081434   \n",
       "22           2016           Al-Jouf              9371             29.967745   \n",
       "23           2016            Tabouk             13610             27.901655   \n",
       "\n",
       "    licenses_y_geo_point  traffic_year    traffic_region  traffic_x_geo_point  \\\n",
       "0              41.440696          2017              Hail            27.400846   \n",
       "1              41.817119          2017  Northern Boarder            30.197075   \n",
       "2              43.343000          2017         Al-Qaseem            26.196706   \n",
       "3              50.147830          2017           Eastern            23.288331   \n",
       "4              37.259858          2017            Tabouk            27.901655   \n",
       "5              41.817119          2016  Northern Boarder            30.197075   \n",
       "6              46.868850          2016            Najran            18.451100   \n",
       "7              41.263690          2017            Makkah            21.628963   \n",
       "8              41.263690          2016            Makkah            21.628963   \n",
       "9              39.491824          2016           Madinah            24.927535   \n",
       "10             43.343000          2016         Al-Qaseem            26.196706   \n",
       "11             41.440696          2016              Hail            27.400846   \n",
       "12             46.868850          2017            Najran            18.451100   \n",
       "13             39.557037          2017           Al-Jouf            29.967745   \n",
       "14             39.491824          2017           Madinah            24.927535   \n",
       "15             50.147830          2016           Eastern            23.288331   \n",
       "16             42.941470          2017             Assir            19.138785   \n",
       "17             42.941470          2016             Assir            19.138785   \n",
       "18             42.652581          2017             Jazan            17.207231   \n",
       "19             42.652581          2016             Jazan            17.207231   \n",
       "20             45.585751          2017            Riyadh            23.081434   \n",
       "21             45.585751          2016            Riyadh            23.081434   \n",
       "22             39.557037          2016           Al-Jouf            29.967745   \n",
       "23             37.259858          2016            Tabouk            27.901655   \n",
       "\n",
       "    traffic_y_geo_point  No. of Accidents  No. of Casualties - Dead  \\\n",
       "0             41.440696              9379                       265   \n",
       "1             41.817119             11540                       112   \n",
       "2             43.343000             22405                       319   \n",
       "3             50.147830             81433                       963   \n",
       "4             37.259858             11713                       348   \n",
       "5             41.817119             13196                       193   \n",
       "6             46.868850              3235                       173   \n",
       "7             41.263690            145541                      1641   \n",
       "8             41.263690            134838                      2243   \n",
       "9             39.491824             14475                       822   \n",
       "10            43.343000             25664                       397   \n",
       "11            41.440696             10199                       299   \n",
       "12            46.868850              3193                       194   \n",
       "13            39.557037             10469                       240   \n",
       "14            39.491824             16070                       580   \n",
       "15            50.147830            101619                      1113   \n",
       "16            42.941470             25245                       828   \n",
       "17            42.941470             32684                       983   \n",
       "18            42.652581             22161                       466   \n",
       "19            42.652581             25873                       514   \n",
       "20            45.585751             99925                      1399   \n",
       "21            45.585751            141736                      1430   \n",
       "22            39.557037             10212                       245   \n",
       "23            37.259858             16031                       434   \n",
       "\n",
       "    No. of Casualties - Injured  \n",
       "0                           773  \n",
       "1                           374  \n",
       "2                          1446  \n",
       "3                          4073  \n",
       "4                          1243  \n",
       "5                           631  \n",
       "6                           706  \n",
       "7                         10623  \n",
       "8                         12383  \n",
       "9                          4184  \n",
       "10                         1513  \n",
       "11                          932  \n",
       "12                          766  \n",
       "13                          862  \n",
       "14                         2917  \n",
       "15                         4893  \n",
       "16                         2368  \n",
       "17                         2541  \n",
       "18                         2207  \n",
       "19                         2259  \n",
       "20                         4540  \n",
       "21                         4207  \n",
       "22                          920  \n",
       "23                         1724  "
      ]
     },
     "execution_count": 119,
     "metadata": {},
     "output_type": "execute_result"
    }
   ],
   "source": [
    "traffic_driving"
   ]
  },
  {
   "cell_type": "code",
   "execution_count": 120,
   "metadata": {},
   "outputs": [
    {
     "name": "stdout",
     "output_type": "stream",
     "text": [
      "[[2016 'Al-Jouf' 2153 23.0 43.0 2016 'Al-Jouf' 23.0 43.0 3193 112 374]]\n"
     ]
    }
   ],
   "source": [
    "mode_ = stats.mode(traffic_driving.round())\n",
    "print(mode_.mode)"
   ]
  },
  {
   "cell_type": "code",
   "execution_count": 121,
   "metadata": {},
   "outputs": [
    {
     "name": "stdout",
     "output_type": "stream",
     "text": [
      "493154\n",
      "142348\n"
     ]
    }
   ],
   "source": [
    "# Range\n",
    "# Find range with np.ptp():\n",
    "print(np.ptp(traffic_driving['driving_licenses']))\n",
    "print(np.ptp(traffic_driving['No. of Accidents']))"
   ]
  },
  {
   "cell_type": "code",
   "execution_count": 122,
   "metadata": {
    "scrolled": true
   },
   "outputs": [
    {
     "name": "stdout",
     "output_type": "stream",
     "text": [
      "licenses_year                       0.500000\n",
      "driving_licenses               108104.307823\n",
      "licenses_x_geo_point                4.221643\n",
      "licenses_y_geo_point                3.364583\n",
      "traffic_year                        0.500000\n",
      "traffic_x_geo_point                 4.221643\n",
      "traffic_y_geo_point                 3.364583\n",
      "No. of Accidents                46222.420509\n",
      "No. of Casualties - Dead          542.546732\n",
      "No. of Casualties - Injured      2942.454403\n",
      "dtype: float64\n"
     ]
    }
   ],
   "source": [
    "print(np.std(traffic_driving))"
   ]
  },
  {
   "cell_type": "code",
   "execution_count": 123,
   "metadata": {},
   "outputs": [
    {
     "name": "stdout",
     "output_type": "stream",
     "text": [
      "licenses_year                  2.500000e-01\n",
      "driving_licenses               1.168654e+10\n",
      "licenses_x_geo_point           1.782227e+01\n",
      "licenses_y_geo_point           1.132042e+01\n",
      "traffic_year                   2.500000e-01\n",
      "traffic_x_geo_point            1.782227e+01\n",
      "traffic_y_geo_point            1.132042e+01\n",
      "No. of Accidents               2.136512e+09\n",
      "No. of Casualties - Dead       2.943570e+05\n",
      "No. of Casualties - Injured    8.658038e+06\n",
      "dtype: float64\n"
     ]
    }
   ],
   "source": [
    "print(np.var(traffic_driving))"
   ]
  },
  {
   "cell_type": "code",
   "execution_count": 124,
   "metadata": {},
   "outputs": [
    {
     "data": {
      "text/plain": [
       "2.7224334104199333"
      ]
     },
     "execution_count": 124,
     "metadata": {},
     "output_type": "execute_result"
    }
   ],
   "source": [
    "stats.skew(traffic_driving['driving_licenses'])"
   ]
  },
  {
   "cell_type": "code",
   "execution_count": 125,
   "metadata": {},
   "outputs": [
    {
     "data": {
      "text/plain": [
       "1.2997462886510498"
      ]
     },
     "execution_count": 125,
     "metadata": {},
     "output_type": "execute_result"
    }
   ],
   "source": [
    "stats.skew(traffic_driving['No. of Accidents'])"
   ]
  },
  {
   "cell_type": "code",
   "execution_count": 126,
   "metadata": {
    "scrolled": true
   },
   "outputs": [
    {
     "data": {
      "image/png": "[encoded data removed]",
      "text/plain": [
       "<Figure size 1440x1440 with 4 Axes>"
      ]
     },
     "metadata": {
      "needs_background": "light"
     },
     "output_type": "display_data"
    }
   ],
   "source": [
    "traffic_driving[['driving_licenses','No. of Accidents',\n",
    "     'No. of Casualties - Dead','No. of Casualties - Injured']].hist(bins=len(traffic_driving),\n",
    "                                                                     figsize=(20,20),edgecolor='black')\n",
    "plt.show()"
   ]
  },
  {
   "cell_type": "code",
   "execution_count": 127,
   "metadata": {
    "scrolled": false
   },
   "outputs": [
    {
     "data": {
      "text/plain": [
       "driving_licenses               2.907396\n",
       "No. of Accidents               1.388051\n",
       "No. of Casualties - Dead       1.328380\n",
       "No. of Casualties - Injured    2.184752\n",
       "dtype: float64"
      ]
     },
     "execution_count": 127,
     "metadata": {},
     "output_type": "execute_result"
    }
   ],
   "source": [
    "traffic_driving[['driving_licenses','No. of Accidents','No. of Casualties - Dead','No. of Casualties - Injured']].skew(axis = 0, skipna = True)"
   ]
  },
  {
   "cell_type": "markdown",
   "metadata": {},
   "source": [
    "Answers:\n",
    "we notice from above Positive skew:  because mode < median < mean "
   ]
  },
  {
   "cell_type": "markdown",
   "metadata": {},
   "source": [
    "#### We generally assuming that data we sample from a population will be normally distributed. Do we observe this trend?"
   ]
  },
  {
   "cell_type": "markdown",
   "metadata": {},
   "source": [
    "When a distribution is symmetric, the mean, median, and mode are the same.\n",
    "\n",
    "Symmetric: mean == median == mode\n",
    "\n",
    "When a distribution is negatively skewed, the mean is less than the median, which is less than the mode.\n",
    "\n",
    "Negative skew: mean < median < mode\n",
    "\n",
    "When a distribution is positively skewed, the mean is greater than the median, which is greater than the mode.\n",
    "\n",
    "Positive skew: mode < median < mean"
   ]
  },
  {
   "cell_type": "markdown",
   "metadata": {},
   "source": [
    "Does This Assumption Hold for:\n",
    "    - Driving Licenses\n",
    "    - Traffic Accidents\n",
    "Explain your answers for each distribution and how you think this will affect estimates made from these data."
   ]
  },
  {
   "cell_type": "code",
   "execution_count": 128,
   "metadata": {},
   "outputs": [],
   "source": [
    "def dist_plotter(sample):\n",
    "    fig, ax = plt.subplots(figsize=(8,6))\n",
    "    ax = sns.distplot(sample, bins=50, kde=False)\n",
    "    \n"
   ]
  },
  {
   "cell_type": "code",
   "execution_count": 129,
   "metadata": {},
   "outputs": [],
   "source": [
    "def sampler(population, n=30, k=1000):\n",
    "    sample_means = []\n",
    "    for i in range(k):\n",
    "        sample = np.random.choice(population, size=n, replace=True)\n",
    "        sample_means.append(np.mean(sample))\n",
    "    return sample_means"
   ]
  },
  {
   "cell_type": "code",
   "execution_count": 130,
   "metadata": {},
   "outputs": [
    {
     "name": "stderr",
     "output_type": "stream",
     "text": [
      "/Users/Maha48/test_env/lib/python3.7/site-packages/seaborn/distributions.py:2557: FutureWarning: `distplot` is a deprecated function and will be removed in a future version. Please adapt your code to use either `displot` (a figure-level function with similar flexibility) or `histplot` (an axes-level function for histograms).\n",
      "  warnings.warn(msg, FutureWarning)\n"
     ]
    },
    {
     "data": {
      "text/plain": [
       "Text(0.5, 1.0, ' Number of Accidents')"
      ]
     },
     "execution_count": 130,
     "metadata": {},
     "output_type": "execute_result"
    },
    {
     "data": {
      "image/png": "[encoded data removed]",
      "text/plain": [
       "<Figure size 576x432 with 1 Axes>"
      ]
     },
     "metadata": {
      "needs_background": "light"
     },
     "output_type": "display_data"
    }
   ],
   "source": [
    "means2 = sampler(traffic_driving['No. of Accidents'])  # It will call sampler function with default n=30, k=1000\n",
    "\n",
    "dist_plotter(traffic_driving['No. of Accidents'])\n",
    "plt.title(\" Number of Accidents\")"
   ]
  },
  {
   "cell_type": "code",
   "execution_count": 131,
   "metadata": {},
   "outputs": [
    {
     "data": {
      "text/plain": [
       "Text(0.5, 1.0, 'Driving licenses')"
      ]
     },
     "execution_count": 131,
     "metadata": {},
     "output_type": "execute_result"
    },
    {
     "data": {
      "image/png": "[encoded data removed]",
      "text/plain": [
       "<Figure size 576x432 with 1 Axes>"
      ]
     },
     "metadata": {
      "needs_background": "light"
     },
     "output_type": "display_data"
    }
   ],
   "source": [
    "means2 = sampler(traffic_driving['driving_licenses'])  # It will call sampler function with default n=30, k=1000\n",
    "\n",
    "dist_plotter(traffic_driving['driving_licenses'])\n",
    "plt.title(\"Driving licenses\")"
   ]
  },
  {
   "cell_type": "markdown",
   "metadata": {},
   "source": [
    "Positive skew: mode < median < mean\n",
    "Positive skewness values correspond to a longer or fatter tail on the right side"
   ]
  },
  {
   "cell_type": "markdown",
   "metadata": {},
   "source": [
    "#### Statistical Evaluation of Distributions \n",
    "\n",
    "**If you feel it's appropriate**, using methods we discussed in class, run hypothesis tests to compare variables of interest in our dataset. "
   ]
  },
  {
   "cell_type": "code",
   "execution_count": 132,
   "metadata": {},
   "outputs": [],
   "source": [
    "# Code"
   ]
  },
  {
   "cell_type": "markdown",
   "metadata": {},
   "source": [
    "## Outside Research"
   ]
  },
  {
   "cell_type": "markdown",
   "metadata": {},
   "source": [
    "Based upon your observations, choose **three** regions that demonstrate interesting trends in the number of driving licenses and traffic accidents. Spend some time doing outside research on provincial and central policies that might influence these rates, and summarize your findings below. **Feel free to go back and create new plots that highlight these states of interest**. If you bring in any outside tables or charts, make sure you are explicit about having borrowed them. If you quote any text, make sure that it renders as being quoted. (Make sure that you cite your sources -- check with you local instructor for citation preferences)."
   ]
  },
  {
   "cell_type": "markdown",
   "metadata": {},
   "source": [
    "Makkah, Eastern and Riyadh are the most frequent"
   ]
  },
  {
   "cell_type": "markdown",
   "metadata": {},
   "source": [
    "Since there are changes that occurred in Saudi Arabia in the year 2018-2019 due to the issuance of the decision of Saudi women driving. I am trying to measure the extent of the data affected by this decision in terms of the increase in the issuance of licenses and the number of accidents"
   ]
  },
  {
   "cell_type": "code",
   "execution_count": 133,
   "metadata": {},
   "outputs": [],
   "source": [
    "driving_licenses_2018_2019 = pd.read_csv(\"../data/saudi-arabia-driving-licenses-issued-in-the-kingdom-2018-2019.csv\",sep=\";\")"
   ]
  },
  {
   "cell_type": "code",
   "execution_count": 134,
   "metadata": {},
   "outputs": [],
   "source": [
    "traffic_accidents_2018_2019 = pd.read_csv(\"../data/saudi-arabia-traffic-accidents-and-casualties-injured-dead-2018-2019.csv\",sep=\";\")"
   ]
  },
  {
   "cell_type": "code",
   "execution_count": 135,
   "metadata": {},
   "outputs": [
    {
     "data": {
      "text/html": [
       "<div>\n",
       "<style scoped>\n",
       "    .dataframe tbody tr th:only-of-type {\n",
       "        vertical-align: middle;\n",
       "    }\n",
       "\n",
       "    .dataframe tbody tr th {\n",
       "        vertical-align: top;\n",
       "    }\n",
       "\n",
       "    .dataframe thead th {\n",
       "        text-align: right;\n",
       "    }\n",
       "</style>\n",
       "<table border=\"1\" class=\"dataframe\">\n",
       "  <thead>\n",
       "    <tr style=\"text-align: right;\">\n",
       "      <th></th>\n",
       "      <th>Year</th>\n",
       "      <th>Administritive Area</th>\n",
       "      <th>Number of Driving Licenses</th>\n",
       "      <th>geo_shape</th>\n",
       "      <th>geo_point_2d</th>\n",
       "    </tr>\n",
       "  </thead>\n",
       "  <tbody>\n",
       "    <tr>\n",
       "      <th>0</th>\n",
       "      <td>2018</td>\n",
       "      <td>Riyadh</td>\n",
       "      <td>493224</td>\n",
       "      <td>{\"type\": \"Polygon\", \"coordinates\": [[[41.68033...</td>\n",
       "      <td>23.0814341634,45.5857512766</td>\n",
       "    </tr>\n",
       "    <tr>\n",
       "      <th>1</th>\n",
       "      <td>2018</td>\n",
       "      <td>Al-Qaseem</td>\n",
       "      <td>4457</td>\n",
       "      <td>{\"type\": \"Polygon\", \"coordinates\": [[[41.29777...</td>\n",
       "      <td>26.1967063704,43.3429998455</td>\n",
       "    </tr>\n",
       "    <tr>\n",
       "      <th>2</th>\n",
       "      <td>2018</td>\n",
       "      <td>Hail</td>\n",
       "      <td>39575</td>\n",
       "      <td>{\"type\": \"Polygon\", \"coordinates\": [[[39.11323...</td>\n",
       "      <td>27.400845724,41.4406960508</td>\n",
       "    </tr>\n",
       "    <tr>\n",
       "      <th>3</th>\n",
       "      <td>2018</td>\n",
       "      <td>Northern Boarder</td>\n",
       "      <td>3661</td>\n",
       "      <td>{\"type\": \"Polygon\", \"coordinates\": [[[45.17530...</td>\n",
       "      <td>30.197074783,41.8171186952</td>\n",
       "    </tr>\n",
       "    <tr>\n",
       "      <th>4</th>\n",
       "      <td>2018</td>\n",
       "      <td>Najran</td>\n",
       "      <td>7431</td>\n",
       "      <td>{\"type\": \"Polygon\", \"coordinates\": [[[45.08826...</td>\n",
       "      <td>18.4511003068,46.8688495726</td>\n",
       "    </tr>\n",
       "    <tr>\n",
       "      <th>5</th>\n",
       "      <td>2018</td>\n",
       "      <td>Makkah</td>\n",
       "      <td>144873</td>\n",
       "      <td>{\"type\": \"MultiPolygon\", \"coordinates\": [[[[41...</td>\n",
       "      <td>21.628962766,41.2636898334</td>\n",
       "    </tr>\n",
       "    <tr>\n",
       "      <th>6</th>\n",
       "      <td>2018</td>\n",
       "      <td>Jazan</td>\n",
       "      <td>12265</td>\n",
       "      <td>{\"type\": \"MultiPolygon\", \"coordinates\": [[[[42...</td>\n",
       "      <td>17.2072313962,42.6525807422</td>\n",
       "    </tr>\n",
       "    <tr>\n",
       "      <th>7</th>\n",
       "      <td>2018</td>\n",
       "      <td>Madinah</td>\n",
       "      <td>23335</td>\n",
       "      <td>{\"type\": \"MultiPolygon\", \"coordinates\": [[[[38...</td>\n",
       "      <td>24.927534539,39.4918237173</td>\n",
       "    </tr>\n",
       "    <tr>\n",
       "      <th>8</th>\n",
       "      <td>2018</td>\n",
       "      <td>Assir</td>\n",
       "      <td>22362</td>\n",
       "      <td>{\"type\": \"MultiPolygon\", \"coordinates\": [[[[41...</td>\n",
       "      <td>19.1387847401,42.941470036</td>\n",
       "    </tr>\n",
       "    <tr>\n",
       "      <th>9</th>\n",
       "      <td>2018</td>\n",
       "      <td>Al-Jouf</td>\n",
       "      <td>6834</td>\n",
       "      <td>{\"type\": \"Polygon\", \"coordinates\": [[[38.24572...</td>\n",
       "      <td>29.9677445762,39.5570371172</td>\n",
       "    </tr>\n",
       "  </tbody>\n",
       "</table>\n",
       "</div>"
      ],
      "text/plain": [
       "   Year Administritive Area  Number of Driving Licenses  \\\n",
       "0  2018              Riyadh                      493224   \n",
       "1  2018           Al-Qaseem                        4457   \n",
       "2  2018                Hail                       39575   \n",
       "3  2018    Northern Boarder                        3661   \n",
       "4  2018              Najran                        7431   \n",
       "5  2018              Makkah                      144873   \n",
       "6  2018               Jazan                       12265   \n",
       "7  2018             Madinah                       23335   \n",
       "8  2018               Assir                       22362   \n",
       "9  2018             Al-Jouf                        6834   \n",
       "\n",
       "                                           geo_shape  \\\n",
       "0  {\"type\": \"Polygon\", \"coordinates\": [[[41.68033...   \n",
       "1  {\"type\": \"Polygon\", \"coordinates\": [[[41.29777...   \n",
       "2  {\"type\": \"Polygon\", \"coordinates\": [[[39.11323...   \n",
       "3  {\"type\": \"Polygon\", \"coordinates\": [[[45.17530...   \n",
       "4  {\"type\": \"Polygon\", \"coordinates\": [[[45.08826...   \n",
       "5  {\"type\": \"MultiPolygon\", \"coordinates\": [[[[41...   \n",
       "6  {\"type\": \"MultiPolygon\", \"coordinates\": [[[[42...   \n",
       "7  {\"type\": \"MultiPolygon\", \"coordinates\": [[[[38...   \n",
       "8  {\"type\": \"MultiPolygon\", \"coordinates\": [[[[41...   \n",
       "9  {\"type\": \"Polygon\", \"coordinates\": [[[38.24572...   \n",
       "\n",
       "                  geo_point_2d  \n",
       "0  23.0814341634,45.5857512766  \n",
       "1  26.1967063704,43.3429998455  \n",
       "2   27.400845724,41.4406960508  \n",
       "3   30.197074783,41.8171186952  \n",
       "4  18.4511003068,46.8688495726  \n",
       "5   21.628962766,41.2636898334  \n",
       "6  17.2072313962,42.6525807422  \n",
       "7   24.927534539,39.4918237173  \n",
       "8   19.1387847401,42.941470036  \n",
       "9  29.9677445762,39.5570371172  "
      ]
     },
     "execution_count": 135,
     "metadata": {},
     "output_type": "execute_result"
    }
   ],
   "source": [
    "driving_licenses_2018_2019.head(10)"
   ]
  },
  {
   "cell_type": "code",
   "execution_count": 136,
   "metadata": {
    "scrolled": false
   },
   "outputs": [
    {
     "data": {
      "text/html": [
       "<div>\n",
       "<style scoped>\n",
       "    .dataframe tbody tr th:only-of-type {\n",
       "        vertical-align: middle;\n",
       "    }\n",
       "\n",
       "    .dataframe tbody tr th {\n",
       "        vertical-align: top;\n",
       "    }\n",
       "\n",
       "    .dataframe thead th {\n",
       "        text-align: right;\n",
       "    }\n",
       "</style>\n",
       "<table border=\"1\" class=\"dataframe\">\n",
       "  <thead>\n",
       "    <tr style=\"text-align: right;\">\n",
       "      <th></th>\n",
       "      <th>Year</th>\n",
       "      <th>Region</th>\n",
       "      <th>Indicator</th>\n",
       "      <th>Value</th>\n",
       "      <th>geo_shape</th>\n",
       "      <th>geo_point_2d</th>\n",
       "    </tr>\n",
       "  </thead>\n",
       "  <tbody>\n",
       "    <tr>\n",
       "      <th>0</th>\n",
       "      <td>2018</td>\n",
       "      <td>Makkah</td>\n",
       "      <td>No. of Casualties - Dead</td>\n",
       "      <td>1301</td>\n",
       "      <td>{\"type\": \"MultiPolygon\", \"coordinates\": [[[[41...</td>\n",
       "      <td>21.628962766,41.2636898334</td>\n",
       "    </tr>\n",
       "    <tr>\n",
       "      <th>1</th>\n",
       "      <td>2018</td>\n",
       "      <td>Makkah</td>\n",
       "      <td>No. of Casualties - Injured</td>\n",
       "      <td>9931</td>\n",
       "      <td>{\"type\": \"MultiPolygon\", \"coordinates\": [[[[41...</td>\n",
       "      <td>21.628962766,41.2636898334</td>\n",
       "    </tr>\n",
       "    <tr>\n",
       "      <th>2</th>\n",
       "      <td>2018</td>\n",
       "      <td>Madinah</td>\n",
       "      <td>No. of Accidents</td>\n",
       "      <td>20547</td>\n",
       "      <td>{\"type\": \"MultiPolygon\", \"coordinates\": [[[[38...</td>\n",
       "      <td>24.927534539,39.4918237173</td>\n",
       "    </tr>\n",
       "    <tr>\n",
       "      <th>3</th>\n",
       "      <td>2018</td>\n",
       "      <td>Qassim</td>\n",
       "      <td>No. of Accidents</td>\n",
       "      <td>17510</td>\n",
       "      <td>{\"type\": \"Polygon\", \"coordinates\": [[[41.29777...</td>\n",
       "      <td>26.1967063704,43.3429998455</td>\n",
       "    </tr>\n",
       "    <tr>\n",
       "      <th>4</th>\n",
       "      <td>2018</td>\n",
       "      <td>Qassim</td>\n",
       "      <td>No. of Casualties - Injured</td>\n",
       "      <td>1269</td>\n",
       "      <td>{\"type\": \"Polygon\", \"coordinates\": [[[41.29777...</td>\n",
       "      <td>26.1967063704,43.3429998455</td>\n",
       "    </tr>\n",
       "    <tr>\n",
       "      <th>5</th>\n",
       "      <td>2018</td>\n",
       "      <td>Eastern Region</td>\n",
       "      <td>No. of Casualties - Injured</td>\n",
       "      <td>2969</td>\n",
       "      <td>{\"type\": \"MultiPolygon\", \"coordinates\": [[[[50...</td>\n",
       "      <td>23.2883307307,50.1478302439</td>\n",
       "    </tr>\n",
       "    <tr>\n",
       "      <th>6</th>\n",
       "      <td>2018</td>\n",
       "      <td>Asir</td>\n",
       "      <td>No. of Accidents</td>\n",
       "      <td>25964</td>\n",
       "      <td>{\"type\": \"MultiPolygon\", \"coordinates\": [[[[41...</td>\n",
       "      <td>19.1387847401,42.941470036</td>\n",
       "    </tr>\n",
       "    <tr>\n",
       "      <th>7</th>\n",
       "      <td>2018</td>\n",
       "      <td>Hail</td>\n",
       "      <td>No. of Casualties - Dead</td>\n",
       "      <td>193</td>\n",
       "      <td>{\"type\": \"Polygon\", \"coordinates\": [[[39.11323...</td>\n",
       "      <td>27.400845724,41.4406960508</td>\n",
       "    </tr>\n",
       "    <tr>\n",
       "      <th>8</th>\n",
       "      <td>2018</td>\n",
       "      <td>Hail</td>\n",
       "      <td>No. of Accidents</td>\n",
       "      <td>6955</td>\n",
       "      <td>{\"type\": \"Polygon\", \"coordinates\": [[[39.11323...</td>\n",
       "      <td>27.400845724,41.4406960508</td>\n",
       "    </tr>\n",
       "    <tr>\n",
       "      <th>9</th>\n",
       "      <td>2018</td>\n",
       "      <td>Hail</td>\n",
       "      <td>No. of Casualties - Injured</td>\n",
       "      <td>912</td>\n",
       "      <td>{\"type\": \"Polygon\", \"coordinates\": [[[39.11323...</td>\n",
       "      <td>27.400845724,41.4406960508</td>\n",
       "    </tr>\n",
       "  </tbody>\n",
       "</table>\n",
       "</div>"
      ],
      "text/plain": [
       "   Year          Region                    Indicator  Value  \\\n",
       "0  2018          Makkah     No. of Casualties - Dead   1301   \n",
       "1  2018          Makkah  No. of Casualties - Injured   9931   \n",
       "2  2018         Madinah             No. of Accidents  20547   \n",
       "3  2018          Qassim             No. of Accidents  17510   \n",
       "4  2018          Qassim  No. of Casualties - Injured   1269   \n",
       "5  2018  Eastern Region  No. of Casualties - Injured   2969   \n",
       "6  2018            Asir             No. of Accidents  25964   \n",
       "7  2018            Hail     No. of Casualties - Dead    193   \n",
       "8  2018            Hail             No. of Accidents   6955   \n",
       "9  2018            Hail  No. of Casualties - Injured    912   \n",
       "\n",
       "                                           geo_shape  \\\n",
       "0  {\"type\": \"MultiPolygon\", \"coordinates\": [[[[41...   \n",
       "1  {\"type\": \"MultiPolygon\", \"coordinates\": [[[[41...   \n",
       "2  {\"type\": \"MultiPolygon\", \"coordinates\": [[[[38...   \n",
       "3  {\"type\": \"Polygon\", \"coordinates\": [[[41.29777...   \n",
       "4  {\"type\": \"Polygon\", \"coordinates\": [[[41.29777...   \n",
       "5  {\"type\": \"MultiPolygon\", \"coordinates\": [[[[50...   \n",
       "6  {\"type\": \"MultiPolygon\", \"coordinates\": [[[[41...   \n",
       "7  {\"type\": \"Polygon\", \"coordinates\": [[[39.11323...   \n",
       "8  {\"type\": \"Polygon\", \"coordinates\": [[[39.11323...   \n",
       "9  {\"type\": \"Polygon\", \"coordinates\": [[[39.11323...   \n",
       "\n",
       "                  geo_point_2d  \n",
       "0   21.628962766,41.2636898334  \n",
       "1   21.628962766,41.2636898334  \n",
       "2   24.927534539,39.4918237173  \n",
       "3  26.1967063704,43.3429998455  \n",
       "4  26.1967063704,43.3429998455  \n",
       "5  23.2883307307,50.1478302439  \n",
       "6   19.1387847401,42.941470036  \n",
       "7   27.400845724,41.4406960508  \n",
       "8   27.400845724,41.4406960508  \n",
       "9   27.400845724,41.4406960508  "
      ]
     },
     "execution_count": 136,
     "metadata": {},
     "output_type": "execute_result"
    }
   ],
   "source": [
    "traffic_accidents_2018_2019.head(10)"
   ]
  },
  {
   "cell_type": "markdown",
   "metadata": {},
   "source": [
    "Display the data types of each feature"
   ]
  },
  {
   "cell_type": "code",
   "execution_count": 137,
   "metadata": {},
   "outputs": [
    {
     "data": {
      "text/plain": [
       "Year                           int64\n",
       "Administritive Area           object\n",
       "Number of Driving Licenses     int64\n",
       "geo_shape                     object\n",
       "geo_point_2d                  object\n",
       "dtype: object"
      ]
     },
     "execution_count": 137,
     "metadata": {},
     "output_type": "execute_result"
    }
   ],
   "source": [
    "driving_licenses_2018_2019.dtypes"
   ]
  },
  {
   "cell_type": "code",
   "execution_count": 138,
   "metadata": {
    "scrolled": false
   },
   "outputs": [
    {
     "data": {
      "text/plain": [
       "Year             int64\n",
       "Region          object\n",
       "Indicator       object\n",
       "Value            int64\n",
       "geo_shape       object\n",
       "geo_point_2d    object\n",
       "dtype: object"
      ]
     },
     "execution_count": 138,
     "metadata": {},
     "output_type": "execute_result"
    }
   ],
   "source": [
    "traffic_accidents_2018_2019.dtypes"
   ]
  },
  {
   "cell_type": "markdown",
   "metadata": {},
   "source": [
    "Investigate missing values "
   ]
  },
  {
   "cell_type": "code",
   "execution_count": 139,
   "metadata": {
    "scrolled": true
   },
   "outputs": [
    {
     "data": {
      "text/plain": [
       "Year                          0\n",
       "Administritive Area           0\n",
       "Number of Driving Licenses    0\n",
       "geo_shape                     1\n",
       "geo_point_2d                  1\n",
       "dtype: int64"
      ]
     },
     "execution_count": 139,
     "metadata": {},
     "output_type": "execute_result"
    }
   ],
   "source": [
    "driving_licenses_2018_2019.isna().sum()"
   ]
  },
  {
   "cell_type": "code",
   "execution_count": 140,
   "metadata": {
    "scrolled": true
   },
   "outputs": [
    {
     "data": {
      "text/plain": [
       "Year            0\n",
       "Region          0\n",
       "Indicator       0\n",
       "Value           0\n",
       "geo_shape       6\n",
       "geo_point_2d    6\n",
       "dtype: int64"
      ]
     },
     "execution_count": 140,
     "metadata": {},
     "output_type": "execute_result"
    }
   ],
   "source": [
    "traffic_accidents_2018_2019.isna().sum()"
   ]
  },
  {
   "cell_type": "markdown",
   "metadata": {},
   "source": [
    "In my research, this is not affected by geography or geographic point so I'm going to delete these two columns"
   ]
  },
  {
   "cell_type": "code",
   "execution_count": 141,
   "metadata": {},
   "outputs": [],
   "source": [
    "driving_licenses_2018_2019=driving_licenses_2018_2019.drop(columns=['geo_shape','geo_point_2d'], axis=1)"
   ]
  },
  {
   "cell_type": "code",
   "execution_count": 142,
   "metadata": {},
   "outputs": [],
   "source": [
    "traffic_accidents_2018_2019=traffic_accidents_2018_2019.drop(columns=['geo_shape','geo_point_2d'], axis=1)"
   ]
  },
  {
   "cell_type": "code",
   "execution_count": 143,
   "metadata": {},
   "outputs": [
    {
     "data": {
      "text/html": [
       "<div>\n",
       "<style scoped>\n",
       "    .dataframe tbody tr th:only-of-type {\n",
       "        vertical-align: middle;\n",
       "    }\n",
       "\n",
       "    .dataframe tbody tr th {\n",
       "        vertical-align: top;\n",
       "    }\n",
       "\n",
       "    .dataframe thead th {\n",
       "        text-align: right;\n",
       "    }\n",
       "</style>\n",
       "<table border=\"1\" class=\"dataframe\">\n",
       "  <thead>\n",
       "    <tr style=\"text-align: right;\">\n",
       "      <th></th>\n",
       "      <th>Year</th>\n",
       "      <th>Administritive Area</th>\n",
       "      <th>Number of Driving Licenses</th>\n",
       "    </tr>\n",
       "  </thead>\n",
       "  <tbody>\n",
       "    <tr>\n",
       "      <th>0</th>\n",
       "      <td>2018</td>\n",
       "      <td>Riyadh</td>\n",
       "      <td>493224</td>\n",
       "    </tr>\n",
       "    <tr>\n",
       "      <th>1</th>\n",
       "      <td>2018</td>\n",
       "      <td>Al-Qaseem</td>\n",
       "      <td>4457</td>\n",
       "    </tr>\n",
       "    <tr>\n",
       "      <th>2</th>\n",
       "      <td>2018</td>\n",
       "      <td>Hail</td>\n",
       "      <td>39575</td>\n",
       "    </tr>\n",
       "    <tr>\n",
       "      <th>3</th>\n",
       "      <td>2018</td>\n",
       "      <td>Northern Boarder</td>\n",
       "      <td>3661</td>\n",
       "    </tr>\n",
       "    <tr>\n",
       "      <th>4</th>\n",
       "      <td>2018</td>\n",
       "      <td>Najran</td>\n",
       "      <td>7431</td>\n",
       "    </tr>\n",
       "    <tr>\n",
       "      <th>5</th>\n",
       "      <td>2018</td>\n",
       "      <td>Makkah</td>\n",
       "      <td>144873</td>\n",
       "    </tr>\n",
       "    <tr>\n",
       "      <th>6</th>\n",
       "      <td>2018</td>\n",
       "      <td>Jazan</td>\n",
       "      <td>12265</td>\n",
       "    </tr>\n",
       "    <tr>\n",
       "      <th>7</th>\n",
       "      <td>2018</td>\n",
       "      <td>Madinah</td>\n",
       "      <td>23335</td>\n",
       "    </tr>\n",
       "    <tr>\n",
       "      <th>8</th>\n",
       "      <td>2018</td>\n",
       "      <td>Assir</td>\n",
       "      <td>22362</td>\n",
       "    </tr>\n",
       "    <tr>\n",
       "      <th>9</th>\n",
       "      <td>2018</td>\n",
       "      <td>Al-Jouf</td>\n",
       "      <td>6834</td>\n",
       "    </tr>\n",
       "    <tr>\n",
       "      <th>10</th>\n",
       "      <td>2018</td>\n",
       "      <td>Eastern</td>\n",
       "      <td>131639</td>\n",
       "    </tr>\n",
       "    <tr>\n",
       "      <th>11</th>\n",
       "      <td>2018</td>\n",
       "      <td>Tabouk</td>\n",
       "      <td>7613</td>\n",
       "    </tr>\n",
       "    <tr>\n",
       "      <th>12</th>\n",
       "      <td>2018</td>\n",
       "      <td>Al-Baha</td>\n",
       "      <td>2575</td>\n",
       "    </tr>\n",
       "    <tr>\n",
       "      <th>13</th>\n",
       "      <td>2018</td>\n",
       "      <td>Total</td>\n",
       "      <td>899844</td>\n",
       "    </tr>\n",
       "  </tbody>\n",
       "</table>\n",
       "</div>"
      ],
      "text/plain": [
       "    Year Administritive Area  Number of Driving Licenses\n",
       "0   2018              Riyadh                      493224\n",
       "1   2018           Al-Qaseem                        4457\n",
       "2   2018                Hail                       39575\n",
       "3   2018    Northern Boarder                        3661\n",
       "4   2018              Najran                        7431\n",
       "5   2018              Makkah                      144873\n",
       "6   2018               Jazan                       12265\n",
       "7   2018             Madinah                       23335\n",
       "8   2018               Assir                       22362\n",
       "9   2018             Al-Jouf                        6834\n",
       "10  2018             Eastern                      131639\n",
       "11  2018              Tabouk                        7613\n",
       "12  2018             Al-Baha                        2575\n",
       "13  2018               Total                      899844"
      ]
     },
     "execution_count": 143,
     "metadata": {},
     "output_type": "execute_result"
    }
   ],
   "source": [
    "driving_licenses_2018_2019"
   ]
  },
  {
   "cell_type": "code",
   "execution_count": 144,
   "metadata": {},
   "outputs": [
    {
     "data": {
      "text/html": [
       "<div>\n",
       "<style scoped>\n",
       "    .dataframe tbody tr th:only-of-type {\n",
       "        vertical-align: middle;\n",
       "    }\n",
       "\n",
       "    .dataframe tbody tr th {\n",
       "        vertical-align: top;\n",
       "    }\n",
       "\n",
       "    .dataframe thead th {\n",
       "        text-align: right;\n",
       "    }\n",
       "</style>\n",
       "<table border=\"1\" class=\"dataframe\">\n",
       "  <thead>\n",
       "    <tr style=\"text-align: right;\">\n",
       "      <th></th>\n",
       "      <th>Year</th>\n",
       "      <th>Region</th>\n",
       "      <th>Indicator</th>\n",
       "      <th>Value</th>\n",
       "    </tr>\n",
       "  </thead>\n",
       "  <tbody>\n",
       "    <tr>\n",
       "      <th>0</th>\n",
       "      <td>2018</td>\n",
       "      <td>Makkah</td>\n",
       "      <td>No. of Casualties - Dead</td>\n",
       "      <td>1301</td>\n",
       "    </tr>\n",
       "    <tr>\n",
       "      <th>1</th>\n",
       "      <td>2018</td>\n",
       "      <td>Makkah</td>\n",
       "      <td>No. of Casualties - Injured</td>\n",
       "      <td>9931</td>\n",
       "    </tr>\n",
       "    <tr>\n",
       "      <th>2</th>\n",
       "      <td>2018</td>\n",
       "      <td>Madinah</td>\n",
       "      <td>No. of Accidents</td>\n",
       "      <td>20547</td>\n",
       "    </tr>\n",
       "    <tr>\n",
       "      <th>3</th>\n",
       "      <td>2018</td>\n",
       "      <td>Qassim</td>\n",
       "      <td>No. of Accidents</td>\n",
       "      <td>17510</td>\n",
       "    </tr>\n",
       "    <tr>\n",
       "      <th>4</th>\n",
       "      <td>2018</td>\n",
       "      <td>Qassim</td>\n",
       "      <td>No. of Casualties - Injured</td>\n",
       "      <td>1269</td>\n",
       "    </tr>\n",
       "    <tr>\n",
       "      <th>...</th>\n",
       "      <td>...</td>\n",
       "      <td>...</td>\n",
       "      <td>...</td>\n",
       "      <td>...</td>\n",
       "    </tr>\n",
       "    <tr>\n",
       "      <th>79</th>\n",
       "      <td>2019</td>\n",
       "      <td>Madinah</td>\n",
       "      <td>No. of Accidents</td>\n",
       "      <td>21689</td>\n",
       "    </tr>\n",
       "    <tr>\n",
       "      <th>80</th>\n",
       "      <td>2019</td>\n",
       "      <td>Eastern Region</td>\n",
       "      <td>No. of Casualties - Dead</td>\n",
       "      <td>688</td>\n",
       "    </tr>\n",
       "    <tr>\n",
       "      <th>81</th>\n",
       "      <td>2019</td>\n",
       "      <td>Eastern Region</td>\n",
       "      <td>No. of Accidents</td>\n",
       "      <td>21235</td>\n",
       "    </tr>\n",
       "    <tr>\n",
       "      <th>82</th>\n",
       "      <td>2019</td>\n",
       "      <td>Eastern Region</td>\n",
       "      <td>No. of Casualties - Injured</td>\n",
       "      <td>3021</td>\n",
       "    </tr>\n",
       "    <tr>\n",
       "      <th>83</th>\n",
       "      <td>2019</td>\n",
       "      <td>Tabouk</td>\n",
       "      <td>No. of Casualties - Dead</td>\n",
       "      <td>228</td>\n",
       "    </tr>\n",
       "  </tbody>\n",
       "</table>\n",
       "<p>84 rows × 4 columns</p>\n",
       "</div>"
      ],
      "text/plain": [
       "    Year          Region                    Indicator  Value\n",
       "0   2018          Makkah     No. of Casualties - Dead   1301\n",
       "1   2018          Makkah  No. of Casualties - Injured   9931\n",
       "2   2018         Madinah             No. of Accidents  20547\n",
       "3   2018          Qassim             No. of Accidents  17510\n",
       "4   2018          Qassim  No. of Casualties - Injured   1269\n",
       "..   ...             ...                          ...    ...\n",
       "79  2019         Madinah             No. of Accidents  21689\n",
       "80  2019  Eastern Region     No. of Casualties - Dead    688\n",
       "81  2019  Eastern Region             No. of Accidents  21235\n",
       "82  2019  Eastern Region  No. of Casualties - Injured   3021\n",
       "83  2019          Tabouk     No. of Casualties - Dead    228\n",
       "\n",
       "[84 rows x 4 columns]"
      ]
     },
     "execution_count": 144,
     "metadata": {},
     "output_type": "execute_result"
    }
   ],
   "source": [
    "traffic_accidents_2018_2019"
   ]
  },
  {
   "cell_type": "markdown",
   "metadata": {},
   "source": [
    "check if there is rows are not associated with regions"
   ]
  },
  {
   "cell_type": "code",
   "execution_count": 145,
   "metadata": {},
   "outputs": [
    {
     "data": {
      "text/plain": [
       "array(['Makkah', 'Madinah', 'Qassim', 'Eastern Region', 'Asir', 'Hail',\n",
       "       'Northern Borders', 'Jazan', 'Najran', 'Al-Jouf', 'Total',\n",
       "       'Riyadh', 'Tabouk', 'Al-Baha'], dtype=object)"
      ]
     },
     "execution_count": 145,
     "metadata": {},
     "output_type": "execute_result"
    }
   ],
   "source": [
    "traffic_accidents_2018_2019['Region'].unique()"
   ]
  },
  {
   "cell_type": "code",
   "execution_count": 146,
   "metadata": {
    "scrolled": true
   },
   "outputs": [
    {
     "data": {
      "text/plain": [
       "array(['Riyadh', 'Al-Qaseem', 'Hail', 'Northern Boarder', 'Najran',\n",
       "       'Makkah', 'Jazan', 'Madinah', 'Assir', 'Al-Jouf', 'Eastern',\n",
       "       'Tabouk', 'Al-Baha', 'Total'], dtype=object)"
      ]
     },
     "execution_count": 146,
     "metadata": {},
     "output_type": "execute_result"
    }
   ],
   "source": [
    "driving_licenses_2018_2019['Administritive Area'].unique()"
   ]
  },
  {
   "cell_type": "markdown",
   "metadata": {},
   "source": [
    "Total  is sum of traffic accidents for all regions."
   ]
  },
  {
   "cell_type": "code",
   "execution_count": 147,
   "metadata": {},
   "outputs": [
    {
     "data": {
      "text/html": [
       "<div>\n",
       "<style scoped>\n",
       "    .dataframe tbody tr th:only-of-type {\n",
       "        vertical-align: middle;\n",
       "    }\n",
       "\n",
       "    .dataframe tbody tr th {\n",
       "        vertical-align: top;\n",
       "    }\n",
       "\n",
       "    .dataframe thead th {\n",
       "        text-align: right;\n",
       "    }\n",
       "</style>\n",
       "<table border=\"1\" class=\"dataframe\">\n",
       "  <thead>\n",
       "    <tr style=\"text-align: right;\">\n",
       "      <th>Year</th>\n",
       "      <th>Administritive Area</th>\n",
       "      <th>2018</th>\n",
       "    </tr>\n",
       "  </thead>\n",
       "  <tbody>\n",
       "    <tr>\n",
       "      <th>0</th>\n",
       "      <td>Al-Baha</td>\n",
       "      <td>2575</td>\n",
       "    </tr>\n",
       "    <tr>\n",
       "      <th>1</th>\n",
       "      <td>Al-Jouf</td>\n",
       "      <td>6834</td>\n",
       "    </tr>\n",
       "    <tr>\n",
       "      <th>2</th>\n",
       "      <td>Al-Qaseem</td>\n",
       "      <td>4457</td>\n",
       "    </tr>\n",
       "    <tr>\n",
       "      <th>3</th>\n",
       "      <td>Assir</td>\n",
       "      <td>22362</td>\n",
       "    </tr>\n",
       "    <tr>\n",
       "      <th>4</th>\n",
       "      <td>Eastern</td>\n",
       "      <td>131639</td>\n",
       "    </tr>\n",
       "    <tr>\n",
       "      <th>5</th>\n",
       "      <td>Hail</td>\n",
       "      <td>39575</td>\n",
       "    </tr>\n",
       "    <tr>\n",
       "      <th>6</th>\n",
       "      <td>Jazan</td>\n",
       "      <td>12265</td>\n",
       "    </tr>\n",
       "    <tr>\n",
       "      <th>7</th>\n",
       "      <td>Madinah</td>\n",
       "      <td>23335</td>\n",
       "    </tr>\n",
       "    <tr>\n",
       "      <th>8</th>\n",
       "      <td>Makkah</td>\n",
       "      <td>144873</td>\n",
       "    </tr>\n",
       "    <tr>\n",
       "      <th>9</th>\n",
       "      <td>Najran</td>\n",
       "      <td>7431</td>\n",
       "    </tr>\n",
       "    <tr>\n",
       "      <th>10</th>\n",
       "      <td>Northern Boarder</td>\n",
       "      <td>3661</td>\n",
       "    </tr>\n",
       "    <tr>\n",
       "      <th>11</th>\n",
       "      <td>Riyadh</td>\n",
       "      <td>493224</td>\n",
       "    </tr>\n",
       "    <tr>\n",
       "      <th>12</th>\n",
       "      <td>Tabouk</td>\n",
       "      <td>7613</td>\n",
       "    </tr>\n",
       "    <tr>\n",
       "      <th>13</th>\n",
       "      <td>Total</td>\n",
       "      <td>899844</td>\n",
       "    </tr>\n",
       "  </tbody>\n",
       "</table>\n",
       "</div>"
      ],
      "text/plain": [
       "Year Administritive Area    2018\n",
       "0                Al-Baha    2575\n",
       "1                Al-Jouf    6834\n",
       "2              Al-Qaseem    4457\n",
       "3                  Assir   22362\n",
       "4                Eastern  131639\n",
       "5                   Hail   39575\n",
       "6                  Jazan   12265\n",
       "7                Madinah   23335\n",
       "8                 Makkah  144873\n",
       "9                 Najran    7431\n",
       "10      Northern Boarder    3661\n",
       "11                Riyadh  493224\n",
       "12                Tabouk    7613\n",
       "13                 Total  899844"
      ]
     },
     "execution_count": 147,
     "metadata": {},
     "output_type": "execute_result"
    }
   ],
   "source": [
    "driving_licenses_back_to_wide=driving_licenses_2018_2019.pivot(index='Administritive Area',columns=\"Year\",values='Number of Driving Licenses').reset_index()\n",
    "driving_licenses_back_to_wide"
   ]
  },
  {
   "cell_type": "code",
   "execution_count": 148,
   "metadata": {},
   "outputs": [
    {
     "data": {
      "text/plain": [
       "Index(['Year', 'Region', 'Indicator', 'Value'], dtype='object')"
      ]
     },
     "execution_count": 148,
     "metadata": {},
     "output_type": "execute_result"
    }
   ],
   "source": [
    "traffic_accidents_2018_2019.columns"
   ]
  },
  {
   "cell_type": "code",
   "execution_count": 149,
   "metadata": {},
   "outputs": [
    {
     "data": {
      "text/html": [
       "<div>\n",
       "<style scoped>\n",
       "    .dataframe tbody tr th:only-of-type {\n",
       "        vertical-align: middle;\n",
       "    }\n",
       "\n",
       "    .dataframe tbody tr th {\n",
       "        vertical-align: top;\n",
       "    }\n",
       "\n",
       "    .dataframe thead th {\n",
       "        text-align: right;\n",
       "    }\n",
       "</style>\n",
       "<table border=\"1\" class=\"dataframe\">\n",
       "  <thead>\n",
       "    <tr style=\"text-align: right;\">\n",
       "      <th>Indicator</th>\n",
       "      <th>Year</th>\n",
       "      <th>Region</th>\n",
       "      <th>No. of Accidents</th>\n",
       "      <th>No. of Casualties - Dead</th>\n",
       "      <th>No. of Casualties - Injured</th>\n",
       "    </tr>\n",
       "  </thead>\n",
       "  <tbody>\n",
       "    <tr>\n",
       "      <th>0</th>\n",
       "      <td>2018</td>\n",
       "      <td>Al-Baha</td>\n",
       "      <td>1764</td>\n",
       "      <td>111</td>\n",
       "      <td>935</td>\n",
       "    </tr>\n",
       "    <tr>\n",
       "      <th>1</th>\n",
       "      <td>2018</td>\n",
       "      <td>Al-Jouf</td>\n",
       "      <td>7355</td>\n",
       "      <td>157</td>\n",
       "      <td>618</td>\n",
       "    </tr>\n",
       "    <tr>\n",
       "      <th>2</th>\n",
       "      <td>2018</td>\n",
       "      <td>Asir</td>\n",
       "      <td>25964</td>\n",
       "      <td>696</td>\n",
       "      <td>2192</td>\n",
       "    </tr>\n",
       "    <tr>\n",
       "      <th>3</th>\n",
       "      <td>2018</td>\n",
       "      <td>Eastern Region</td>\n",
       "      <td>45077</td>\n",
       "      <td>661</td>\n",
       "      <td>2969</td>\n",
       "    </tr>\n",
       "    <tr>\n",
       "      <th>4</th>\n",
       "      <td>2018</td>\n",
       "      <td>Hail</td>\n",
       "      <td>6955</td>\n",
       "      <td>193</td>\n",
       "      <td>912</td>\n",
       "    </tr>\n",
       "    <tr>\n",
       "      <th>5</th>\n",
       "      <td>2018</td>\n",
       "      <td>Jazan</td>\n",
       "      <td>19572</td>\n",
       "      <td>563</td>\n",
       "      <td>2112</td>\n",
       "    </tr>\n",
       "    <tr>\n",
       "      <th>6</th>\n",
       "      <td>2018</td>\n",
       "      <td>Madinah</td>\n",
       "      <td>20547</td>\n",
       "      <td>483</td>\n",
       "      <td>2666</td>\n",
       "    </tr>\n",
       "    <tr>\n",
       "      <th>7</th>\n",
       "      <td>2018</td>\n",
       "      <td>Makkah</td>\n",
       "      <td>103973</td>\n",
       "      <td>1301</td>\n",
       "      <td>9931</td>\n",
       "    </tr>\n",
       "    <tr>\n",
       "      <th>8</th>\n",
       "      <td>2018</td>\n",
       "      <td>Najran</td>\n",
       "      <td>3124</td>\n",
       "      <td>176</td>\n",
       "      <td>654</td>\n",
       "    </tr>\n",
       "    <tr>\n",
       "      <th>9</th>\n",
       "      <td>2018</td>\n",
       "      <td>Northern Borders</td>\n",
       "      <td>10705</td>\n",
       "      <td>75</td>\n",
       "      <td>428</td>\n",
       "    </tr>\n",
       "    <tr>\n",
       "      <th>10</th>\n",
       "      <td>2018</td>\n",
       "      <td>Qassim</td>\n",
       "      <td>17510</td>\n",
       "      <td>225</td>\n",
       "      <td>1269</td>\n",
       "    </tr>\n",
       "    <tr>\n",
       "      <th>11</th>\n",
       "      <td>2018</td>\n",
       "      <td>Riyadh</td>\n",
       "      <td>79884</td>\n",
       "      <td>1091</td>\n",
       "      <td>4554</td>\n",
       "    </tr>\n",
       "    <tr>\n",
       "      <th>12</th>\n",
       "      <td>2018</td>\n",
       "      <td>Tabouk</td>\n",
       "      <td>10034</td>\n",
       "      <td>293</td>\n",
       "      <td>977</td>\n",
       "    </tr>\n",
       "    <tr>\n",
       "      <th>13</th>\n",
       "      <td>2018</td>\n",
       "      <td>Total</td>\n",
       "      <td>352464</td>\n",
       "      <td>6025</td>\n",
       "      <td>30217</td>\n",
       "    </tr>\n",
       "    <tr>\n",
       "      <th>14</th>\n",
       "      <td>2019</td>\n",
       "      <td>Al-Baha</td>\n",
       "      <td>1644</td>\n",
       "      <td>122</td>\n",
       "      <td>979</td>\n",
       "    </tr>\n",
       "    <tr>\n",
       "      <th>15</th>\n",
       "      <td>2019</td>\n",
       "      <td>Al-Jouf</td>\n",
       "      <td>8487</td>\n",
       "      <td>149</td>\n",
       "      <td>681</td>\n",
       "    </tr>\n",
       "    <tr>\n",
       "      <th>16</th>\n",
       "      <td>2019</td>\n",
       "      <td>Asir</td>\n",
       "      <td>25342</td>\n",
       "      <td>603</td>\n",
       "      <td>1854</td>\n",
       "    </tr>\n",
       "    <tr>\n",
       "      <th>17</th>\n",
       "      <td>2019</td>\n",
       "      <td>Eastern Region</td>\n",
       "      <td>21235</td>\n",
       "      <td>688</td>\n",
       "      <td>3021</td>\n",
       "    </tr>\n",
       "    <tr>\n",
       "      <th>18</th>\n",
       "      <td>2019</td>\n",
       "      <td>Hail</td>\n",
       "      <td>4784</td>\n",
       "      <td>168</td>\n",
       "      <td>853</td>\n",
       "    </tr>\n",
       "    <tr>\n",
       "      <th>19</th>\n",
       "      <td>2019</td>\n",
       "      <td>Jazan</td>\n",
       "      <td>20591</td>\n",
       "      <td>477</td>\n",
       "      <td>2148</td>\n",
       "    </tr>\n",
       "    <tr>\n",
       "      <th>20</th>\n",
       "      <td>2019</td>\n",
       "      <td>Madinah</td>\n",
       "      <td>21689</td>\n",
       "      <td>457</td>\n",
       "      <td>3526</td>\n",
       "    </tr>\n",
       "    <tr>\n",
       "      <th>21</th>\n",
       "      <td>2019</td>\n",
       "      <td>Makkah</td>\n",
       "      <td>73704</td>\n",
       "      <td>1259</td>\n",
       "      <td>11401</td>\n",
       "    </tr>\n",
       "    <tr>\n",
       "      <th>22</th>\n",
       "      <td>2019</td>\n",
       "      <td>Najran</td>\n",
       "      <td>1474</td>\n",
       "      <td>162</td>\n",
       "      <td>413</td>\n",
       "    </tr>\n",
       "    <tr>\n",
       "      <th>23</th>\n",
       "      <td>2019</td>\n",
       "      <td>Northern Borders</td>\n",
       "      <td>5406</td>\n",
       "      <td>131</td>\n",
       "      <td>494</td>\n",
       "    </tr>\n",
       "    <tr>\n",
       "      <th>24</th>\n",
       "      <td>2019</td>\n",
       "      <td>Qassim</td>\n",
       "      <td>16862</td>\n",
       "      <td>284</td>\n",
       "      <td>1196</td>\n",
       "    </tr>\n",
       "    <tr>\n",
       "      <th>25</th>\n",
       "      <td>2019</td>\n",
       "      <td>Riyadh</td>\n",
       "      <td>79474</td>\n",
       "      <td>1026</td>\n",
       "      <td>5412</td>\n",
       "    </tr>\n",
       "    <tr>\n",
       "      <th>26</th>\n",
       "      <td>2019</td>\n",
       "      <td>Tabouk</td>\n",
       "      <td>7089</td>\n",
       "      <td>228</td>\n",
       "      <td>932</td>\n",
       "    </tr>\n",
       "    <tr>\n",
       "      <th>27</th>\n",
       "      <td>2019</td>\n",
       "      <td>Total</td>\n",
       "      <td>287781</td>\n",
       "      <td>5754</td>\n",
       "      <td>32910</td>\n",
       "    </tr>\n",
       "  </tbody>\n",
       "</table>\n",
       "</div>"
      ],
      "text/plain": [
       "Indicator  Year            Region  No. of Accidents  No. of Casualties - Dead  \\\n",
       "0          2018           Al-Baha              1764                       111   \n",
       "1          2018           Al-Jouf              7355                       157   \n",
       "2          2018              Asir             25964                       696   \n",
       "3          2018    Eastern Region             45077                       661   \n",
       "4          2018              Hail              6955                       193   \n",
       "5          2018             Jazan             19572                       563   \n",
       "6          2018           Madinah             20547                       483   \n",
       "7          2018            Makkah            103973                      1301   \n",
       "8          2018            Najran              3124                       176   \n",
       "9          2018  Northern Borders             10705                        75   \n",
       "10         2018            Qassim             17510                       225   \n",
       "11         2018            Riyadh             79884                      1091   \n",
       "12         2018            Tabouk             10034                       293   \n",
       "13         2018             Total            352464                      6025   \n",
       "14         2019           Al-Baha              1644                       122   \n",
       "15         2019           Al-Jouf              8487                       149   \n",
       "16         2019              Asir             25342                       603   \n",
       "17         2019    Eastern Region             21235                       688   \n",
       "18         2019              Hail              4784                       168   \n",
       "19         2019             Jazan             20591                       477   \n",
       "20         2019           Madinah             21689                       457   \n",
       "21         2019            Makkah             73704                      1259   \n",
       "22         2019            Najran              1474                       162   \n",
       "23         2019  Northern Borders              5406                       131   \n",
       "24         2019            Qassim             16862                       284   \n",
       "25         2019            Riyadh             79474                      1026   \n",
       "26         2019            Tabouk              7089                       228   \n",
       "27         2019             Total            287781                      5754   \n",
       "\n",
       "Indicator  No. of Casualties - Injured  \n",
       "0                                  935  \n",
       "1                                  618  \n",
       "2                                 2192  \n",
       "3                                 2969  \n",
       "4                                  912  \n",
       "5                                 2112  \n",
       "6                                 2666  \n",
       "7                                 9931  \n",
       "8                                  654  \n",
       "9                                  428  \n",
       "10                                1269  \n",
       "11                                4554  \n",
       "12                                 977  \n",
       "13                               30217  \n",
       "14                                 979  \n",
       "15                                 681  \n",
       "16                                1854  \n",
       "17                                3021  \n",
       "18                                 853  \n",
       "19                                2148  \n",
       "20                                3526  \n",
       "21                               11401  \n",
       "22                                 413  \n",
       "23                                 494  \n",
       "24                                1196  \n",
       "25                                5412  \n",
       "26                                 932  \n",
       "27                               32910  "
      ]
     },
     "execution_count": 149,
     "metadata": {},
     "output_type": "execute_result"
    }
   ],
   "source": [
    "traffic_accidents_back_to_wide=traffic_accidents_2018_2019.pivot_table(index=['Year', 'Region'],\n",
    "                                     columns=['Indicator'],values='Value').reset_index()\n",
    "traffic_accidents_back_to_wide\n"
   ]
  },
  {
   "cell_type": "markdown",
   "metadata": {},
   "source": [
    " Drop unnecessary rows"
   ]
  },
  {
   "cell_type": "code",
   "execution_count": 150,
   "metadata": {},
   "outputs": [],
   "source": [
    "unnecessaryـrows = traffic_accidents_2018_2019[((traffic_accidents_2018_2019.Region == 'Total'))].index"
   ]
  },
  {
   "cell_type": "code",
   "execution_count": 151,
   "metadata": {},
   "outputs": [],
   "source": [
    "df_traffic_accidents=traffic_accidents_2018_2019.drop(unnecessaryـrows)"
   ]
  },
  {
   "cell_type": "code",
   "execution_count": 152,
   "metadata": {},
   "outputs": [],
   "source": [
    "unnecessaryـrows = driving_licenses_2018_2019[((driving_licenses_2018_2019['Administritive Area'] == 'Total'))].index"
   ]
  },
  {
   "cell_type": "code",
   "execution_count": 153,
   "metadata": {},
   "outputs": [],
   "source": [
    "df_driving_licenses=driving_licenses_2018_2019.drop(unnecessaryـrows)"
   ]
  },
  {
   "cell_type": "markdown",
   "metadata": {},
   "source": [
    "Change the format of the traffic_accidents_2018_2019 dataset to wide format so that it is clearer to read"
   ]
  },
  {
   "cell_type": "code",
   "execution_count": 154,
   "metadata": {},
   "outputs": [
    {
     "data": {
      "text/html": [
       "<div>\n",
       "<style scoped>\n",
       "    .dataframe tbody tr th:only-of-type {\n",
       "        vertical-align: middle;\n",
       "    }\n",
       "\n",
       "    .dataframe tbody tr th {\n",
       "        vertical-align: top;\n",
       "    }\n",
       "\n",
       "    .dataframe thead th {\n",
       "        text-align: right;\n",
       "    }\n",
       "</style>\n",
       "<table border=\"1\" class=\"dataframe\">\n",
       "  <thead>\n",
       "    <tr style=\"text-align: right;\">\n",
       "      <th>Indicator</th>\n",
       "      <th>Year</th>\n",
       "      <th>Region</th>\n",
       "      <th>No. of Accidents</th>\n",
       "      <th>No. of Casualties - Dead</th>\n",
       "      <th>No. of Casualties - Injured</th>\n",
       "    </tr>\n",
       "  </thead>\n",
       "  <tbody>\n",
       "    <tr>\n",
       "      <th>0</th>\n",
       "      <td>2018</td>\n",
       "      <td>Al-Baha</td>\n",
       "      <td>1764</td>\n",
       "      <td>111</td>\n",
       "      <td>935</td>\n",
       "    </tr>\n",
       "    <tr>\n",
       "      <th>1</th>\n",
       "      <td>2018</td>\n",
       "      <td>Al-Jouf</td>\n",
       "      <td>7355</td>\n",
       "      <td>157</td>\n",
       "      <td>618</td>\n",
       "    </tr>\n",
       "  </tbody>\n",
       "</table>\n",
       "</div>"
      ],
      "text/plain": [
       "Indicator  Year   Region  No. of Accidents  No. of Casualties - Dead  \\\n",
       "0          2018  Al-Baha              1764                       111   \n",
       "1          2018  Al-Jouf              7355                       157   \n",
       "\n",
       "Indicator  No. of Casualties - Injured  \n",
       "0                                  935  \n",
       "1                                  618  "
      ]
     },
     "execution_count": 154,
     "metadata": {},
     "output_type": "execute_result"
    }
   ],
   "source": [
    "df_traffic_accidents2018_2019=df_traffic_accidents.pivot_table(index=['Year', 'Region'],\n",
    "                                     columns=['Indicator'],values='Value').reset_index()\n",
    "df_traffic_accidents2018_2019.head(2)"
   ]
  },
  {
   "cell_type": "markdown",
   "metadata": {},
   "source": [
    "provide quick summary statistics of our numeric columns."
   ]
  },
  {
   "cell_type": "code",
   "execution_count": 155,
   "metadata": {},
   "outputs": [
    {
     "data": {
      "text/html": [
       "<div>\n",
       "<style scoped>\n",
       "    .dataframe tbody tr th:only-of-type {\n",
       "        vertical-align: middle;\n",
       "    }\n",
       "\n",
       "    .dataframe tbody tr th {\n",
       "        vertical-align: top;\n",
       "    }\n",
       "\n",
       "    .dataframe thead th {\n",
       "        text-align: right;\n",
       "    }\n",
       "</style>\n",
       "<table border=\"1\" class=\"dataframe\">\n",
       "  <thead>\n",
       "    <tr style=\"text-align: right;\">\n",
       "      <th>Indicator</th>\n",
       "      <th>Year</th>\n",
       "      <th>No. of Accidents</th>\n",
       "      <th>No. of Casualties - Dead</th>\n",
       "      <th>No. of Casualties - Injured</th>\n",
       "    </tr>\n",
       "  </thead>\n",
       "  <tbody>\n",
       "    <tr>\n",
       "      <th>count</th>\n",
       "      <td>26.000000</td>\n",
       "      <td>26.000000</td>\n",
       "      <td>26.000000</td>\n",
       "      <td>26.000000</td>\n",
       "    </tr>\n",
       "    <tr>\n",
       "      <th>mean</th>\n",
       "      <td>2018.500000</td>\n",
       "      <td>24624.807692</td>\n",
       "      <td>453.038462</td>\n",
       "      <td>2427.961538</td>\n",
       "    </tr>\n",
       "    <tr>\n",
       "      <th>std</th>\n",
       "      <td>0.509902</td>\n",
       "      <td>28124.004499</td>\n",
       "      <td>369.749805</td>\n",
       "      <td>2758.925117</td>\n",
       "    </tr>\n",
       "    <tr>\n",
       "      <th>min</th>\n",
       "      <td>2018.000000</td>\n",
       "      <td>1474.000000</td>\n",
       "      <td>75.000000</td>\n",
       "      <td>413.000000</td>\n",
       "    </tr>\n",
       "    <tr>\n",
       "      <th>25%</th>\n",
       "      <td>2018.000000</td>\n",
       "      <td>6988.500000</td>\n",
       "      <td>163.500000</td>\n",
       "      <td>867.750000</td>\n",
       "    </tr>\n",
       "    <tr>\n",
       "      <th>50%</th>\n",
       "      <td>2018.500000</td>\n",
       "      <td>17186.000000</td>\n",
       "      <td>288.500000</td>\n",
       "      <td>1232.500000</td>\n",
       "    </tr>\n",
       "    <tr>\n",
       "      <th>75%</th>\n",
       "      <td>2019.000000</td>\n",
       "      <td>24428.750000</td>\n",
       "      <td>646.500000</td>\n",
       "      <td>2893.250000</td>\n",
       "    </tr>\n",
       "    <tr>\n",
       "      <th>max</th>\n",
       "      <td>2019.000000</td>\n",
       "      <td>103973.000000</td>\n",
       "      <td>1301.000000</td>\n",
       "      <td>11401.000000</td>\n",
       "    </tr>\n",
       "  </tbody>\n",
       "</table>\n",
       "</div>"
      ],
      "text/plain": [
       "Indicator         Year  No. of Accidents  No. of Casualties - Dead  \\\n",
       "count        26.000000         26.000000                 26.000000   \n",
       "mean       2018.500000      24624.807692                453.038462   \n",
       "std           0.509902      28124.004499                369.749805   \n",
       "min        2018.000000       1474.000000                 75.000000   \n",
       "25%        2018.000000       6988.500000                163.500000   \n",
       "50%        2018.500000      17186.000000                288.500000   \n",
       "75%        2019.000000      24428.750000                646.500000   \n",
       "max        2019.000000     103973.000000               1301.000000   \n",
       "\n",
       "Indicator  No. of Casualties - Injured  \n",
       "count                        26.000000  \n",
       "mean                       2427.961538  \n",
       "std                        2758.925117  \n",
       "min                         413.000000  \n",
       "25%                         867.750000  \n",
       "50%                        1232.500000  \n",
       "75%                        2893.250000  \n",
       "max                       11401.000000  "
      ]
     },
     "execution_count": 155,
     "metadata": {},
     "output_type": "execute_result"
    }
   ],
   "source": [
    "df_traffic_accidents2018_2019.describe()"
   ]
  },
  {
   "cell_type": "code",
   "execution_count": 156,
   "metadata": {},
   "outputs": [
    {
     "data": {
      "text/html": [
       "<div>\n",
       "<style scoped>\n",
       "    .dataframe tbody tr th:only-of-type {\n",
       "        vertical-align: middle;\n",
       "    }\n",
       "\n",
       "    .dataframe tbody tr th {\n",
       "        vertical-align: top;\n",
       "    }\n",
       "\n",
       "    .dataframe thead th {\n",
       "        text-align: right;\n",
       "    }\n",
       "</style>\n",
       "<table border=\"1\" class=\"dataframe\">\n",
       "  <thead>\n",
       "    <tr style=\"text-align: right;\">\n",
       "      <th></th>\n",
       "      <th>Year</th>\n",
       "      <th>Number of Driving Licenses</th>\n",
       "    </tr>\n",
       "  </thead>\n",
       "  <tbody>\n",
       "    <tr>\n",
       "      <th>count</th>\n",
       "      <td>13.0</td>\n",
       "      <td>13.000000</td>\n",
       "    </tr>\n",
       "    <tr>\n",
       "      <th>mean</th>\n",
       "      <td>2018.0</td>\n",
       "      <td>69218.769231</td>\n",
       "    </tr>\n",
       "    <tr>\n",
       "      <th>std</th>\n",
       "      <td>0.0</td>\n",
       "      <td>136094.882357</td>\n",
       "    </tr>\n",
       "    <tr>\n",
       "      <th>min</th>\n",
       "      <td>2018.0</td>\n",
       "      <td>2575.000000</td>\n",
       "    </tr>\n",
       "    <tr>\n",
       "      <th>25%</th>\n",
       "      <td>2018.0</td>\n",
       "      <td>6834.000000</td>\n",
       "    </tr>\n",
       "    <tr>\n",
       "      <th>50%</th>\n",
       "      <td>2018.0</td>\n",
       "      <td>12265.000000</td>\n",
       "    </tr>\n",
       "    <tr>\n",
       "      <th>75%</th>\n",
       "      <td>2018.0</td>\n",
       "      <td>39575.000000</td>\n",
       "    </tr>\n",
       "    <tr>\n",
       "      <th>max</th>\n",
       "      <td>2018.0</td>\n",
       "      <td>493224.000000</td>\n",
       "    </tr>\n",
       "  </tbody>\n",
       "</table>\n",
       "</div>"
      ],
      "text/plain": [
       "         Year  Number of Driving Licenses\n",
       "count    13.0                   13.000000\n",
       "mean   2018.0                69218.769231\n",
       "std       0.0               136094.882357\n",
       "min    2018.0                 2575.000000\n",
       "25%    2018.0                 6834.000000\n",
       "50%    2018.0                12265.000000\n",
       "75%    2018.0                39575.000000\n",
       "max    2018.0               493224.000000"
      ]
     },
     "execution_count": 156,
     "metadata": {},
     "output_type": "execute_result"
    }
   ],
   "source": [
    "df_driving_licenses.describe()"
   ]
  },
  {
   "cell_type": "markdown",
   "metadata": {},
   "source": [
    "Rename columns "
   ]
  },
  {
   "cell_type": "code",
   "execution_count": 157,
   "metadata": {
    "scrolled": false
   },
   "outputs": [
    {
     "data": {
      "text/plain": [
       "Index(['Year', 'Region', 'No. of Accidents', 'No. of Casualties - Dead',\n",
       "       'No. of Casualties - Injured'],\n",
       "      dtype='object', name='Indicator')"
      ]
     },
     "execution_count": 157,
     "metadata": {},
     "output_type": "execute_result"
    }
   ],
   "source": [
    "df_traffic_accidents2018_2019.columns"
   ]
  },
  {
   "cell_type": "code",
   "execution_count": 158,
   "metadata": {},
   "outputs": [
    {
     "data": {
      "text/plain": [
       "Index(['Year', 'Administritive Area', 'Number of Driving Licenses'], dtype='object')"
      ]
     },
     "execution_count": 158,
     "metadata": {},
     "output_type": "execute_result"
    }
   ],
   "source": [
    "df_driving_licenses.columns"
   ]
  },
  {
   "cell_type": "code",
   "execution_count": 159,
   "metadata": {
    "scrolled": true
   },
   "outputs": [],
   "source": [
    "new_traffic_accidents_col_names = ['traffic_year','traffic_region','traffic_accidents','traffic_dead',\n",
    "            'traffic_injured']\n",
    "df_traffic_accidents2018_2019.columns = new_traffic_accidents_col_names "
   ]
  },
  {
   "cell_type": "code",
   "execution_count": 160,
   "metadata": {},
   "outputs": [],
   "source": [
    "driving_licenses_2018_2019col_names = ['licenses_year','licenses_region','driving_licenses']\n",
    "df_driving_licenses.columns = driving_licenses_2018_2019col_names "
   ]
  },
  {
   "cell_type": "markdown",
   "metadata": {},
   "source": [
    "Transform the datasets to the same format before merging "
   ]
  },
  {
   "cell_type": "code",
   "execution_count": 161,
   "metadata": {
    "scrolled": true
   },
   "outputs": [
    {
     "data": {
      "text/plain": [
       "array(['Al-Baha', 'Al-Jouf', 'Asir', 'Eastern Region', 'Hail', 'Jazan',\n",
       "       'Madinah', 'Makkah', 'Najran', 'Northern Borders', 'Qassim',\n",
       "       'Riyadh', 'Tabouk'], dtype=object)"
      ]
     },
     "execution_count": 161,
     "metadata": {},
     "output_type": "execute_result"
    }
   ],
   "source": [
    "df_traffic_accidents2018_2019['traffic_region'].unique()"
   ]
  },
  {
   "cell_type": "code",
   "execution_count": 162,
   "metadata": {
    "scrolled": true
   },
   "outputs": [
    {
     "data": {
      "text/plain": [
       "array(['Riyadh', 'Al-Qaseem', 'Hail', 'Northern Boarder', 'Najran',\n",
       "       'Makkah', 'Jazan', 'Madinah', 'Assir', 'Al-Jouf', 'Eastern',\n",
       "       'Tabouk', 'Al-Baha'], dtype=object)"
      ]
     },
     "execution_count": 162,
     "metadata": {},
     "output_type": "execute_result"
    }
   ],
   "source": [
    "df_driving_licenses['licenses_region'].unique()"
   ]
  },
  {
   "cell_type": "code",
   "execution_count": 163,
   "metadata": {},
   "outputs": [],
   "source": [
    "region_name={'Makkah': 'Makkah', \n",
    "            'Eastern Region': 'Eastern',\n",
    "            'Tabouk': 'Tabouk',\n",
    "            'Hail': 'Hail',\n",
    "            'Northern Boarders':'Northern Boarder',\n",
    "            'Jazan': 'Jazan',\n",
    "            'Al-Jouf': 'Al-Jouf', \n",
    "            'Al-Baha': 'Al-Baha',\n",
    "            'Riyadh':'Riyadh',\n",
    "            'Madinah': 'Madinah',\n",
    "            'Qassim': 'Al-Qaseem',\n",
    "            'Najran': 'Najran',\n",
    "            'Asir': 'Assir'}"
   ]
  },
  {
   "cell_type": "code",
   "execution_count": 164,
   "metadata": {},
   "outputs": [],
   "source": [
    "df_traffic_accidents2018_2019['traffic_region']=df_traffic_accidents2018_2019['traffic_region'].map(region_name)"
   ]
  },
  {
   "cell_type": "code",
   "execution_count": 165,
   "metadata": {},
   "outputs": [
    {
     "data": {
      "text/plain": [
       "array(['Al-Baha', 'Al-Jouf', 'Assir', 'Eastern', 'Hail', 'Jazan',\n",
       "       'Madinah', 'Makkah', 'Najran', nan, 'Al-Qaseem', 'Riyadh',\n",
       "       'Tabouk'], dtype=object)"
      ]
     },
     "execution_count": 165,
     "metadata": {},
     "output_type": "execute_result"
    }
   ],
   "source": [
    "df_traffic_accidents2018_2019['traffic_region'].unique()"
   ]
  },
  {
   "cell_type": "code",
   "execution_count": 166,
   "metadata": {
    "scrolled": true
   },
   "outputs": [
    {
     "data": {
      "text/plain": [
       "array(['Riyadh', 'Al-Qaseem', 'Hail', 'Northern Boarder', 'Najran',\n",
       "       'Makkah', 'Jazan', 'Madinah', 'Assir', 'Al-Jouf', 'Eastern',\n",
       "       'Tabouk', 'Al-Baha'], dtype=object)"
      ]
     },
     "execution_count": 166,
     "metadata": {},
     "output_type": "execute_result"
    }
   ],
   "source": [
    "df_driving_licenses['licenses_region'].unique()"
   ]
  },
  {
   "cell_type": "code",
   "execution_count": 167,
   "metadata": {},
   "outputs": [
    {
     "data": {
      "text/plain": [
       "Index(['licenses_year', 'licenses_region', 'driving_licenses'], dtype='object')"
      ]
     },
     "execution_count": 167,
     "metadata": {},
     "output_type": "execute_result"
    }
   ],
   "source": [
    "df_driving_licenses.columns"
   ]
  },
  {
   "cell_type": "markdown",
   "metadata": {},
   "source": [
    "Merge dataframes\n",
    "Join the Driving Licenses & Traffic Accidents dataframes using the region and year in each dataframe as the key."
   ]
  },
  {
   "cell_type": "code",
   "execution_count": 168,
   "metadata": {},
   "outputs": [],
   "source": [
    "traffic_driving_2018_2019= df_driving_licenses.merge(df_traffic_accidents2018_2019, left_on=['licenses_region','licenses_year'], right_on=['traffic_region','traffic_year'])"
   ]
  },
  {
   "cell_type": "code",
   "execution_count": 169,
   "metadata": {
    "scrolled": true
   },
   "outputs": [
    {
     "data": {
      "text/html": [
       "<div>\n",
       "<style scoped>\n",
       "    .dataframe tbody tr th:only-of-type {\n",
       "        vertical-align: middle;\n",
       "    }\n",
       "\n",
       "    .dataframe tbody tr th {\n",
       "        vertical-align: top;\n",
       "    }\n",
       "\n",
       "    .dataframe thead th {\n",
       "        text-align: right;\n",
       "    }\n",
       "</style>\n",
       "<table border=\"1\" class=\"dataframe\">\n",
       "  <thead>\n",
       "    <tr style=\"text-align: right;\">\n",
       "      <th></th>\n",
       "      <th>licenses_year</th>\n",
       "      <th>licenses_region</th>\n",
       "      <th>driving_licenses</th>\n",
       "      <th>traffic_year</th>\n",
       "      <th>traffic_region</th>\n",
       "      <th>traffic_accidents</th>\n",
       "      <th>traffic_dead</th>\n",
       "      <th>traffic_injured</th>\n",
       "    </tr>\n",
       "  </thead>\n",
       "  <tbody>\n",
       "    <tr>\n",
       "      <th>0</th>\n",
       "      <td>2018</td>\n",
       "      <td>Riyadh</td>\n",
       "      <td>493224</td>\n",
       "      <td>2018</td>\n",
       "      <td>Riyadh</td>\n",
       "      <td>79884</td>\n",
       "      <td>1091</td>\n",
       "      <td>4554</td>\n",
       "    </tr>\n",
       "    <tr>\n",
       "      <th>1</th>\n",
       "      <td>2018</td>\n",
       "      <td>Al-Qaseem</td>\n",
       "      <td>4457</td>\n",
       "      <td>2018</td>\n",
       "      <td>Al-Qaseem</td>\n",
       "      <td>17510</td>\n",
       "      <td>225</td>\n",
       "      <td>1269</td>\n",
       "    </tr>\n",
       "    <tr>\n",
       "      <th>2</th>\n",
       "      <td>2018</td>\n",
       "      <td>Hail</td>\n",
       "      <td>39575</td>\n",
       "      <td>2018</td>\n",
       "      <td>Hail</td>\n",
       "      <td>6955</td>\n",
       "      <td>193</td>\n",
       "      <td>912</td>\n",
       "    </tr>\n",
       "    <tr>\n",
       "      <th>3</th>\n",
       "      <td>2018</td>\n",
       "      <td>Najran</td>\n",
       "      <td>7431</td>\n",
       "      <td>2018</td>\n",
       "      <td>Najran</td>\n",
       "      <td>3124</td>\n",
       "      <td>176</td>\n",
       "      <td>654</td>\n",
       "    </tr>\n",
       "    <tr>\n",
       "      <th>4</th>\n",
       "      <td>2018</td>\n",
       "      <td>Makkah</td>\n",
       "      <td>144873</td>\n",
       "      <td>2018</td>\n",
       "      <td>Makkah</td>\n",
       "      <td>103973</td>\n",
       "      <td>1301</td>\n",
       "      <td>9931</td>\n",
       "    </tr>\n",
       "    <tr>\n",
       "      <th>5</th>\n",
       "      <td>2018</td>\n",
       "      <td>Jazan</td>\n",
       "      <td>12265</td>\n",
       "      <td>2018</td>\n",
       "      <td>Jazan</td>\n",
       "      <td>19572</td>\n",
       "      <td>563</td>\n",
       "      <td>2112</td>\n",
       "    </tr>\n",
       "    <tr>\n",
       "      <th>6</th>\n",
       "      <td>2018</td>\n",
       "      <td>Madinah</td>\n",
       "      <td>23335</td>\n",
       "      <td>2018</td>\n",
       "      <td>Madinah</td>\n",
       "      <td>20547</td>\n",
       "      <td>483</td>\n",
       "      <td>2666</td>\n",
       "    </tr>\n",
       "    <tr>\n",
       "      <th>7</th>\n",
       "      <td>2018</td>\n",
       "      <td>Assir</td>\n",
       "      <td>22362</td>\n",
       "      <td>2018</td>\n",
       "      <td>Assir</td>\n",
       "      <td>25964</td>\n",
       "      <td>696</td>\n",
       "      <td>2192</td>\n",
       "    </tr>\n",
       "    <tr>\n",
       "      <th>8</th>\n",
       "      <td>2018</td>\n",
       "      <td>Al-Jouf</td>\n",
       "      <td>6834</td>\n",
       "      <td>2018</td>\n",
       "      <td>Al-Jouf</td>\n",
       "      <td>7355</td>\n",
       "      <td>157</td>\n",
       "      <td>618</td>\n",
       "    </tr>\n",
       "    <tr>\n",
       "      <th>9</th>\n",
       "      <td>2018</td>\n",
       "      <td>Eastern</td>\n",
       "      <td>131639</td>\n",
       "      <td>2018</td>\n",
       "      <td>Eastern</td>\n",
       "      <td>45077</td>\n",
       "      <td>661</td>\n",
       "      <td>2969</td>\n",
       "    </tr>\n",
       "    <tr>\n",
       "      <th>10</th>\n",
       "      <td>2018</td>\n",
       "      <td>Tabouk</td>\n",
       "      <td>7613</td>\n",
       "      <td>2018</td>\n",
       "      <td>Tabouk</td>\n",
       "      <td>10034</td>\n",
       "      <td>293</td>\n",
       "      <td>977</td>\n",
       "    </tr>\n",
       "    <tr>\n",
       "      <th>11</th>\n",
       "      <td>2018</td>\n",
       "      <td>Al-Baha</td>\n",
       "      <td>2575</td>\n",
       "      <td>2018</td>\n",
       "      <td>Al-Baha</td>\n",
       "      <td>1764</td>\n",
       "      <td>111</td>\n",
       "      <td>935</td>\n",
       "    </tr>\n",
       "  </tbody>\n",
       "</table>\n",
       "</div>"
      ],
      "text/plain": [
       "    licenses_year licenses_region  driving_licenses  traffic_year  \\\n",
       "0            2018          Riyadh            493224          2018   \n",
       "1            2018       Al-Qaseem              4457          2018   \n",
       "2            2018            Hail             39575          2018   \n",
       "3            2018          Najran              7431          2018   \n",
       "4            2018          Makkah            144873          2018   \n",
       "5            2018           Jazan             12265          2018   \n",
       "6            2018         Madinah             23335          2018   \n",
       "7            2018           Assir             22362          2018   \n",
       "8            2018         Al-Jouf              6834          2018   \n",
       "9            2018         Eastern            131639          2018   \n",
       "10           2018          Tabouk              7613          2018   \n",
       "11           2018         Al-Baha              2575          2018   \n",
       "\n",
       "   traffic_region  traffic_accidents  traffic_dead  traffic_injured  \n",
       "0          Riyadh              79884          1091             4554  \n",
       "1       Al-Qaseem              17510           225             1269  \n",
       "2            Hail               6955           193              912  \n",
       "3          Najran               3124           176              654  \n",
       "4          Makkah             103973          1301             9931  \n",
       "5           Jazan              19572           563             2112  \n",
       "6         Madinah              20547           483             2666  \n",
       "7           Assir              25964           696             2192  \n",
       "8         Al-Jouf               7355           157              618  \n",
       "9         Eastern              45077           661             2969  \n",
       "10         Tabouk              10034           293              977  \n",
       "11        Al-Baha               1764           111              935  "
      ]
     },
     "execution_count": 169,
     "metadata": {},
     "output_type": "execute_result"
    }
   ],
   "source": [
    "traffic_driving_2018_2019"
   ]
  },
  {
   "cell_type": "markdown",
   "metadata": {},
   "source": [
    "Save data cleaned, merged dataframes"
   ]
  },
  {
   "cell_type": "code",
   "execution_count": 170,
   "metadata": {},
   "outputs": [],
   "source": [
    "traffic_driving_2018_2019.to_csv('../data/combined_datasets2018_2019.csv')"
   ]
  },
  {
   "cell_type": "markdown",
   "metadata": {},
   "source": [
    "visualize correlations between all numeric features"
   ]
  },
  {
   "cell_type": "code",
   "execution_count": 171,
   "metadata": {},
   "outputs": [
    {
     "data": {
      "text/plain": [
       "Text(0.5, 1.0, ' correlations between all features')"
      ]
     },
     "execution_count": 171,
     "metadata": {},
     "output_type": "execute_result"
    },
    {
     "data": {
      "image/png": "[encoded data removed]",
      "text/plain": [
       "<Figure size 1152x576 with 2 Axes>"
      ]
     },
     "metadata": {
      "needs_background": "light"
     },
     "output_type": "display_data"
    }
   ],
   "source": [
    "fig, ax7 = plt.subplots(figsize=(16,8))\n",
    "sns.heatmap(traffic_driving_2018_2019.corr(), annot=True,ax=ax7).set_title(' correlations between all features')"
   ]
  },
  {
   "cell_type": "markdown",
   "metadata": {},
   "source": [
    "We note that there is a high correlation between the increase in accidents and the issuance of licenses"
   ]
  },
  {
   "cell_type": "code",
   "execution_count": 172,
   "metadata": {},
   "outputs": [
    {
     "data": {
      "text/plain": [
       "Index(['licenses_year', 'licenses_region', 'driving_licenses', 'traffic_year',\n",
       "       'traffic_region', 'traffic_accidents', 'traffic_dead',\n",
       "       'traffic_injured'],\n",
       "      dtype='object')"
      ]
     },
     "execution_count": 172,
     "metadata": {},
     "output_type": "execute_result"
    }
   ],
   "source": [
    "traffic_driving_2018_2019.columns"
   ]
  },
  {
   "cell_type": "code",
   "execution_count": 173,
   "metadata": {},
   "outputs": [],
   "source": [
    "list_of_columns=['driving_licenses','traffic_accidents']"
   ]
  },
  {
   "cell_type": "code",
   "execution_count": 174,
   "metadata": {},
   "outputs": [],
   "source": [
    "list_of_titles=['Driving Licenses number','Traffic Accidents number']"
   ]
  },
  {
   "cell_type": "code",
   "execution_count": 175,
   "metadata": {},
   "outputs": [],
   "source": [
    "list_of_xlabels=['driving licenses','Number of Accidents']"
   ]
  },
  {
   "cell_type": "code",
   "execution_count": 176,
   "metadata": {
    "scrolled": false
   },
   "outputs": [
    {
     "data": {
      "image/png": "[encoded data removed]",
      "text/plain": [
       "<Figure size 1152x432 with 2 Axes>"
      ]
     },
     "metadata": {
      "needs_background": "light"
     },
     "output_type": "display_data"
    }
   ],
   "source": [
    "subplot_histograms(traffic_driving_2018_2019,list_of_columns,list_of_titles,list_of_xlabels)"
   ]
  },
  {
   "cell_type": "code",
   "execution_count": 177,
   "metadata": {},
   "outputs": [],
   "source": [
    "traffic_drivingـstandardized = var_standardized(traffic_driving_2018_2019)"
   ]
  },
  {
   "cell_type": "code",
   "execution_count": 178,
   "metadata": {},
   "outputs": [
    {
     "data": {
      "image/png": "[encoded data removed]",
      "text/plain": [
       "<Figure size 1152x576 with 1 Axes>"
      ]
     },
     "metadata": {
      "needs_background": "light"
     },
     "output_type": "display_data"
    }
   ],
   "source": [
    "fig,ax=plt.subplots(figsize=(16,8))\n",
    "\n",
    "sns.boxplot(data=traffic_drivingـstandardized, orient='h', fliersize=5, \n",
    "                 linewidth=3, notch=True, saturation=0.5, ax=ax)\n",
    "plt.title('This plot is from traffic_driving data frame');"
   ]
  },
  {
   "cell_type": "markdown",
   "metadata": {},
   "source": [
    "Boxplots demonstrate central tendency and spread in variables. In a certain sense, these are somewhat redundant with histograms,  be better able to identify clear outliers or differences in IQR, etc."
   ]
  },
  {
   "cell_type": "markdown",
   "metadata": {},
   "source": [
    "The relationship between the number of accidents and driving licenses issued in 2018"
   ]
  },
  {
   "cell_type": "code",
   "execution_count": 179,
   "metadata": {
    "scrolled": false
   },
   "outputs": [
    {
     "data": {
      "text/plain": [
       "<matplotlib.legend.Legend at 0x7ffd36910b50>"
      ]
     },
     "execution_count": 179,
     "metadata": {},
     "output_type": "execute_result"
    },
    {
     "data": {
      "image/png": "[encoded data removed]",
      "text/plain": [
       "<Figure size 1152x576 with 1 Axes>"
      ]
     },
     "metadata": {
      "needs_background": "light"
     },
     "output_type": "display_data"
    }
   ],
   "source": [
    "fig = plt.figure(figsize=(16,8))\n",
    "sns.scatterplot(data = traffic_driving_2018_2019, x='driving_licenses' ,  y='traffic_accidents', hue='licenses_region', s=100, color='dodgerblue')\n",
    "plt.legend(loc='upper right', bbox_to_anchor=( 1.4,1),\n",
    "          fancybox=True, shadow=True )\n",
    "plt.title(\"driving licenses and No. of Accidents in 2018\")\n",
    "\n",
    "plt.legend(loc='upper center', bbox_to_anchor=(1.3, 1),\n",
    "          fancybox=True, shadow=True )"
   ]
  },
  {
   "cell_type": "markdown",
   "metadata": {},
   "source": [
    "## Conclusions and Recommendations"
   ]
  },
  {
   "cell_type": "markdown",
   "metadata": {},
   "source": [
    "- Based on your exploration of the data, what are you key takeaways and recommendations?\n",
    "- Are there additional data you desire that would better inform your investigations?"
   ]
  },
  {
   "cell_type": "markdown",
   "metadata": {},
   "source": [
    "Riyadh, Makkah and  Eastern are the main cities in Saudi Arabia, and to measure the impact of the Saudi women's driving decision on issuing licenses and accidents in Saudi Arabia, we compare the years 2016-2017 before the implementation of the decision and the year 2018 after implementation. In 2016, Riyadh issued nearly 250,000 licenses per year, and they nearly doubled. In 2017, after the decision to allow women to drive was issued, and they remained at 500,000 in 2018 after the implementation of the decision. As for accidents, Riyadh in 2016 amounted to approximately 140,000 accidents, and in 2017, reduced to 100,000 accidents, and compared to 2018, the number of accidents reached 80,000, which is nearly half the number of accidents before the decision was issued. \n",
    "\n",
    "\n",
    " In Makkah and Eastern, the licenses in 2016-2017 were approximately 150,000, and in 2018 there was no significant increase. As for the accidents, in the years 2016-2017, there were approximately 140,000 accidents in Makkah and nearly 100,000accidents in Eastern, while in 2018 the percentage decreased dramatically to 100,000 in Makkah and 40,000 in Eastern.\n",
    " \n",
    "This indicates proof of women's ability to drive and their commitment to traffic and safety regulations [see link here](https://www.stats.gov.sa/ar/news/384)"
   ]
  }
 ],
 "metadata": {
  "anaconda-cloud": {},
  "kernelspec": {
   "display_name": "Python 3",
   "language": "python",
   "name": "python3"
  },
  "language_info": {
   "codemirror_mode": {
    "name": "ipython",
    "version": 3
   },
   "file_extension": ".py",
   "mimetype": "text/x-python",
   "name": "python",
   "nbconvert_exporter": "python",
   "pygments_lexer": "ipython3",
   "version": "3.7.4"
  }
 },
 "nbformat": 4,
 "nbformat_minor": 2
}
